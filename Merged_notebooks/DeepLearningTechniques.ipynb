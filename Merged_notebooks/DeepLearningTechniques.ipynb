{
 "cells": [
  {
   "cell_type": "markdown",
   "id": "known-algeria",
   "metadata": {},
   "source": [
    "# Chapter 16 - Neural Networks"
   ]
  },
  {
   "cell_type": "markdown",
   "id": "outstanding-colorado",
   "metadata": {},
   "source": [
    "## Listing 16-1. Importing the data"
   ]
  },
  {
   "cell_type": "code",
   "execution_count": 1,
   "id": "light-allowance",
   "metadata": {},
   "outputs": [],
   "source": [
    "import keras\n",
    "import pandas as pd\n",
    "from zipfile import ZipFile\n",
    "import os\n",
    "\n",
    "uri = \"https://storage.googleapis.com/tensorflow/tf-keras-datasets/jena_climate_2009_2016.csv.zip\"\n",
    "zip_path = keras.utils.get_file(origin=uri, fname=\"jena_climate_2009_2016.csv.zip\")\n",
    "zip_file = ZipFile(zip_path)\n",
    "zip_file.extractall()\n",
    "csv_path = \"jena_climate_2009_2016.csv\"\n",
    "\n",
    "df = pd.read_csv(csv_path)\n",
    "del zip_file\n",
    "\n",
    "df = df.drop('Date Time', axis=1)\n",
    "cols = ['p',  'T', 'Tpot', 'Tdew', 'rh', 'VPmax', 'VPact', 'VPdef', 'sh', 'H2OC', 'rho', 'wv', 'mwv', 'wd']\n",
    "df.columns = cols\n"
   ]
  },
  {
   "cell_type": "markdown",
   "id": "useful-finance",
   "metadata": {},
   "source": [
    "## Listing 16-2. Creating the lagged dataset"
   ]
  },
  {
   "cell_type": "code",
   "execution_count": 2,
   "id": "antique-surname",
   "metadata": {},
   "outputs": [],
   "source": [
    "y = df.loc[2*72:,'T']\n",
    "lagged_x = []\n",
    "for lag in range(72,2*72,12):\n",
    "  lagged = df.shift(lag)\n",
    "  lagged.columns = [x + '.lag' + str(lag) for x in lagged.columns]\n",
    "  lagged_x.append(lagged)\n",
    "\n",
    "df = pd.concat(lagged_x, axis=1)\n",
    "df = df.iloc[2*72:,:] #drop missing values due to lags\n"
   ]
  },
  {
   "cell_type": "markdown",
   "id": "sexual-contract",
   "metadata": {},
   "source": [
    "## Listing 16-3. Fitting the MinMaxScaler"
   ]
  },
  {
   "cell_type": "code",
   "execution_count": 3,
   "id": "superior-asian",
   "metadata": {},
   "outputs": [],
   "source": [
    "# apply a min max scaler\n",
    "from sklearn.preprocessing import MinMaxScaler\n",
    "scaler = MinMaxScaler()\n",
    "df = pd.DataFrame(scaler.fit_transform(df), columns = df.columns)\n"
   ]
  },
  {
   "cell_type": "markdown",
   "id": "experienced-masters",
   "metadata": {},
   "source": [
    "## Listing 16-3. Fitting the full PCA"
   ]
  },
  {
   "cell_type": "code",
   "execution_count": 4,
   "id": "aggressive-balloon",
   "metadata": {},
   "outputs": [
    {
     "data": {
      "text/html": [
       "<style>#sk-container-id-1 {\n",
       "  /* Definition of color scheme common for light and dark mode */\n",
       "  --sklearn-color-text: black;\n",
       "  --sklearn-color-line: gray;\n",
       "  /* Definition of color scheme for unfitted estimators */\n",
       "  --sklearn-color-unfitted-level-0: #fff5e6;\n",
       "  --sklearn-color-unfitted-level-1: #f6e4d2;\n",
       "  --sklearn-color-unfitted-level-2: #ffe0b3;\n",
       "  --sklearn-color-unfitted-level-3: chocolate;\n",
       "  /* Definition of color scheme for fitted estimators */\n",
       "  --sklearn-color-fitted-level-0: #f0f8ff;\n",
       "  --sklearn-color-fitted-level-1: #d4ebff;\n",
       "  --sklearn-color-fitted-level-2: #b3dbfd;\n",
       "  --sklearn-color-fitted-level-3: cornflowerblue;\n",
       "\n",
       "  /* Specific color for light theme */\n",
       "  --sklearn-color-text-on-default-background: var(--sg-text-color, var(--theme-code-foreground, var(--jp-content-font-color1, black)));\n",
       "  --sklearn-color-background: var(--sg-background-color, var(--theme-background, var(--jp-layout-color0, white)));\n",
       "  --sklearn-color-border-box: var(--sg-text-color, var(--theme-code-foreground, var(--jp-content-font-color1, black)));\n",
       "  --sklearn-color-icon: #696969;\n",
       "\n",
       "  @media (prefers-color-scheme: dark) {\n",
       "    /* Redefinition of color scheme for dark theme */\n",
       "    --sklearn-color-text-on-default-background: var(--sg-text-color, var(--theme-code-foreground, var(--jp-content-font-color1, white)));\n",
       "    --sklearn-color-background: var(--sg-background-color, var(--theme-background, var(--jp-layout-color0, #111)));\n",
       "    --sklearn-color-border-box: var(--sg-text-color, var(--theme-code-foreground, var(--jp-content-font-color1, white)));\n",
       "    --sklearn-color-icon: #878787;\n",
       "  }\n",
       "}\n",
       "\n",
       "#sk-container-id-1 {\n",
       "  color: var(--sklearn-color-text);\n",
       "}\n",
       "\n",
       "#sk-container-id-1 pre {\n",
       "  padding: 0;\n",
       "}\n",
       "\n",
       "#sk-container-id-1 input.sk-hidden--visually {\n",
       "  border: 0;\n",
       "  clip: rect(1px 1px 1px 1px);\n",
       "  clip: rect(1px, 1px, 1px, 1px);\n",
       "  height: 1px;\n",
       "  margin: -1px;\n",
       "  overflow: hidden;\n",
       "  padding: 0;\n",
       "  position: absolute;\n",
       "  width: 1px;\n",
       "}\n",
       "\n",
       "#sk-container-id-1 div.sk-dashed-wrapped {\n",
       "  border: 1px dashed var(--sklearn-color-line);\n",
       "  margin: 0 0.4em 0.5em 0.4em;\n",
       "  box-sizing: border-box;\n",
       "  padding-bottom: 0.4em;\n",
       "  background-color: var(--sklearn-color-background);\n",
       "}\n",
       "\n",
       "#sk-container-id-1 div.sk-container {\n",
       "  /* jupyter's `normalize.less` sets `[hidden] { display: none; }`\n",
       "     but bootstrap.min.css set `[hidden] { display: none !important; }`\n",
       "     so we also need the `!important` here to be able to override the\n",
       "     default hidden behavior on the sphinx rendered scikit-learn.org.\n",
       "     See: https://github.com/scikit-learn/scikit-learn/issues/21755 */\n",
       "  display: inline-block !important;\n",
       "  position: relative;\n",
       "}\n",
       "\n",
       "#sk-container-id-1 div.sk-text-repr-fallback {\n",
       "  display: none;\n",
       "}\n",
       "\n",
       "div.sk-parallel-item,\n",
       "div.sk-serial,\n",
       "div.sk-item {\n",
       "  /* draw centered vertical line to link estimators */\n",
       "  background-image: linear-gradient(var(--sklearn-color-text-on-default-background), var(--sklearn-color-text-on-default-background));\n",
       "  background-size: 2px 100%;\n",
       "  background-repeat: no-repeat;\n",
       "  background-position: center center;\n",
       "}\n",
       "\n",
       "/* Parallel-specific style estimator block */\n",
       "\n",
       "#sk-container-id-1 div.sk-parallel-item::after {\n",
       "  content: \"\";\n",
       "  width: 100%;\n",
       "  border-bottom: 2px solid var(--sklearn-color-text-on-default-background);\n",
       "  flex-grow: 1;\n",
       "}\n",
       "\n",
       "#sk-container-id-1 div.sk-parallel {\n",
       "  display: flex;\n",
       "  align-items: stretch;\n",
       "  justify-content: center;\n",
       "  background-color: var(--sklearn-color-background);\n",
       "  position: relative;\n",
       "}\n",
       "\n",
       "#sk-container-id-1 div.sk-parallel-item {\n",
       "  display: flex;\n",
       "  flex-direction: column;\n",
       "}\n",
       "\n",
       "#sk-container-id-1 div.sk-parallel-item:first-child::after {\n",
       "  align-self: flex-end;\n",
       "  width: 50%;\n",
       "}\n",
       "\n",
       "#sk-container-id-1 div.sk-parallel-item:last-child::after {\n",
       "  align-self: flex-start;\n",
       "  width: 50%;\n",
       "}\n",
       "\n",
       "#sk-container-id-1 div.sk-parallel-item:only-child::after {\n",
       "  width: 0;\n",
       "}\n",
       "\n",
       "/* Serial-specific style estimator block */\n",
       "\n",
       "#sk-container-id-1 div.sk-serial {\n",
       "  display: flex;\n",
       "  flex-direction: column;\n",
       "  align-items: center;\n",
       "  background-color: var(--sklearn-color-background);\n",
       "  padding-right: 1em;\n",
       "  padding-left: 1em;\n",
       "}\n",
       "\n",
       "\n",
       "/* Toggleable style: style used for estimator/Pipeline/ColumnTransformer box that is\n",
       "clickable and can be expanded/collapsed.\n",
       "- Pipeline and ColumnTransformer use this feature and define the default style\n",
       "- Estimators will overwrite some part of the style using the `sk-estimator` class\n",
       "*/\n",
       "\n",
       "/* Pipeline and ColumnTransformer style (default) */\n",
       "\n",
       "#sk-container-id-1 div.sk-toggleable {\n",
       "  /* Default theme specific background. It is overwritten whether we have a\n",
       "  specific estimator or a Pipeline/ColumnTransformer */\n",
       "  background-color: var(--sklearn-color-background);\n",
       "}\n",
       "\n",
       "/* Toggleable label */\n",
       "#sk-container-id-1 label.sk-toggleable__label {\n",
       "  cursor: pointer;\n",
       "  display: block;\n",
       "  width: 100%;\n",
       "  margin-bottom: 0;\n",
       "  padding: 0.5em;\n",
       "  box-sizing: border-box;\n",
       "  text-align: center;\n",
       "}\n",
       "\n",
       "#sk-container-id-1 label.sk-toggleable__label-arrow:before {\n",
       "  /* Arrow on the left of the label */\n",
       "  content: \"▸\";\n",
       "  float: left;\n",
       "  margin-right: 0.25em;\n",
       "  color: var(--sklearn-color-icon);\n",
       "}\n",
       "\n",
       "#sk-container-id-1 label.sk-toggleable__label-arrow:hover:before {\n",
       "  color: var(--sklearn-color-text);\n",
       "}\n",
       "\n",
       "/* Toggleable content - dropdown */\n",
       "\n",
       "#sk-container-id-1 div.sk-toggleable__content {\n",
       "  max-height: 0;\n",
       "  max-width: 0;\n",
       "  overflow: hidden;\n",
       "  text-align: left;\n",
       "  /* unfitted */\n",
       "  background-color: var(--sklearn-color-unfitted-level-0);\n",
       "}\n",
       "\n",
       "#sk-container-id-1 div.sk-toggleable__content.fitted {\n",
       "  /* fitted */\n",
       "  background-color: var(--sklearn-color-fitted-level-0);\n",
       "}\n",
       "\n",
       "#sk-container-id-1 div.sk-toggleable__content pre {\n",
       "  margin: 0.2em;\n",
       "  border-radius: 0.25em;\n",
       "  color: var(--sklearn-color-text);\n",
       "  /* unfitted */\n",
       "  background-color: var(--sklearn-color-unfitted-level-0);\n",
       "}\n",
       "\n",
       "#sk-container-id-1 div.sk-toggleable__content.fitted pre {\n",
       "  /* unfitted */\n",
       "  background-color: var(--sklearn-color-fitted-level-0);\n",
       "}\n",
       "\n",
       "#sk-container-id-1 input.sk-toggleable__control:checked~div.sk-toggleable__content {\n",
       "  /* Expand drop-down */\n",
       "  max-height: 200px;\n",
       "  max-width: 100%;\n",
       "  overflow: auto;\n",
       "}\n",
       "\n",
       "#sk-container-id-1 input.sk-toggleable__control:checked~label.sk-toggleable__label-arrow:before {\n",
       "  content: \"▾\";\n",
       "}\n",
       "\n",
       "/* Pipeline/ColumnTransformer-specific style */\n",
       "\n",
       "#sk-container-id-1 div.sk-label input.sk-toggleable__control:checked~label.sk-toggleable__label {\n",
       "  color: var(--sklearn-color-text);\n",
       "  background-color: var(--sklearn-color-unfitted-level-2);\n",
       "}\n",
       "\n",
       "#sk-container-id-1 div.sk-label.fitted input.sk-toggleable__control:checked~label.sk-toggleable__label {\n",
       "  background-color: var(--sklearn-color-fitted-level-2);\n",
       "}\n",
       "\n",
       "/* Estimator-specific style */\n",
       "\n",
       "/* Colorize estimator box */\n",
       "#sk-container-id-1 div.sk-estimator input.sk-toggleable__control:checked~label.sk-toggleable__label {\n",
       "  /* unfitted */\n",
       "  background-color: var(--sklearn-color-unfitted-level-2);\n",
       "}\n",
       "\n",
       "#sk-container-id-1 div.sk-estimator.fitted input.sk-toggleable__control:checked~label.sk-toggleable__label {\n",
       "  /* fitted */\n",
       "  background-color: var(--sklearn-color-fitted-level-2);\n",
       "}\n",
       "\n",
       "#sk-container-id-1 div.sk-label label.sk-toggleable__label,\n",
       "#sk-container-id-1 div.sk-label label {\n",
       "  /* The background is the default theme color */\n",
       "  color: var(--sklearn-color-text-on-default-background);\n",
       "}\n",
       "\n",
       "/* On hover, darken the color of the background */\n",
       "#sk-container-id-1 div.sk-label:hover label.sk-toggleable__label {\n",
       "  color: var(--sklearn-color-text);\n",
       "  background-color: var(--sklearn-color-unfitted-level-2);\n",
       "}\n",
       "\n",
       "/* Label box, darken color on hover, fitted */\n",
       "#sk-container-id-1 div.sk-label.fitted:hover label.sk-toggleable__label.fitted {\n",
       "  color: var(--sklearn-color-text);\n",
       "  background-color: var(--sklearn-color-fitted-level-2);\n",
       "}\n",
       "\n",
       "/* Estimator label */\n",
       "\n",
       "#sk-container-id-1 div.sk-label label {\n",
       "  font-family: monospace;\n",
       "  font-weight: bold;\n",
       "  display: inline-block;\n",
       "  line-height: 1.2em;\n",
       "}\n",
       "\n",
       "#sk-container-id-1 div.sk-label-container {\n",
       "  text-align: center;\n",
       "}\n",
       "\n",
       "/* Estimator-specific */\n",
       "#sk-container-id-1 div.sk-estimator {\n",
       "  font-family: monospace;\n",
       "  border: 1px dotted var(--sklearn-color-border-box);\n",
       "  border-radius: 0.25em;\n",
       "  box-sizing: border-box;\n",
       "  margin-bottom: 0.5em;\n",
       "  /* unfitted */\n",
       "  background-color: var(--sklearn-color-unfitted-level-0);\n",
       "}\n",
       "\n",
       "#sk-container-id-1 div.sk-estimator.fitted {\n",
       "  /* fitted */\n",
       "  background-color: var(--sklearn-color-fitted-level-0);\n",
       "}\n",
       "\n",
       "/* on hover */\n",
       "#sk-container-id-1 div.sk-estimator:hover {\n",
       "  /* unfitted */\n",
       "  background-color: var(--sklearn-color-unfitted-level-2);\n",
       "}\n",
       "\n",
       "#sk-container-id-1 div.sk-estimator.fitted:hover {\n",
       "  /* fitted */\n",
       "  background-color: var(--sklearn-color-fitted-level-2);\n",
       "}\n",
       "\n",
       "/* Specification for estimator info (e.g. \"i\" and \"?\") */\n",
       "\n",
       "/* Common style for \"i\" and \"?\" */\n",
       "\n",
       ".sk-estimator-doc-link,\n",
       "a:link.sk-estimator-doc-link,\n",
       "a:visited.sk-estimator-doc-link {\n",
       "  float: right;\n",
       "  font-size: smaller;\n",
       "  line-height: 1em;\n",
       "  font-family: monospace;\n",
       "  background-color: var(--sklearn-color-background);\n",
       "  border-radius: 1em;\n",
       "  height: 1em;\n",
       "  width: 1em;\n",
       "  text-decoration: none !important;\n",
       "  margin-left: 1ex;\n",
       "  /* unfitted */\n",
       "  border: var(--sklearn-color-unfitted-level-1) 1pt solid;\n",
       "  color: var(--sklearn-color-unfitted-level-1);\n",
       "}\n",
       "\n",
       ".sk-estimator-doc-link.fitted,\n",
       "a:link.sk-estimator-doc-link.fitted,\n",
       "a:visited.sk-estimator-doc-link.fitted {\n",
       "  /* fitted */\n",
       "  border: var(--sklearn-color-fitted-level-1) 1pt solid;\n",
       "  color: var(--sklearn-color-fitted-level-1);\n",
       "}\n",
       "\n",
       "/* On hover */\n",
       "div.sk-estimator:hover .sk-estimator-doc-link:hover,\n",
       ".sk-estimator-doc-link:hover,\n",
       "div.sk-label-container:hover .sk-estimator-doc-link:hover,\n",
       ".sk-estimator-doc-link:hover {\n",
       "  /* unfitted */\n",
       "  background-color: var(--sklearn-color-unfitted-level-3);\n",
       "  color: var(--sklearn-color-background);\n",
       "  text-decoration: none;\n",
       "}\n",
       "\n",
       "div.sk-estimator.fitted:hover .sk-estimator-doc-link.fitted:hover,\n",
       ".sk-estimator-doc-link.fitted:hover,\n",
       "div.sk-label-container:hover .sk-estimator-doc-link.fitted:hover,\n",
       ".sk-estimator-doc-link.fitted:hover {\n",
       "  /* fitted */\n",
       "  background-color: var(--sklearn-color-fitted-level-3);\n",
       "  color: var(--sklearn-color-background);\n",
       "  text-decoration: none;\n",
       "}\n",
       "\n",
       "/* Span, style for the box shown on hovering the info icon */\n",
       ".sk-estimator-doc-link span {\n",
       "  display: none;\n",
       "  z-index: 9999;\n",
       "  position: relative;\n",
       "  font-weight: normal;\n",
       "  right: .2ex;\n",
       "  padding: .5ex;\n",
       "  margin: .5ex;\n",
       "  width: min-content;\n",
       "  min-width: 20ex;\n",
       "  max-width: 50ex;\n",
       "  color: var(--sklearn-color-text);\n",
       "  box-shadow: 2pt 2pt 4pt #999;\n",
       "  /* unfitted */\n",
       "  background: var(--sklearn-color-unfitted-level-0);\n",
       "  border: .5pt solid var(--sklearn-color-unfitted-level-3);\n",
       "}\n",
       "\n",
       ".sk-estimator-doc-link.fitted span {\n",
       "  /* fitted */\n",
       "  background: var(--sklearn-color-fitted-level-0);\n",
       "  border: var(--sklearn-color-fitted-level-3);\n",
       "}\n",
       "\n",
       ".sk-estimator-doc-link:hover span {\n",
       "  display: block;\n",
       "}\n",
       "\n",
       "/* \"?\"-specific style due to the `<a>` HTML tag */\n",
       "\n",
       "#sk-container-id-1 a.estimator_doc_link {\n",
       "  float: right;\n",
       "  font-size: 1rem;\n",
       "  line-height: 1em;\n",
       "  font-family: monospace;\n",
       "  background-color: var(--sklearn-color-background);\n",
       "  border-radius: 1rem;\n",
       "  height: 1rem;\n",
       "  width: 1rem;\n",
       "  text-decoration: none;\n",
       "  /* unfitted */\n",
       "  color: var(--sklearn-color-unfitted-level-1);\n",
       "  border: var(--sklearn-color-unfitted-level-1) 1pt solid;\n",
       "}\n",
       "\n",
       "#sk-container-id-1 a.estimator_doc_link.fitted {\n",
       "  /* fitted */\n",
       "  border: var(--sklearn-color-fitted-level-1) 1pt solid;\n",
       "  color: var(--sklearn-color-fitted-level-1);\n",
       "}\n",
       "\n",
       "/* On hover */\n",
       "#sk-container-id-1 a.estimator_doc_link:hover {\n",
       "  /* unfitted */\n",
       "  background-color: var(--sklearn-color-unfitted-level-3);\n",
       "  color: var(--sklearn-color-background);\n",
       "  text-decoration: none;\n",
       "}\n",
       "\n",
       "#sk-container-id-1 a.estimator_doc_link.fitted:hover {\n",
       "  /* fitted */\n",
       "  background-color: var(--sklearn-color-fitted-level-3);\n",
       "}\n",
       "</style><div id=\"sk-container-id-1\" class=\"sk-top-container\"><div class=\"sk-text-repr-fallback\"><pre>PCA()</pre><b>In a Jupyter environment, please rerun this cell to show the HTML representation or trust the notebook. <br />On GitHub, the HTML representation is unable to render, please try loading this page with nbviewer.org.</b></div><div class=\"sk-container\" hidden><div class=\"sk-item\"><div class=\"sk-estimator fitted sk-toggleable\"><input class=\"sk-toggleable__control sk-hidden--visually\" id=\"sk-estimator-id-1\" type=\"checkbox\" checked><label for=\"sk-estimator-id-1\" class=\"sk-toggleable__label fitted sk-toggleable__label-arrow fitted\">&nbsp;&nbsp;PCA<a class=\"sk-estimator-doc-link fitted\" rel=\"noreferrer\" target=\"_blank\" href=\"https://scikit-learn.org/1.4/modules/generated/sklearn.decomposition.PCA.html\">?<span>Documentation for PCA</span></a><span class=\"sk-estimator-doc-link fitted\">i<span>Fitted</span></span></label><div class=\"sk-toggleable__content fitted\"><pre>PCA()</pre></div> </div></div></div></div>"
      ],
      "text/plain": [
       "PCA()"
      ]
     },
     "execution_count": 4,
     "metadata": {},
     "output_type": "execute_result"
    }
   ],
   "source": [
    "# Fit a PCA with maximum number of components\n",
    "from sklearn.decomposition import PCA\n",
    "mypca = PCA()\n",
    "mypca.fit(df)\n"
   ]
  },
  {
   "cell_type": "markdown",
   "id": "behavioral-housing",
   "metadata": {},
   "source": [
    "## Listing 16-4. Fitting the full PCA"
   ]
  },
  {
   "cell_type": "code",
   "execution_count": 5,
   "id": "pointed-parks",
   "metadata": {},
   "outputs": [
    {
     "data": {
      "image/png": "[encoded data removed]",
      "text/plain": [
       "<Figure size 640x480 with 1 Axes>"
      ]
     },
     "metadata": {},
     "output_type": "display_data"
    }
   ],
   "source": [
    "# Make a scree plot\n",
    "import matplotlib.pyplot as plt\n",
    "plt.plot(mypca.explained_variance_ratio_)\n",
    "plt.show()\n"
   ]
  },
  {
   "cell_type": "markdown",
   "id": "conditional-vermont",
   "metadata": {},
   "source": [
    "## Listing 16-5. Fitting the PCA with 10 components"
   ]
  },
  {
   "cell_type": "code",
   "execution_count": 6,
   "id": "secondary-zealand",
   "metadata": {},
   "outputs": [],
   "source": [
    "mypca = PCA(10)\n",
    "df = mypca.fit_transform(df)\n"
   ]
  },
  {
   "cell_type": "markdown",
   "id": "tender-overhead",
   "metadata": {},
   "source": [
    "## Listing 16-6. Train test split"
   ]
  },
  {
   "cell_type": "code",
   "execution_count": 7,
   "id": "greenhouse-running",
   "metadata": {},
   "outputs": [],
   "source": [
    "from sklearn.model_selection import train_test_split\n",
    "\n",
    "X_train, X_test, y_train, y_test = train_test_split(df, y, test_size=0.33, random_state=42)\n"
   ]
  },
  {
   "cell_type": "markdown",
   "id": "interstate-dispute",
   "metadata": {},
   "source": [
    "## Listing 16-7. Specify the model and its architecture"
   ]
  },
  {
   "cell_type": "code",
   "execution_count": 8,
   "id": "leading-princess",
   "metadata": {},
   "outputs": [
    {
     "name": "stderr",
     "output_type": "stream",
     "text": [
      "c:\\Users\\ALBER\\AppData\\Local\\Programs\\Python\\Python312\\Lib\\site-packages\\keras\\src\\layers\\core\\dense.py:87: UserWarning: Do not pass an `input_shape`/`input_dim` argument to a layer. When using Sequential models, prefer using an `Input(shape)` object as the first layer in the model instead.\n",
      "  super().__init__(activity_regularizer=activity_regularizer, **kwargs)\n"
     ]
    }
   ],
   "source": [
    "from tensorflow.keras.models import Sequential\n",
    "from tensorflow.keras.layers import Dense\n",
    "import random\n",
    "random.seed(42)\n",
    "\n",
    "simple_model = Sequential([\n",
    "  Dense(64, activation='relu', input_shape=(X_train.shape[1],)),\n",
    "  Dense(64, activation='relu'),\n",
    "  Dense(1),\n",
    "])\n"
   ]
  },
  {
   "cell_type": "markdown",
   "id": "thrown-discrimination",
   "metadata": {},
   "source": [
    "## Listing 16-8. Obtain a summary of the model architecture"
   ]
  },
  {
   "cell_type": "code",
   "execution_count": 9,
   "id": "spatial-draft",
   "metadata": {},
   "outputs": [
    {
     "data": {
      "text/html": [
       "<pre style=\"white-space:pre;overflow-x:auto;line-height:normal;font-family:Menlo,'DejaVu Sans Mono',consolas,'Courier New',monospace\"><span style=\"font-weight: bold\">Model: \"sequential\"</span>\n",
       "</pre>\n"
      ],
      "text/plain": [
       "\u001b[1mModel: \"sequential\"\u001b[0m\n"
      ]
     },
     "metadata": {},
     "output_type": "display_data"
    },
    {
     "data": {
      "text/html": [
       "<pre style=\"white-space:pre;overflow-x:auto;line-height:normal;font-family:Menlo,'DejaVu Sans Mono',consolas,'Courier New',monospace\">┏━━━━━━━━━━━━━━━━━━━━━━━━━━━━━━━━━┳━━━━━━━━━━━━━━━━━━━━━━━━┳━━━━━━━━━━━━━━━┓\n",
       "┃<span style=\"font-weight: bold\"> Layer (type)                    </span>┃<span style=\"font-weight: bold\"> Output Shape           </span>┃<span style=\"font-weight: bold\">       Param # </span>┃\n",
       "┡━━━━━━━━━━━━━━━━━━━━━━━━━━━━━━━━━╇━━━━━━━━━━━━━━━━━━━━━━━━╇━━━━━━━━━━━━━━━┩\n",
       "│ dense (<span style=\"color: #0087ff; text-decoration-color: #0087ff\">Dense</span>)                   │ (<span style=\"color: #00d7ff; text-decoration-color: #00d7ff\">None</span>, <span style=\"color: #00af00; text-decoration-color: #00af00\">64</span>)             │           <span style=\"color: #00af00; text-decoration-color: #00af00\">704</span> │\n",
       "├─────────────────────────────────┼────────────────────────┼───────────────┤\n",
       "│ dense_1 (<span style=\"color: #0087ff; text-decoration-color: #0087ff\">Dense</span>)                 │ (<span style=\"color: #00d7ff; text-decoration-color: #00d7ff\">None</span>, <span style=\"color: #00af00; text-decoration-color: #00af00\">64</span>)             │         <span style=\"color: #00af00; text-decoration-color: #00af00\">4,160</span> │\n",
       "├─────────────────────────────────┼────────────────────────┼───────────────┤\n",
       "│ dense_2 (<span style=\"color: #0087ff; text-decoration-color: #0087ff\">Dense</span>)                 │ (<span style=\"color: #00d7ff; text-decoration-color: #00d7ff\">None</span>, <span style=\"color: #00af00; text-decoration-color: #00af00\">1</span>)              │            <span style=\"color: #00af00; text-decoration-color: #00af00\">65</span> │\n",
       "└─────────────────────────────────┴────────────────────────┴───────────────┘\n",
       "</pre>\n"
      ],
      "text/plain": [
       "┏━━━━━━━━━━━━━━━━━━━━━━━━━━━━━━━━━┳━━━━━━━━━━━━━━━━━━━━━━━━┳━━━━━━━━━━━━━━━┓\n",
       "┃\u001b[1m \u001b[0m\u001b[1mLayer (type)                   \u001b[0m\u001b[1m \u001b[0m┃\u001b[1m \u001b[0m\u001b[1mOutput Shape          \u001b[0m\u001b[1m \u001b[0m┃\u001b[1m \u001b[0m\u001b[1m      Param #\u001b[0m\u001b[1m \u001b[0m┃\n",
       "┡━━━━━━━━━━━━━━━━━━━━━━━━━━━━━━━━━╇━━━━━━━━━━━━━━━━━━━━━━━━╇━━━━━━━━━━━━━━━┩\n",
       "│ dense (\u001b[38;5;33mDense\u001b[0m)                   │ (\u001b[38;5;45mNone\u001b[0m, \u001b[38;5;34m64\u001b[0m)             │           \u001b[38;5;34m704\u001b[0m │\n",
       "├─────────────────────────────────┼────────────────────────┼───────────────┤\n",
       "│ dense_1 (\u001b[38;5;33mDense\u001b[0m)                 │ (\u001b[38;5;45mNone\u001b[0m, \u001b[38;5;34m64\u001b[0m)             │         \u001b[38;5;34m4,160\u001b[0m │\n",
       "├─────────────────────────────────┼────────────────────────┼───────────────┤\n",
       "│ dense_2 (\u001b[38;5;33mDense\u001b[0m)                 │ (\u001b[38;5;45mNone\u001b[0m, \u001b[38;5;34m1\u001b[0m)              │            \u001b[38;5;34m65\u001b[0m │\n",
       "└─────────────────────────────────┴────────────────────────┴───────────────┘\n"
      ]
     },
     "metadata": {},
     "output_type": "display_data"
    },
    {
     "data": {
      "text/html": [
       "<pre style=\"white-space:pre;overflow-x:auto;line-height:normal;font-family:Menlo,'DejaVu Sans Mono',consolas,'Courier New',monospace\"><span style=\"font-weight: bold\"> Total params: </span><span style=\"color: #00af00; text-decoration-color: #00af00\">4,929</span> (19.25 KB)\n",
       "</pre>\n"
      ],
      "text/plain": [
       "\u001b[1m Total params: \u001b[0m\u001b[38;5;34m4,929\u001b[0m (19.25 KB)\n"
      ]
     },
     "metadata": {},
     "output_type": "display_data"
    },
    {
     "data": {
      "text/html": [
       "<pre style=\"white-space:pre;overflow-x:auto;line-height:normal;font-family:Menlo,'DejaVu Sans Mono',consolas,'Courier New',monospace\"><span style=\"font-weight: bold\"> Trainable params: </span><span style=\"color: #00af00; text-decoration-color: #00af00\">4,929</span> (19.25 KB)\n",
       "</pre>\n"
      ],
      "text/plain": [
       "\u001b[1m Trainable params: \u001b[0m\u001b[38;5;34m4,929\u001b[0m (19.25 KB)\n"
      ]
     },
     "metadata": {},
     "output_type": "display_data"
    },
    {
     "data": {
      "text/html": [
       "<pre style=\"white-space:pre;overflow-x:auto;line-height:normal;font-family:Menlo,'DejaVu Sans Mono',consolas,'Courier New',monospace\"><span style=\"font-weight: bold\"> Non-trainable params: </span><span style=\"color: #00af00; text-decoration-color: #00af00\">0</span> (0.00 B)\n",
       "</pre>\n"
      ],
      "text/plain": [
       "\u001b[1m Non-trainable params: \u001b[0m\u001b[38;5;34m0\u001b[0m (0.00 B)\n"
      ]
     },
     "metadata": {},
     "output_type": "display_data"
    }
   ],
   "source": [
    "simple_model.summary()"
   ]
  },
  {
   "cell_type": "markdown",
   "id": "third-romantic",
   "metadata": {},
   "source": [
    "## Listing 16-9. Compile the model"
   ]
  },
  {
   "cell_type": "code",
   "execution_count": 10,
   "id": "proof-central",
   "metadata": {},
   "outputs": [],
   "source": [
    "simple_model.compile(\n",
    "  optimizer=keras.optimizers.Adam(learning_rate=0.01),\n",
    "  loss='mean_absolute_error',\n",
    "  metrics=['mean_absolute_error'],\n",
    ")\n"
   ]
  },
  {
   "cell_type": "markdown",
   "id": "fuzzy-arrival",
   "metadata": {},
   "source": [
    "## Listing 16-10. Fit the model"
   ]
  },
  {
   "cell_type": "code",
   "execution_count": 11,
   "id": "expected-draft",
   "metadata": {},
   "outputs": [
    {
     "name": "stdout",
     "output_type": "stream",
     "text": [
      "Epoch 1/10\n",
      "\u001b[1m7042/7042\u001b[0m \u001b[32m━━━━━━━━━━━━━━━━━━━━\u001b[0m\u001b[37m\u001b[0m \u001b[1m7s\u001b[0m 822us/step - loss: 2.7415 - mean_absolute_error: 2.7415 - val_loss: 2.5448 - val_mean_absolute_error: 2.5448\n",
      "Epoch 2/10\n",
      "\u001b[1m7042/7042\u001b[0m \u001b[32m━━━━━━━━━━━━━━━━━━━━\u001b[0m\u001b[37m\u001b[0m \u001b[1m5s\u001b[0m 742us/step - loss: 2.4981 - mean_absolute_error: 2.4981 - val_loss: 2.4689 - val_mean_absolute_error: 2.4689\n",
      "Epoch 3/10\n",
      "\u001b[1m7042/7042\u001b[0m \u001b[32m━━━━━━━━━━━━━━━━━━━━\u001b[0m\u001b[37m\u001b[0m \u001b[1m5s\u001b[0m 736us/step - loss: 2.4718 - mean_absolute_error: 2.4718 - val_loss: 2.4451 - val_mean_absolute_error: 2.4451\n",
      "Epoch 4/10\n",
      "\u001b[1m7042/7042\u001b[0m \u001b[32m━━━━━━━━━━━━━━━━━━━━\u001b[0m\u001b[37m\u001b[0m \u001b[1m6s\u001b[0m 797us/step - loss: 2.4352 - mean_absolute_error: 2.4352 - val_loss: 2.4516 - val_mean_absolute_error: 2.4516\n",
      "Epoch 5/10\n",
      "\u001b[1m7042/7042\u001b[0m \u001b[32m━━━━━━━━━━━━━━━━━━━━\u001b[0m\u001b[37m\u001b[0m \u001b[1m5s\u001b[0m 772us/step - loss: 2.4190 - mean_absolute_error: 2.4190 - val_loss: 2.5732 - val_mean_absolute_error: 2.5732\n",
      "Epoch 6/10\n",
      "\u001b[1m7042/7042\u001b[0m \u001b[32m━━━━━━━━━━━━━━━━━━━━\u001b[0m\u001b[37m\u001b[0m \u001b[1m6s\u001b[0m 809us/step - loss: 2.4144 - mean_absolute_error: 2.4144 - val_loss: 2.4511 - val_mean_absolute_error: 2.4511\n",
      "Epoch 7/10\n",
      "\u001b[1m7042/7042\u001b[0m \u001b[32m━━━━━━━━━━━━━━━━━━━━\u001b[0m\u001b[37m\u001b[0m \u001b[1m7s\u001b[0m 954us/step - loss: 2.4127 - mean_absolute_error: 2.4127 - val_loss: 2.3943 - val_mean_absolute_error: 2.3943\n",
      "Epoch 8/10\n",
      "\u001b[1m7042/7042\u001b[0m \u001b[32m━━━━━━━━━━━━━━━━━━━━\u001b[0m\u001b[37m\u001b[0m \u001b[1m7s\u001b[0m 985us/step - loss: 2.4118 - mean_absolute_error: 2.4118 - val_loss: 2.4459 - val_mean_absolute_error: 2.4459\n",
      "Epoch 9/10\n",
      "\u001b[1m7042/7042\u001b[0m \u001b[32m━━━━━━━━━━━━━━━━━━━━\u001b[0m\u001b[37m\u001b[0m \u001b[1m7s\u001b[0m 925us/step - loss: 2.3979 - mean_absolute_error: 2.3979 - val_loss: 2.4217 - val_mean_absolute_error: 2.4217\n",
      "Epoch 10/10\n",
      "\u001b[1m7042/7042\u001b[0m \u001b[32m━━━━━━━━━━━━━━━━━━━━\u001b[0m\u001b[37m\u001b[0m \u001b[1m5s\u001b[0m 765us/step - loss: 2.3936 - mean_absolute_error: 2.3936 - val_loss: 2.4215 - val_mean_absolute_error: 2.4215\n"
     ]
    }
   ],
   "source": [
    "smod_history = simple_model.fit(X_train, y_train,\n",
    "          validation_split=0.2,\n",
    "          epochs=10,\n",
    "          batch_size=32,\n",
    "          shuffle = True\n",
    ")\n"
   ]
  },
  {
   "cell_type": "markdown",
   "id": "mature-accreditation",
   "metadata": {},
   "source": [
    "## Listing 16-11. Plot the training history"
   ]
  },
  {
   "cell_type": "code",
   "execution_count": 12,
   "id": "intimate-cincinnati",
   "metadata": {},
   "outputs": [
    {
     "data": {
      "image/png": "[encoded data removed]",
      "text/plain": [
       "<Figure size 640x480 with 1 Axes>"
      ]
     },
     "metadata": {},
     "output_type": "display_data"
    }
   ],
   "source": [
    "plt.plot(smod_history.history['loss'])\n",
    "plt.plot(smod_history.history['val_loss'])\n",
    "plt.title('model loss')\n",
    "plt.ylabel('accuracy')\n",
    "plt.xlabel('epoch')\n",
    "plt.legend(['train', 'val'], loc='upper left')\n",
    "plt.show()\n"
   ]
  },
  {
   "cell_type": "markdown",
   "id": "collaborative-examination",
   "metadata": {},
   "source": [
    "## Listing 16-12. A better architecture"
   ]
  },
  {
   "cell_type": "code",
   "execution_count": 13,
   "id": "regulation-middle",
   "metadata": {},
   "outputs": [
    {
     "name": "stdout",
     "output_type": "stream",
     "text": [
      "Epoch 1/100\n"
     ]
    },
    {
     "name": "stderr",
     "output_type": "stream",
     "text": [
      "c:\\Users\\ALBER\\AppData\\Local\\Programs\\Python\\Python312\\Lib\\site-packages\\keras\\src\\layers\\core\\dense.py:87: UserWarning: Do not pass an `input_shape`/`input_dim` argument to a layer. When using Sequential models, prefer using an `Input(shape)` object as the first layer in the model instead.\n",
      "  super().__init__(activity_regularizer=activity_regularizer, **kwargs)\n"
     ]
    },
    {
     "name": "stdout",
     "output_type": "stream",
     "text": [
      "\u001b[1m7042/7042\u001b[0m \u001b[32m━━━━━━━━━━━━━━━━━━━━\u001b[0m\u001b[37m\u001b[0m \u001b[1m60s\u001b[0m 8ms/step - loss: 2.9987 - mean_absolute_error: 2.9987 - val_loss: 2.5017 - val_mean_absolute_error: 2.5017\n",
      "Epoch 2/100\n",
      "\u001b[1m7042/7042\u001b[0m \u001b[32m━━━━━━━━━━━━━━━━━━━━\u001b[0m\u001b[37m\u001b[0m \u001b[1m53s\u001b[0m 7ms/step - loss: 2.5115 - mean_absolute_error: 2.5115 - val_loss: 2.4055 - val_mean_absolute_error: 2.4055\n",
      "Epoch 3/100\n",
      "\u001b[1m7042/7042\u001b[0m \u001b[32m━━━━━━━━━━━━━━━━━━━━\u001b[0m\u001b[37m\u001b[0m \u001b[1m53s\u001b[0m 8ms/step - loss: 2.4208 - mean_absolute_error: 2.4208 - val_loss: 2.4261 - val_mean_absolute_error: 2.4261\n",
      "Epoch 4/100\n",
      "\u001b[1m7042/7042\u001b[0m \u001b[32m━━━━━━━━━━━━━━━━━━━━\u001b[0m\u001b[37m\u001b[0m \u001b[1m54s\u001b[0m 8ms/step - loss: 2.3682 - mean_absolute_error: 2.3682 - val_loss: 2.3452 - val_mean_absolute_error: 2.3452\n",
      "Epoch 5/100\n",
      "\u001b[1m7042/7042\u001b[0m \u001b[32m━━━━━━━━━━━━━━━━━━━━\u001b[0m\u001b[37m\u001b[0m \u001b[1m51s\u001b[0m 7ms/step - loss: 2.3265 - mean_absolute_error: 2.3265 - val_loss: 2.3615 - val_mean_absolute_error: 2.3615\n",
      "Epoch 6/100\n",
      "\u001b[1m7042/7042\u001b[0m \u001b[32m━━━━━━━━━━━━━━━━━━━━\u001b[0m\u001b[37m\u001b[0m \u001b[1m52s\u001b[0m 7ms/step - loss: 2.2920 - mean_absolute_error: 2.2920 - val_loss: 2.3304 - val_mean_absolute_error: 2.3304\n",
      "Epoch 7/100\n",
      "\u001b[1m7042/7042\u001b[0m \u001b[32m━━━━━━━━━━━━━━━━━━━━\u001b[0m\u001b[37m\u001b[0m \u001b[1m53s\u001b[0m 8ms/step - loss: 2.2567 - mean_absolute_error: 2.2567 - val_loss: 2.2707 - val_mean_absolute_error: 2.2707\n",
      "Epoch 8/100\n",
      "\u001b[1m7042/7042\u001b[0m \u001b[32m━━━━━━━━━━━━━━━━━━━━\u001b[0m\u001b[37m\u001b[0m \u001b[1m53s\u001b[0m 7ms/step - loss: 2.2314 - mean_absolute_error: 2.2314 - val_loss: 2.2543 - val_mean_absolute_error: 2.2543\n",
      "Epoch 9/100\n",
      "\u001b[1m7042/7042\u001b[0m \u001b[32m━━━━━━━━━━━━━━━━━━━━\u001b[0m\u001b[37m\u001b[0m \u001b[1m51s\u001b[0m 7ms/step - loss: 2.1978 - mean_absolute_error: 2.1978 - val_loss: 2.2214 - val_mean_absolute_error: 2.2214\n",
      "Epoch 10/100\n",
      "\u001b[1m7042/7042\u001b[0m \u001b[32m━━━━━━━━━━━━━━━━━━━━\u001b[0m\u001b[37m\u001b[0m \u001b[1m46s\u001b[0m 7ms/step - loss: 2.1692 - mean_absolute_error: 2.1692 - val_loss: 2.2437 - val_mean_absolute_error: 2.2437\n",
      "Epoch 11/100\n",
      "\u001b[1m7042/7042\u001b[0m \u001b[32m━━━━━━━━━━━━━━━━━━━━\u001b[0m\u001b[37m\u001b[0m \u001b[1m47s\u001b[0m 7ms/step - loss: 2.1360 - mean_absolute_error: 2.1360 - val_loss: 2.1736 - val_mean_absolute_error: 2.1736\n",
      "Epoch 12/100\n",
      "\u001b[1m7042/7042\u001b[0m \u001b[32m━━━━━━━━━━━━━━━━━━━━\u001b[0m\u001b[37m\u001b[0m \u001b[1m49s\u001b[0m 7ms/step - loss: 2.1107 - mean_absolute_error: 2.1107 - val_loss: 2.1679 - val_mean_absolute_error: 2.1679\n",
      "Epoch 13/100\n",
      "\u001b[1m7042/7042\u001b[0m \u001b[32m━━━━━━━━━━━━━━━━━━━━\u001b[0m\u001b[37m\u001b[0m \u001b[1m48s\u001b[0m 7ms/step - loss: 2.0890 - mean_absolute_error: 2.0890 - val_loss: 2.1628 - val_mean_absolute_error: 2.1628\n",
      "Epoch 14/100\n",
      "\u001b[1m7042/7042\u001b[0m \u001b[32m━━━━━━━━━━━━━━━━━━━━\u001b[0m\u001b[37m\u001b[0m \u001b[1m52s\u001b[0m 7ms/step - loss: 2.0671 - mean_absolute_error: 2.0671 - val_loss: 2.1471 - val_mean_absolute_error: 2.1471\n",
      "Epoch 15/100\n",
      "\u001b[1m7042/7042\u001b[0m \u001b[32m━━━━━━━━━━━━━━━━━━━━\u001b[0m\u001b[37m\u001b[0m \u001b[1m52s\u001b[0m 7ms/step - loss: 2.0390 - mean_absolute_error: 2.0390 - val_loss: 2.1650 - val_mean_absolute_error: 2.1650\n",
      "Epoch 16/100\n",
      "\u001b[1m7042/7042\u001b[0m \u001b[32m━━━━━━━━━━━━━━━━━━━━\u001b[0m\u001b[37m\u001b[0m \u001b[1m48s\u001b[0m 7ms/step - loss: 2.0235 - mean_absolute_error: 2.0235 - val_loss: 2.0958 - val_mean_absolute_error: 2.0958\n",
      "Epoch 17/100\n",
      "\u001b[1m7042/7042\u001b[0m \u001b[32m━━━━━━━━━━━━━━━━━━━━\u001b[0m\u001b[37m\u001b[0m \u001b[1m50s\u001b[0m 7ms/step - loss: 1.9929 - mean_absolute_error: 1.9929 - val_loss: 2.0900 - val_mean_absolute_error: 2.0900\n",
      "Epoch 18/100\n",
      "\u001b[1m7042/7042\u001b[0m \u001b[32m━━━━━━━━━━━━━━━━━━━━\u001b[0m\u001b[37m\u001b[0m \u001b[1m48s\u001b[0m 7ms/step - loss: 1.9685 - mean_absolute_error: 1.9685 - val_loss: 2.0757 - val_mean_absolute_error: 2.0757\n",
      "Epoch 19/100\n",
      "\u001b[1m7042/7042\u001b[0m \u001b[32m━━━━━━━━━━━━━━━━━━━━\u001b[0m\u001b[37m\u001b[0m \u001b[1m51s\u001b[0m 7ms/step - loss: 1.9557 - mean_absolute_error: 1.9557 - val_loss: 2.1340 - val_mean_absolute_error: 2.1340\n",
      "Epoch 20/100\n",
      "\u001b[1m7042/7042\u001b[0m \u001b[32m━━━━━━━━━━━━━━━━━━━━\u001b[0m\u001b[37m\u001b[0m \u001b[1m51s\u001b[0m 7ms/step - loss: 1.9361 - mean_absolute_error: 1.9361 - val_loss: 2.0350 - val_mean_absolute_error: 2.0350\n",
      "Epoch 21/100\n",
      "\u001b[1m7042/7042\u001b[0m \u001b[32m━━━━━━━━━━━━━━━━━━━━\u001b[0m\u001b[37m\u001b[0m \u001b[1m50s\u001b[0m 7ms/step - loss: 1.9106 - mean_absolute_error: 1.9106 - val_loss: 2.0562 - val_mean_absolute_error: 2.0562\n",
      "Epoch 22/100\n",
      "\u001b[1m7042/7042\u001b[0m \u001b[32m━━━━━━━━━━━━━━━━━━━━\u001b[0m\u001b[37m\u001b[0m \u001b[1m52s\u001b[0m 7ms/step - loss: 1.8914 - mean_absolute_error: 1.8914 - val_loss: 2.0262 - val_mean_absolute_error: 2.0262\n",
      "Epoch 23/100\n",
      "\u001b[1m7042/7042\u001b[0m \u001b[32m━━━━━━━━━━━━━━━━━━━━\u001b[0m\u001b[37m\u001b[0m \u001b[1m49s\u001b[0m 7ms/step - loss: 1.8777 - mean_absolute_error: 1.8777 - val_loss: 2.0282 - val_mean_absolute_error: 2.0282\n",
      "Epoch 24/100\n",
      "\u001b[1m7042/7042\u001b[0m \u001b[32m━━━━━━━━━━━━━━━━━━━━\u001b[0m\u001b[37m\u001b[0m \u001b[1m48s\u001b[0m 7ms/step - loss: 1.8502 - mean_absolute_error: 1.8502 - val_loss: 2.0261 - val_mean_absolute_error: 2.0261\n",
      "Epoch 25/100\n",
      "\u001b[1m7042/7042\u001b[0m \u001b[32m━━━━━━━━━━━━━━━━━━━━\u001b[0m\u001b[37m\u001b[0m \u001b[1m48s\u001b[0m 7ms/step - loss: 1.8414 - mean_absolute_error: 1.8414 - val_loss: 1.9894 - val_mean_absolute_error: 1.9894\n",
      "Epoch 26/100\n",
      "\u001b[1m7042/7042\u001b[0m \u001b[32m━━━━━━━━━━━━━━━━━━━━\u001b[0m\u001b[37m\u001b[0m \u001b[1m48s\u001b[0m 7ms/step - loss: 1.8187 - mean_absolute_error: 1.8187 - val_loss: 1.9872 - val_mean_absolute_error: 1.9872\n",
      "Epoch 27/100\n",
      "\u001b[1m7042/7042\u001b[0m \u001b[32m━━━━━━━━━━━━━━━━━━━━\u001b[0m\u001b[37m\u001b[0m \u001b[1m50s\u001b[0m 7ms/step - loss: 1.8019 - mean_absolute_error: 1.8019 - val_loss: 1.9811 - val_mean_absolute_error: 1.9811\n",
      "Epoch 28/100\n",
      "\u001b[1m7042/7042\u001b[0m \u001b[32m━━━━━━━━━━━━━━━━━━━━\u001b[0m\u001b[37m\u001b[0m \u001b[1m50s\u001b[0m 7ms/step - loss: 1.7872 - mean_absolute_error: 1.7872 - val_loss: 2.0202 - val_mean_absolute_error: 2.0202\n",
      "Epoch 29/100\n",
      "\u001b[1m7042/7042\u001b[0m \u001b[32m━━━━━━━━━━━━━━━━━━━━\u001b[0m\u001b[37m\u001b[0m \u001b[1m49s\u001b[0m 7ms/step - loss: 1.7763 - mean_absolute_error: 1.7763 - val_loss: 1.9673 - val_mean_absolute_error: 1.9673\n",
      "Epoch 30/100\n",
      "\u001b[1m7042/7042\u001b[0m \u001b[32m━━━━━━━━━━━━━━━━━━━━\u001b[0m\u001b[37m\u001b[0m \u001b[1m48s\u001b[0m 7ms/step - loss: 1.7622 - mean_absolute_error: 1.7622 - val_loss: 1.9461 - val_mean_absolute_error: 1.9461\n",
      "Epoch 31/100\n",
      "\u001b[1m7042/7042\u001b[0m \u001b[32m━━━━━━━━━━━━━━━━━━━━\u001b[0m\u001b[37m\u001b[0m \u001b[1m55s\u001b[0m 8ms/step - loss: 1.7436 - mean_absolute_error: 1.7436 - val_loss: 1.9336 - val_mean_absolute_error: 1.9336\n",
      "Epoch 32/100\n",
      "\u001b[1m7042/7042\u001b[0m \u001b[32m━━━━━━━━━━━━━━━━━━━━\u001b[0m\u001b[37m\u001b[0m \u001b[1m52s\u001b[0m 7ms/step - loss: 1.7336 - mean_absolute_error: 1.7336 - val_loss: 1.9222 - val_mean_absolute_error: 1.9222\n",
      "Epoch 33/100\n",
      "\u001b[1m7042/7042\u001b[0m \u001b[32m━━━━━━━━━━━━━━━━━━━━\u001b[0m\u001b[37m\u001b[0m \u001b[1m49s\u001b[0m 7ms/step - loss: 1.7160 - mean_absolute_error: 1.7160 - val_loss: 1.9116 - val_mean_absolute_error: 1.9116\n",
      "Epoch 34/100\n",
      "\u001b[1m7042/7042\u001b[0m \u001b[32m━━━━━━━━━━━━━━━━━━━━\u001b[0m\u001b[37m\u001b[0m \u001b[1m52s\u001b[0m 7ms/step - loss: 1.7068 - mean_absolute_error: 1.7068 - val_loss: 1.8997 - val_mean_absolute_error: 1.8997\n",
      "Epoch 35/100\n",
      "\u001b[1m7042/7042\u001b[0m \u001b[32m━━━━━━━━━━━━━━━━━━━━\u001b[0m\u001b[37m\u001b[0m \u001b[1m51s\u001b[0m 7ms/step - loss: 1.6783 - mean_absolute_error: 1.6783 - val_loss: 1.9375 - val_mean_absolute_error: 1.9375\n",
      "Epoch 36/100\n",
      "\u001b[1m7042/7042\u001b[0m \u001b[32m━━━━━━━━━━━━━━━━━━━━\u001b[0m\u001b[37m\u001b[0m \u001b[1m50s\u001b[0m 7ms/step - loss: 1.6706 - mean_absolute_error: 1.6706 - val_loss: 1.9056 - val_mean_absolute_error: 1.9056\n",
      "Epoch 37/100\n",
      "\u001b[1m7042/7042\u001b[0m \u001b[32m━━━━━━━━━━━━━━━━━━━━\u001b[0m\u001b[37m\u001b[0m \u001b[1m63s\u001b[0m 9ms/step - loss: 1.6594 - mean_absolute_error: 1.6594 - val_loss: 1.8773 - val_mean_absolute_error: 1.8773\n",
      "Epoch 38/100\n",
      "\u001b[1m7042/7042\u001b[0m \u001b[32m━━━━━━━━━━━━━━━━━━━━\u001b[0m\u001b[37m\u001b[0m \u001b[1m60s\u001b[0m 9ms/step - loss: 1.6359 - mean_absolute_error: 1.6359 - val_loss: 1.8862 - val_mean_absolute_error: 1.8862\n",
      "Epoch 39/100\n",
      "\u001b[1m7042/7042\u001b[0m \u001b[32m━━━━━━━━━━━━━━━━━━━━\u001b[0m\u001b[37m\u001b[0m \u001b[1m52s\u001b[0m 7ms/step - loss: 1.6214 - mean_absolute_error: 1.6214 - val_loss: 1.8889 - val_mean_absolute_error: 1.8889\n",
      "Epoch 40/100\n",
      "\u001b[1m7042/7042\u001b[0m \u001b[32m━━━━━━━━━━━━━━━━━━━━\u001b[0m\u001b[37m\u001b[0m \u001b[1m54s\u001b[0m 8ms/step - loss: 1.6161 - mean_absolute_error: 1.6161 - val_loss: 1.8832 - val_mean_absolute_error: 1.8832\n",
      "Epoch 41/100\n",
      "\u001b[1m7042/7042\u001b[0m \u001b[32m━━━━━━━━━━━━━━━━━━━━\u001b[0m\u001b[37m\u001b[0m \u001b[1m51s\u001b[0m 7ms/step - loss: 1.6014 - mean_absolute_error: 1.6014 - val_loss: 1.8564 - val_mean_absolute_error: 1.8564\n",
      "Epoch 42/100\n",
      "\u001b[1m7042/7042\u001b[0m \u001b[32m━━━━━━━━━━━━━━━━━━━━\u001b[0m\u001b[37m\u001b[0m \u001b[1m50s\u001b[0m 7ms/step - loss: 1.5898 - mean_absolute_error: 1.5898 - val_loss: 1.8628 - val_mean_absolute_error: 1.8628\n",
      "Epoch 43/100\n",
      "\u001b[1m7042/7042\u001b[0m \u001b[32m━━━━━━━━━━━━━━━━━━━━\u001b[0m\u001b[37m\u001b[0m \u001b[1m53s\u001b[0m 7ms/step - loss: 1.5796 - mean_absolute_error: 1.5796 - val_loss: 1.8427 - val_mean_absolute_error: 1.8427\n",
      "Epoch 44/100\n",
      "\u001b[1m7042/7042\u001b[0m \u001b[32m━━━━━━━━━━━━━━━━━━━━\u001b[0m\u001b[37m\u001b[0m \u001b[1m49s\u001b[0m 7ms/step - loss: 1.5622 - mean_absolute_error: 1.5622 - val_loss: 1.8265 - val_mean_absolute_error: 1.8265\n",
      "Epoch 45/100\n",
      "\u001b[1m7042/7042\u001b[0m \u001b[32m━━━━━━━━━━━━━━━━━━━━\u001b[0m\u001b[37m\u001b[0m \u001b[1m50s\u001b[0m 7ms/step - loss: 1.5464 - mean_absolute_error: 1.5464 - val_loss: 1.8131 - val_mean_absolute_error: 1.8131\n",
      "Epoch 46/100\n",
      "\u001b[1m7042/7042\u001b[0m \u001b[32m━━━━━━━━━━━━━━━━━━━━\u001b[0m\u001b[37m\u001b[0m \u001b[1m51s\u001b[0m 7ms/step - loss: 1.5426 - mean_absolute_error: 1.5426 - val_loss: 1.8667 - val_mean_absolute_error: 1.8667\n",
      "Epoch 47/100\n",
      "\u001b[1m7042/7042\u001b[0m \u001b[32m━━━━━━━━━━━━━━━━━━━━\u001b[0m\u001b[37m\u001b[0m \u001b[1m51s\u001b[0m 7ms/step - loss: 1.5298 - mean_absolute_error: 1.5298 - val_loss: 1.8154 - val_mean_absolute_error: 1.8154\n",
      "Epoch 48/100\n",
      "\u001b[1m7042/7042\u001b[0m \u001b[32m━━━━━━━━━━━━━━━━━━━━\u001b[0m\u001b[37m\u001b[0m \u001b[1m50s\u001b[0m 7ms/step - loss: 1.5180 - mean_absolute_error: 1.5180 - val_loss: 1.8139 - val_mean_absolute_error: 1.8139\n",
      "Epoch 49/100\n",
      "\u001b[1m7042/7042\u001b[0m \u001b[32m━━━━━━━━━━━━━━━━━━━━\u001b[0m\u001b[37m\u001b[0m \u001b[1m49s\u001b[0m 7ms/step - loss: 1.5122 - mean_absolute_error: 1.5122 - val_loss: 1.7975 - val_mean_absolute_error: 1.7975\n",
      "Epoch 50/100\n",
      "\u001b[1m7042/7042\u001b[0m \u001b[32m━━━━━━━━━━━━━━━━━━━━\u001b[0m\u001b[37m\u001b[0m \u001b[1m50s\u001b[0m 7ms/step - loss: 1.4947 - mean_absolute_error: 1.4947 - val_loss: 1.7969 - val_mean_absolute_error: 1.7969\n",
      "Epoch 51/100\n",
      "\u001b[1m7042/7042\u001b[0m \u001b[32m━━━━━━━━━━━━━━━━━━━━\u001b[0m\u001b[37m\u001b[0m \u001b[1m50s\u001b[0m 7ms/step - loss: 1.4865 - mean_absolute_error: 1.4865 - val_loss: 1.8086 - val_mean_absolute_error: 1.8086\n",
      "Epoch 52/100\n",
      "\u001b[1m7042/7042\u001b[0m \u001b[32m━━━━━━━━━━━━━━━━━━━━\u001b[0m\u001b[37m\u001b[0m \u001b[1m48s\u001b[0m 7ms/step - loss: 1.4765 - mean_absolute_error: 1.4765 - val_loss: 1.7953 - val_mean_absolute_error: 1.7953\n",
      "Epoch 53/100\n",
      "\u001b[1m7042/7042\u001b[0m \u001b[32m━━━━━━━━━━━━━━━━━━━━\u001b[0m\u001b[37m\u001b[0m \u001b[1m48s\u001b[0m 7ms/step - loss: 1.4638 - mean_absolute_error: 1.4638 - val_loss: 1.7813 - val_mean_absolute_error: 1.7813\n",
      "Epoch 54/100\n",
      "\u001b[1m7042/7042\u001b[0m \u001b[32m━━━━━━━━━━━━━━━━━━━━\u001b[0m\u001b[37m\u001b[0m \u001b[1m51s\u001b[0m 7ms/step - loss: 1.4506 - mean_absolute_error: 1.4506 - val_loss: 1.7778 - val_mean_absolute_error: 1.7778\n",
      "Epoch 55/100\n",
      "\u001b[1m7042/7042\u001b[0m \u001b[32m━━━━━━━━━━━━━━━━━━━━\u001b[0m\u001b[37m\u001b[0m \u001b[1m50s\u001b[0m 7ms/step - loss: 1.4444 - mean_absolute_error: 1.4444 - val_loss: 1.7603 - val_mean_absolute_error: 1.7603\n",
      "Epoch 56/100\n",
      "\u001b[1m7042/7042\u001b[0m \u001b[32m━━━━━━━━━━━━━━━━━━━━\u001b[0m\u001b[37m\u001b[0m \u001b[1m53s\u001b[0m 7ms/step - loss: 1.4369 - mean_absolute_error: 1.4369 - val_loss: 1.7813 - val_mean_absolute_error: 1.7813\n",
      "Epoch 57/100\n",
      "\u001b[1m7042/7042\u001b[0m \u001b[32m━━━━━━━━━━━━━━━━━━━━\u001b[0m\u001b[37m\u001b[0m \u001b[1m50s\u001b[0m 7ms/step - loss: 1.4249 - mean_absolute_error: 1.4249 - val_loss: 1.7742 - val_mean_absolute_error: 1.7742\n",
      "Epoch 58/100\n",
      "\u001b[1m7042/7042\u001b[0m \u001b[32m━━━━━━━━━━━━━━━━━━━━\u001b[0m\u001b[37m\u001b[0m \u001b[1m52s\u001b[0m 7ms/step - loss: 1.4224 - mean_absolute_error: 1.4224 - val_loss: 1.7440 - val_mean_absolute_error: 1.7440\n",
      "Epoch 59/100\n",
      "\u001b[1m7042/7042\u001b[0m \u001b[32m━━━━━━━━━━━━━━━━━━━━\u001b[0m\u001b[37m\u001b[0m \u001b[1m51s\u001b[0m 7ms/step - loss: 1.4125 - mean_absolute_error: 1.4125 - val_loss: 1.7594 - val_mean_absolute_error: 1.7594\n",
      "Epoch 60/100\n",
      "\u001b[1m7042/7042\u001b[0m \u001b[32m━━━━━━━━━━━━━━━━━━━━\u001b[0m\u001b[37m\u001b[0m \u001b[1m49s\u001b[0m 7ms/step - loss: 1.4014 - mean_absolute_error: 1.4014 - val_loss: 1.7474 - val_mean_absolute_error: 1.7474\n",
      "Epoch 61/100\n",
      "\u001b[1m7042/7042\u001b[0m \u001b[32m━━━━━━━━━━━━━━━━━━━━\u001b[0m\u001b[37m\u001b[0m \u001b[1m49s\u001b[0m 7ms/step - loss: 1.3980 - mean_absolute_error: 1.3980 - val_loss: 1.7408 - val_mean_absolute_error: 1.7408\n",
      "Epoch 62/100\n",
      "\u001b[1m7042/7042\u001b[0m \u001b[32m━━━━━━━━━━━━━━━━━━━━\u001b[0m\u001b[37m\u001b[0m \u001b[1m52s\u001b[0m 7ms/step - loss: 1.3829 - mean_absolute_error: 1.3829 - val_loss: 1.7602 - val_mean_absolute_error: 1.7602\n",
      "Epoch 63/100\n",
      "\u001b[1m7042/7042\u001b[0m \u001b[32m━━━━━━━━━━━━━━━━━━━━\u001b[0m\u001b[37m\u001b[0m \u001b[1m49s\u001b[0m 7ms/step - loss: 1.3875 - mean_absolute_error: 1.3875 - val_loss: 1.7400 - val_mean_absolute_error: 1.7400\n",
      "Epoch 64/100\n",
      "\u001b[1m7042/7042\u001b[0m \u001b[32m━━━━━━━━━━━━━━━━━━━━\u001b[0m\u001b[37m\u001b[0m \u001b[1m49s\u001b[0m 7ms/step - loss: 1.3776 - mean_absolute_error: 1.3776 - val_loss: 1.7380 - val_mean_absolute_error: 1.7380\n",
      "Epoch 65/100\n",
      "\u001b[1m7042/7042\u001b[0m \u001b[32m━━━━━━━━━━━━━━━━━━━━\u001b[0m\u001b[37m\u001b[0m \u001b[1m50s\u001b[0m 7ms/step - loss: 1.3664 - mean_absolute_error: 1.3664 - val_loss: 1.7313 - val_mean_absolute_error: 1.7313\n",
      "Epoch 66/100\n",
      "\u001b[1m7042/7042\u001b[0m \u001b[32m━━━━━━━━━━━━━━━━━━━━\u001b[0m\u001b[37m\u001b[0m \u001b[1m51s\u001b[0m 7ms/step - loss: 1.3698 - mean_absolute_error: 1.3698 - val_loss: 1.7358 - val_mean_absolute_error: 1.7358\n",
      "Epoch 67/100\n",
      "\u001b[1m7042/7042\u001b[0m \u001b[32m━━━━━━━━━━━━━━━━━━━━\u001b[0m\u001b[37m\u001b[0m \u001b[1m52s\u001b[0m 7ms/step - loss: 1.3596 - mean_absolute_error: 1.3596 - val_loss: 1.7231 - val_mean_absolute_error: 1.7231\n",
      "Epoch 68/100\n",
      "\u001b[1m7042/7042\u001b[0m \u001b[32m━━━━━━━━━━━━━━━━━━━━\u001b[0m\u001b[37m\u001b[0m \u001b[1m51s\u001b[0m 7ms/step - loss: 1.3386 - mean_absolute_error: 1.3386 - val_loss: 1.7358 - val_mean_absolute_error: 1.7358\n",
      "Epoch 69/100\n",
      "\u001b[1m7042/7042\u001b[0m \u001b[32m━━━━━━━━━━━━━━━━━━━━\u001b[0m\u001b[37m\u001b[0m \u001b[1m52s\u001b[0m 7ms/step - loss: 1.3395 - mean_absolute_error: 1.3395 - val_loss: 1.7504 - val_mean_absolute_error: 1.7504\n",
      "Epoch 70/100\n",
      "\u001b[1m7042/7042\u001b[0m \u001b[32m━━━━━━━━━━━━━━━━━━━━\u001b[0m\u001b[37m\u001b[0m \u001b[1m56s\u001b[0m 8ms/step - loss: 1.3355 - mean_absolute_error: 1.3355 - val_loss: 1.7462 - val_mean_absolute_error: 1.7462\n",
      "Epoch 71/100\n",
      "\u001b[1m7042/7042\u001b[0m \u001b[32m━━━━━━━━━━━━━━━━━━━━\u001b[0m\u001b[37m\u001b[0m \u001b[1m52s\u001b[0m 7ms/step - loss: 1.3233 - mean_absolute_error: 1.3233 - val_loss: 1.7009 - val_mean_absolute_error: 1.7009\n",
      "Epoch 72/100\n",
      "\u001b[1m7042/7042\u001b[0m \u001b[32m━━━━━━━━━━━━━━━━━━━━\u001b[0m\u001b[37m\u001b[0m \u001b[1m81s\u001b[0m 7ms/step - loss: 1.3162 - mean_absolute_error: 1.3162 - val_loss: 1.6975 - val_mean_absolute_error: 1.6975\n",
      "Epoch 73/100\n",
      "\u001b[1m7042/7042\u001b[0m \u001b[32m━━━━━━━━━━━━━━━━━━━━\u001b[0m\u001b[37m\u001b[0m \u001b[1m50s\u001b[0m 7ms/step - loss: 1.3102 - mean_absolute_error: 1.3102 - val_loss: 1.7138 - val_mean_absolute_error: 1.7138\n",
      "Epoch 74/100\n",
      "\u001b[1m7042/7042\u001b[0m \u001b[32m━━━━━━━━━━━━━━━━━━━━\u001b[0m\u001b[37m\u001b[0m \u001b[1m50s\u001b[0m 7ms/step - loss: 1.3166 - mean_absolute_error: 1.3166 - val_loss: 1.6869 - val_mean_absolute_error: 1.6869\n",
      "Epoch 75/100\n",
      "\u001b[1m7042/7042\u001b[0m \u001b[32m━━━━━━━━━━━━━━━━━━━━\u001b[0m\u001b[37m\u001b[0m \u001b[1m51s\u001b[0m 7ms/step - loss: 1.2985 - mean_absolute_error: 1.2985 - val_loss: 1.6928 - val_mean_absolute_error: 1.6928\n",
      "Epoch 76/100\n",
      "\u001b[1m7042/7042\u001b[0m \u001b[32m━━━━━━━━━━━━━━━━━━━━\u001b[0m\u001b[37m\u001b[0m \u001b[1m51s\u001b[0m 7ms/step - loss: 1.2892 - mean_absolute_error: 1.2892 - val_loss: 1.7034 - val_mean_absolute_error: 1.7034\n",
      "Epoch 77/100\n",
      "\u001b[1m7042/7042\u001b[0m \u001b[32m━━━━━━━━━━━━━━━━━━━━\u001b[0m\u001b[37m\u001b[0m \u001b[1m52s\u001b[0m 7ms/step - loss: 1.2899 - mean_absolute_error: 1.2899 - val_loss: 1.6957 - val_mean_absolute_error: 1.6957\n",
      "Epoch 78/100\n",
      "\u001b[1m7042/7042\u001b[0m \u001b[32m━━━━━━━━━━━━━━━━━━━━\u001b[0m\u001b[37m\u001b[0m \u001b[1m51s\u001b[0m 7ms/step - loss: 1.2638 - mean_absolute_error: 1.2638 - val_loss: 1.6994 - val_mean_absolute_error: 1.6994\n",
      "Epoch 79/100\n",
      "\u001b[1m7042/7042\u001b[0m \u001b[32m━━━━━━━━━━━━━━━━━━━━\u001b[0m\u001b[37m\u001b[0m \u001b[1m54s\u001b[0m 8ms/step - loss: 1.2632 - mean_absolute_error: 1.2632 - val_loss: 1.7121 - val_mean_absolute_error: 1.7121\n",
      "Epoch 80/100\n",
      "\u001b[1m7042/7042\u001b[0m \u001b[32m━━━━━━━━━━━━━━━━━━━━\u001b[0m\u001b[37m\u001b[0m \u001b[1m52s\u001b[0m 7ms/step - loss: 1.2708 - mean_absolute_error: 1.2708 - val_loss: 1.6691 - val_mean_absolute_error: 1.6691\n",
      "Epoch 81/100\n",
      "\u001b[1m7042/7042\u001b[0m \u001b[32m━━━━━━━━━━━━━━━━━━━━\u001b[0m\u001b[37m\u001b[0m \u001b[1m51s\u001b[0m 7ms/step - loss: 1.2575 - mean_absolute_error: 1.2575 - val_loss: 1.6766 - val_mean_absolute_error: 1.6766\n",
      "Epoch 82/100\n",
      "\u001b[1m7042/7042\u001b[0m \u001b[32m━━━━━━━━━━━━━━━━━━━━\u001b[0m\u001b[37m\u001b[0m \u001b[1m52s\u001b[0m 7ms/step - loss: 1.2456 - mean_absolute_error: 1.2456 - val_loss: 1.6619 - val_mean_absolute_error: 1.6619\n",
      "Epoch 83/100\n",
      "\u001b[1m7042/7042\u001b[0m \u001b[32m━━━━━━━━━━━━━━━━━━━━\u001b[0m\u001b[37m\u001b[0m \u001b[1m51s\u001b[0m 7ms/step - loss: 1.2492 - mean_absolute_error: 1.2492 - val_loss: 1.6817 - val_mean_absolute_error: 1.6817\n",
      "Epoch 84/100\n",
      "\u001b[1m7042/7042\u001b[0m \u001b[32m━━━━━━━━━━━━━━━━━━━━\u001b[0m\u001b[37m\u001b[0m \u001b[1m53s\u001b[0m 8ms/step - loss: 1.2469 - mean_absolute_error: 1.2469 - val_loss: 1.6931 - val_mean_absolute_error: 1.6931\n",
      "Epoch 85/100\n",
      "\u001b[1m7042/7042\u001b[0m \u001b[32m━━━━━━━━━━━━━━━━━━━━\u001b[0m\u001b[37m\u001b[0m \u001b[1m52s\u001b[0m 7ms/step - loss: 1.2279 - mean_absolute_error: 1.2279 - val_loss: 1.6841 - val_mean_absolute_error: 1.6841\n",
      "Epoch 86/100\n",
      "\u001b[1m7042/7042\u001b[0m \u001b[32m━━━━━━━━━━━━━━━━━━━━\u001b[0m\u001b[37m\u001b[0m \u001b[1m52s\u001b[0m 7ms/step - loss: 1.2265 - mean_absolute_error: 1.2265 - val_loss: 1.6645 - val_mean_absolute_error: 1.6645\n",
      "Epoch 87/100\n",
      "\u001b[1m7042/7042\u001b[0m \u001b[32m━━━━━━━━━━━━━━━━━━━━\u001b[0m\u001b[37m\u001b[0m \u001b[1m53s\u001b[0m 8ms/step - loss: 1.2195 - mean_absolute_error: 1.2195 - val_loss: 1.6673 - val_mean_absolute_error: 1.6673\n",
      "Epoch 88/100\n",
      "\u001b[1m7042/7042\u001b[0m \u001b[32m━━━━━━━━━━━━━━━━━━━━\u001b[0m\u001b[37m\u001b[0m \u001b[1m55s\u001b[0m 8ms/step - loss: 1.2203 - mean_absolute_error: 1.2203 - val_loss: 1.6616 - val_mean_absolute_error: 1.6616\n",
      "Epoch 89/100\n",
      "\u001b[1m7042/7042\u001b[0m \u001b[32m━━━━━━━━━━━━━━━━━━━━\u001b[0m\u001b[37m\u001b[0m \u001b[1m55s\u001b[0m 8ms/step - loss: 1.2153 - mean_absolute_error: 1.2153 - val_loss: 1.6532 - val_mean_absolute_error: 1.6532\n",
      "Epoch 90/100\n",
      "\u001b[1m7042/7042\u001b[0m \u001b[32m━━━━━━━━━━━━━━━━━━━━\u001b[0m\u001b[37m\u001b[0m \u001b[1m52s\u001b[0m 7ms/step - loss: 1.2174 - mean_absolute_error: 1.2174 - val_loss: 1.6591 - val_mean_absolute_error: 1.6591\n",
      "Epoch 91/100\n",
      "\u001b[1m7042/7042\u001b[0m \u001b[32m━━━━━━━━━━━━━━━━━━━━\u001b[0m\u001b[37m\u001b[0m \u001b[1m54s\u001b[0m 8ms/step - loss: 1.2046 - mean_absolute_error: 1.2046 - val_loss: 1.6610 - val_mean_absolute_error: 1.6610\n",
      "Epoch 92/100\n",
      "\u001b[1m7042/7042\u001b[0m \u001b[32m━━━━━━━━━━━━━━━━━━━━\u001b[0m\u001b[37m\u001b[0m \u001b[1m55s\u001b[0m 8ms/step - loss: 1.1987 - mean_absolute_error: 1.1987 - val_loss: 1.6651 - val_mean_absolute_error: 1.6651\n",
      "Epoch 93/100\n",
      "\u001b[1m7042/7042\u001b[0m \u001b[32m━━━━━━━━━━━━━━━━━━━━\u001b[0m\u001b[37m\u001b[0m \u001b[1m50s\u001b[0m 7ms/step - loss: 1.2067 - mean_absolute_error: 1.2067 - val_loss: 1.6473 - val_mean_absolute_error: 1.6473\n",
      "Epoch 94/100\n",
      "\u001b[1m7042/7042\u001b[0m \u001b[32m━━━━━━━━━━━━━━━━━━━━\u001b[0m\u001b[37m\u001b[0m \u001b[1m52s\u001b[0m 7ms/step - loss: 1.2093 - mean_absolute_error: 1.2093 - val_loss: 1.6532 - val_mean_absolute_error: 1.6532\n",
      "Epoch 95/100\n",
      "\u001b[1m7042/7042\u001b[0m \u001b[32m━━━━━━━━━━━━━━━━━━━━\u001b[0m\u001b[37m\u001b[0m \u001b[1m55s\u001b[0m 8ms/step - loss: 1.1880 - mean_absolute_error: 1.1880 - val_loss: 1.6887 - val_mean_absolute_error: 1.6887\n",
      "Epoch 96/100\n",
      "\u001b[1m7042/7042\u001b[0m \u001b[32m━━━━━━━━━━━━━━━━━━━━\u001b[0m\u001b[37m\u001b[0m \u001b[1m57s\u001b[0m 8ms/step - loss: 1.2107 - mean_absolute_error: 1.2107 - val_loss: 1.6730 - val_mean_absolute_error: 1.6730\n",
      "Epoch 97/100\n",
      "\u001b[1m7042/7042\u001b[0m \u001b[32m━━━━━━━━━━━━━━━━━━━━\u001b[0m\u001b[37m\u001b[0m \u001b[1m57s\u001b[0m 8ms/step - loss: 1.2179 - mean_absolute_error: 1.2179 - val_loss: 1.6393 - val_mean_absolute_error: 1.6393\n",
      "Epoch 98/100\n",
      "\u001b[1m7042/7042\u001b[0m \u001b[32m━━━━━━━━━━━━━━━━━━━━\u001b[0m\u001b[37m\u001b[0m \u001b[1m53s\u001b[0m 8ms/step - loss: 1.1907 - mean_absolute_error: 1.1907 - val_loss: 1.6426 - val_mean_absolute_error: 1.6426\n",
      "Epoch 99/100\n",
      "\u001b[1m7042/7042\u001b[0m \u001b[32m━━━━━━━━━━━━━━━━━━━━\u001b[0m\u001b[37m\u001b[0m \u001b[1m56s\u001b[0m 8ms/step - loss: 1.1881 - mean_absolute_error: 1.1881 - val_loss: 1.6675 - val_mean_absolute_error: 1.6675\n",
      "Epoch 100/100\n",
      "\u001b[1m7042/7042\u001b[0m \u001b[32m━━━━━━━━━━━━━━━━━━━━\u001b[0m\u001b[37m\u001b[0m \u001b[1m54s\u001b[0m 8ms/step - loss: 1.1948 - mean_absolute_error: 1.1948 - val_loss: 1.6484 - val_mean_absolute_error: 1.6484\n"
     ]
    },
    {
     "data": {
      "image/png": "[encoded data removed]",
      "text/plain": [
       "<Figure size 640x480 with 1 Axes>"
      ]
     },
     "metadata": {},
     "output_type": "display_data"
    },
    {
     "name": "stdout",
     "output_type": "stream",
     "text": [
      "\u001b[1m4336/4336\u001b[0m \u001b[32m━━━━━━━━━━━━━━━━━━━━\u001b[0m\u001b[37m\u001b[0m \u001b[1m17s\u001b[0m 4ms/step\n"
     ]
    },
    {
     "ename": "NameError",
     "evalue": "name 'r2_score' is not defined",
     "output_type": "error",
     "traceback": [
      "\u001b[1;31m---------------------------------------------------------------------------\u001b[0m",
      "\u001b[1;31mNameError\u001b[0m                                 Traceback (most recent call last)",
      "Cell \u001b[1;32mIn[13], line 46\u001b[0m\n\u001b[0;32m     43\u001b[0m plt\u001b[38;5;241m.\u001b[39mshow()\n\u001b[0;32m     45\u001b[0m preds \u001b[38;5;241m=\u001b[39m model\u001b[38;5;241m.\u001b[39mpredict(X_test)\n\u001b[1;32m---> 46\u001b[0m \u001b[38;5;28mprint\u001b[39m(\u001b[43mr2_score\u001b[49m(preds, y_test))\n",
      "\u001b[1;31mNameError\u001b[0m: name 'r2_score' is not defined"
     ]
    }
   ],
   "source": [
    "random.seed(42)\n",
    "model = Sequential([\n",
    "  Dense(256, activation='relu', input_shape=(X_train.shape[1],)),\n",
    "  Dense(256, activation='relu'),\n",
    "  Dense(256, activation='relu'),\n",
    "  Dense(256, activation='relu'),\n",
    "  Dense(256, activation='relu'),\n",
    "  Dense(256, activation='relu'),\n",
    "  Dense(256, activation='relu'),\n",
    "  Dense(256, activation='relu'),\n",
    "  Dense(256, activation='relu'),\n",
    "  Dense(256, activation='relu'),\n",
    "  Dense(256, activation='relu'),\n",
    "  Dense(256, activation='relu'),\n",
    "  Dense(256, activation='relu'),\n",
    "  Dense(256, activation='relu'),\n",
    "  Dense(256, activation='relu'),\n",
    "  Dense(256, activation='relu'),\n",
    "  Dense(256, activation='relu'),\n",
    "  Dense(256, activation='relu'),\n",
    "  Dense(256, activation='relu'),\n",
    "  Dense(256, activation='relu'),\n",
    "  Dense(1), ])\n",
    "model.compile(\n",
    "  optimizer=keras.optimizers.Adam(learning_rate=0.001),\n",
    "  loss='mean_absolute_error',\n",
    "  metrics=['mean_absolute_error'],\n",
    ")\n",
    "\n",
    "history = model.fit(X_train, y_train,\n",
    "          #validation_data=(X_test, y_test),\n",
    "          validation_split=0.2,\n",
    "          epochs=100,\n",
    "          batch_size=32,\n",
    "          shuffle = True\n",
    ")\n",
    "plt.plot(history.history['loss'])\n",
    "plt.plot(history.history['val_loss'])\n",
    "plt.title('model loss')\n",
    "plt.ylabel('accuracy')\n",
    "plt.xlabel('epoch')\n",
    "plt.legend(['train', 'val'], loc='upper left')\n",
    "plt.show()\n",
    "\n",
    "preds = model.predict(X_test)\n",
    "print(r2_score(preds, y_test))\n",
    "\n"
   ]
  },
  {
   "cell_type": "code",
   "execution_count": 14,
   "id": "f17772ee",
   "metadata": {},
   "outputs": [
    {
     "name": "stdout",
     "output_type": "stream",
     "text": [
      "0.9117566231424516\n"
     ]
    }
   ],
   "source": [
    "from sklearn.metrics import r2_score\n",
    "print(r2_score(preds, y_test))"
   ]
  },
  {
   "cell_type": "markdown",
   "id": "tutorial-pilot",
   "metadata": {},
   "source": [
    "# Chapter 17 - RNNs using SimpleRNN and GRU"
   ]
  },
  {
   "cell_type": "markdown",
   "id": "robust-strap",
   "metadata": {},
   "source": [
    "## Listing 17-1. Importing the data"
   ]
  },
  {
   "cell_type": "code",
   "execution_count": 15,
   "id": "absolute-registrar",
   "metadata": {},
   "outputs": [],
   "source": [
    "import keras\n",
    "import pandas as pd\n",
    "\n",
    "from zipfile import ZipFile\n",
    "import os\n",
    "\n",
    "uri = \"https://storage.googleapis.com/tensorflow/tf-keras-datasets/jena_climate_2009_2016.csv.zip\"\n",
    "zip_path = keras.utils.get_file(origin=uri, fname=\"jena_climate_2009_2016.csv.zip\")\n",
    "zip_file = ZipFile(zip_path)\n",
    "zip_file.extractall()\n",
    "csv_path = \"jena_climate_2009_2016.csv\"\n",
    "\n",
    "df = pd.read_csv(csv_path)\n",
    "del zip_file\n"
   ]
  },
  {
   "cell_type": "markdown",
   "id": "essential-decision",
   "metadata": {},
   "source": [
    "## Listing 17-2. Keep only temperature data\n"
   ]
  },
  {
   "cell_type": "code",
   "execution_count": 16,
   "id": "alike-involvement",
   "metadata": {},
   "outputs": [],
   "source": [
    "df = df[['T (degC)']]\n"
   ]
  },
  {
   "cell_type": "markdown",
   "id": "formed-deployment",
   "metadata": {},
   "source": [
    "## Listing 17-3. Apply a MinMaxScaler"
   ]
  },
  {
   "cell_type": "code",
   "execution_count": 17,
   "id": "bizarre-teach",
   "metadata": {},
   "outputs": [],
   "source": [
    "# apply a min max scaler\n",
    "from sklearn.preprocessing import MinMaxScaler\n",
    "scaler = MinMaxScaler()\n",
    "df = pd.DataFrame(scaler.fit_transform(df), columns = ['T'])\n"
   ]
  },
  {
   "cell_type": "markdown",
   "id": "loose-jacob",
   "metadata": {},
   "source": [
    "## Listing 17-4. Preparing the sequence data"
   ]
  },
  {
   "cell_type": "code",
   "execution_count": 18,
   "id": "helpful-turning",
   "metadata": {},
   "outputs": [],
   "source": [
    "ylist = list(df['T'])\n",
    "\n",
    "n_future = 72\n",
    "n_past = 3*72\n",
    "total_period = 4*72\n",
    "\n",
    "idx_end = len(ylist)\n",
    "idx_start = idx_end - total_period\n",
    "\n",
    "X_new = []\n",
    "y_new = []\n",
    "while idx_start > 0:\n",
    "  x_line = ylist[idx_start:idx_start+n_past]\n",
    "  y_line = ylist[idx_start+n_past:idx_start+total_period]\n",
    "\n",
    "  X_new.append(x_line)\n",
    "  y_new.append(y_line)\n",
    "\n",
    "  idx_start = idx_start - 1\n",
    "\n",
    "# converting list of lists to numpy array\n",
    "import numpy as np\n",
    "X_new = np.array(X_new)\n",
    "y_new = np.array(y_new)\n"
   ]
  },
  {
   "cell_type": "markdown",
   "id": "extra-corner",
   "metadata": {},
   "source": [
    "## Listing 17-5. Splitting train and test"
   ]
  },
  {
   "cell_type": "code",
   "execution_count": 19,
   "id": "differential-potter",
   "metadata": {},
   "outputs": [],
   "source": [
    "from sklearn.model_selection import train_test_split\n",
    "\n",
    "X_train, X_test, y_train, y_test = train_test_split(X_new, y_new, test_size=0.33, random_state=42)\n"
   ]
  },
  {
   "cell_type": "markdown",
   "id": "waiting-membership",
   "metadata": {},
   "source": [
    "## Listing 17-6. Reshape the data to be recognized by keras"
   ]
  },
  {
   "cell_type": "code",
   "execution_count": 20,
   "id": "gentle-dealing",
   "metadata": {},
   "outputs": [],
   "source": [
    "batch_size = 32\n",
    "\n",
    "n_samples = X_train.shape[0]\n",
    "n_timesteps = X_train.shape[1]\n",
    "n_steps = y_train.shape[1]\n",
    "n_features = 1\n",
    "\n",
    "X_train_rs = X_train.reshape(n_samples, n_timesteps, n_features )\n",
    "\n",
    "X_test_rs = X_test.reshape(X_test.shape[0], n_timesteps, n_features )\n"
   ]
  },
  {
   "cell_type": "markdown",
   "id": "brazilian-differential",
   "metadata": {},
   "source": [
    "## Listing 17-7. Parametetrize a small network with SimpleRNN"
   ]
  },
  {
   "cell_type": "code",
   "execution_count": 21,
   "id": "provincial-clark",
   "metadata": {},
   "outputs": [
    {
     "name": "stderr",
     "output_type": "stream",
     "text": [
      "c:\\Users\\ALBER\\AppData\\Local\\Programs\\Python\\Python312\\Lib\\site-packages\\keras\\src\\layers\\rnn\\rnn.py:204: UserWarning: Do not pass an `input_shape`/`input_dim` argument to a layer. When using Sequential models, prefer using an `Input(shape)` object as the first layer in the model instead.\n",
      "  super().__init__(**kwargs)\n"
     ]
    },
    {
     "data": {
      "text/html": [
       "<pre style=\"white-space:pre;overflow-x:auto;line-height:normal;font-family:Menlo,'DejaVu Sans Mono',consolas,'Courier New',monospace\"><span style=\"font-weight: bold\">Model: \"sequential_2\"</span>\n",
       "</pre>\n"
      ],
      "text/plain": [
       "\u001b[1mModel: \"sequential_2\"\u001b[0m\n"
      ]
     },
     "metadata": {},
     "output_type": "display_data"
    },
    {
     "data": {
      "text/html": [
       "<pre style=\"white-space:pre;overflow-x:auto;line-height:normal;font-family:Menlo,'DejaVu Sans Mono',consolas,'Courier New',monospace\">┏━━━━━━━━━━━━━━━━━━━━━━━━━━━━━━━━━┳━━━━━━━━━━━━━━━━━━━━━━━━┳━━━━━━━━━━━━━━━┓\n",
       "┃<span style=\"font-weight: bold\"> Layer (type)                    </span>┃<span style=\"font-weight: bold\"> Output Shape           </span>┃<span style=\"font-weight: bold\">       Param # </span>┃\n",
       "┡━━━━━━━━━━━━━━━━━━━━━━━━━━━━━━━━━╇━━━━━━━━━━━━━━━━━━━━━━━━╇━━━━━━━━━━━━━━━┩\n",
       "│ simple_rnn (<span style=\"color: #0087ff; text-decoration-color: #0087ff\">SimpleRNN</span>)          │ (<span style=\"color: #00d7ff; text-decoration-color: #00d7ff\">None</span>, <span style=\"color: #00af00; text-decoration-color: #00af00\">8</span>)              │            <span style=\"color: #00af00; text-decoration-color: #00af00\">80</span> │\n",
       "├─────────────────────────────────┼────────────────────────┼───────────────┤\n",
       "│ dense_24 (<span style=\"color: #0087ff; text-decoration-color: #0087ff\">Dense</span>)                │ (<span style=\"color: #00d7ff; text-decoration-color: #00d7ff\">None</span>, <span style=\"color: #00af00; text-decoration-color: #00af00\">72</span>)             │           <span style=\"color: #00af00; text-decoration-color: #00af00\">648</span> │\n",
       "└─────────────────────────────────┴────────────────────────┴───────────────┘\n",
       "</pre>\n"
      ],
      "text/plain": [
       "┏━━━━━━━━━━━━━━━━━━━━━━━━━━━━━━━━━┳━━━━━━━━━━━━━━━━━━━━━━━━┳━━━━━━━━━━━━━━━┓\n",
       "┃\u001b[1m \u001b[0m\u001b[1mLayer (type)                   \u001b[0m\u001b[1m \u001b[0m┃\u001b[1m \u001b[0m\u001b[1mOutput Shape          \u001b[0m\u001b[1m \u001b[0m┃\u001b[1m \u001b[0m\u001b[1m      Param #\u001b[0m\u001b[1m \u001b[0m┃\n",
       "┡━━━━━━━━━━━━━━━━━━━━━━━━━━━━━━━━━╇━━━━━━━━━━━━━━━━━━━━━━━━╇━━━━━━━━━━━━━━━┩\n",
       "│ simple_rnn (\u001b[38;5;33mSimpleRNN\u001b[0m)          │ (\u001b[38;5;45mNone\u001b[0m, \u001b[38;5;34m8\u001b[0m)              │            \u001b[38;5;34m80\u001b[0m │\n",
       "├─────────────────────────────────┼────────────────────────┼───────────────┤\n",
       "│ dense_24 (\u001b[38;5;33mDense\u001b[0m)                │ (\u001b[38;5;45mNone\u001b[0m, \u001b[38;5;34m72\u001b[0m)             │           \u001b[38;5;34m648\u001b[0m │\n",
       "└─────────────────────────────────┴────────────────────────┴───────────────┘\n"
      ]
     },
     "metadata": {},
     "output_type": "display_data"
    },
    {
     "data": {
      "text/html": [
       "<pre style=\"white-space:pre;overflow-x:auto;line-height:normal;font-family:Menlo,'DejaVu Sans Mono',consolas,'Courier New',monospace\"><span style=\"font-weight: bold\"> Total params: </span><span style=\"color: #00af00; text-decoration-color: #00af00\">728</span> (2.84 KB)\n",
       "</pre>\n"
      ],
      "text/plain": [
       "\u001b[1m Total params: \u001b[0m\u001b[38;5;34m728\u001b[0m (2.84 KB)\n"
      ]
     },
     "metadata": {},
     "output_type": "display_data"
    },
    {
     "data": {
      "text/html": [
       "<pre style=\"white-space:pre;overflow-x:auto;line-height:normal;font-family:Menlo,'DejaVu Sans Mono',consolas,'Courier New',monospace\"><span style=\"font-weight: bold\"> Trainable params: </span><span style=\"color: #00af00; text-decoration-color: #00af00\">728</span> (2.84 KB)\n",
       "</pre>\n"
      ],
      "text/plain": [
       "\u001b[1m Trainable params: \u001b[0m\u001b[38;5;34m728\u001b[0m (2.84 KB)\n"
      ]
     },
     "metadata": {},
     "output_type": "display_data"
    },
    {
     "data": {
      "text/html": [
       "<pre style=\"white-space:pre;overflow-x:auto;line-height:normal;font-family:Menlo,'DejaVu Sans Mono',consolas,'Courier New',monospace\"><span style=\"font-weight: bold\"> Non-trainable params: </span><span style=\"color: #00af00; text-decoration-color: #00af00\">0</span> (0.00 B)\n",
       "</pre>\n"
      ],
      "text/plain": [
       "\u001b[1m Non-trainable params: \u001b[0m\u001b[38;5;34m0\u001b[0m (0.00 B)\n"
      ]
     },
     "metadata": {},
     "output_type": "display_data"
    },
    {
     "name": "stdout",
     "output_type": "stream",
     "text": [
      "Epoch 1/5\n",
      "\u001b[1m7040/7040\u001b[0m \u001b[32m━━━━━━━━━━━━━━━━━━━━\u001b[0m\u001b[37m\u001b[0m \u001b[1m99s\u001b[0m 14ms/step - loss: 0.0713 - mean_absolute_error: 0.0713 - val_loss: 0.0462 - val_mean_absolute_error: 0.0462\n",
      "Epoch 2/5\n",
      "\u001b[1m7040/7040\u001b[0m \u001b[32m━━━━━━━━━━━━━━━━━━━━\u001b[0m\u001b[37m\u001b[0m \u001b[1m100s\u001b[0m 14ms/step - loss: 0.0458 - mean_absolute_error: 0.0458 - val_loss: 0.0451 - val_mean_absolute_error: 0.0451\n",
      "Epoch 3/5\n",
      "\u001b[1m7040/7040\u001b[0m \u001b[32m━━━━━━━━━━━━━━━━━━━━\u001b[0m\u001b[37m\u001b[0m \u001b[1m110s\u001b[0m 16ms/step - loss: 0.0453 - mean_absolute_error: 0.0453 - val_loss: 0.0445 - val_mean_absolute_error: 0.0445\n",
      "Epoch 4/5\n",
      "\u001b[1m7040/7040\u001b[0m \u001b[32m━━━━━━━━━━━━━━━━━━━━\u001b[0m\u001b[37m\u001b[0m \u001b[1m110s\u001b[0m 16ms/step - loss: 0.0445 - mean_absolute_error: 0.0445 - val_loss: 0.0433 - val_mean_absolute_error: 0.0433\n",
      "Epoch 5/5\n",
      "\u001b[1m7040/7040\u001b[0m \u001b[32m━━━━━━━━━━━━━━━━━━━━\u001b[0m\u001b[37m\u001b[0m \u001b[1m97s\u001b[0m 14ms/step - loss: 0.0433 - mean_absolute_error: 0.0433 - val_loss: 0.0473 - val_mean_absolute_error: 0.0473\n",
      "\u001b[1m4334/4334\u001b[0m \u001b[32m━━━━━━━━━━━━━━━━━━━━\u001b[0m\u001b[37m\u001b[0m \u001b[1m24s\u001b[0m 5ms/step\n",
      "0.6508219079172867\n"
     ]
    },
    {
     "data": {
      "image/png": "[encoded data removed]",
      "text/plain": [
       "<Figure size 640x480 with 1 Axes>"
      ]
     },
     "metadata": {},
     "output_type": "display_data"
    }
   ],
   "source": [
    "import random\n",
    "random.seed(42)\n",
    "\n",
    "from tensorflow.keras.models import Sequential\n",
    "from tensorflow.keras.layers import Dense, SimpleRNN\n",
    "\n",
    "simple_model = Sequential([\n",
    "  SimpleRNN(8, activation='tanh',input_shape=(n_timesteps, n_features)),\n",
    "  Dense(y_train.shape[1]),\n",
    "])\n",
    "\n",
    "\n",
    "simple_model.summary()\n",
    "\n",
    "simple_model.compile(\n",
    "  optimizer=keras.optimizers.Adam(learning_rate=0.001),\n",
    "  loss='mean_absolute_error',\n",
    "  metrics=['mean_absolute_error'],\n",
    ")\n",
    "\n",
    "smod_history = simple_model.fit(X_train_rs, y_train,\n",
    "          validation_split=0.2,\n",
    "          epochs=5,\n",
    "          batch_size=batch_size,\n",
    "          shuffle = True\n",
    ")\n",
    "\n",
    "preds = simple_model.predict(X_test_rs)\n",
    "\n",
    "from sklearn.metrics import r2_score\n",
    "print(r2_score(preds, y_test))\n",
    "\n",
    "import matplotlib.pyplot as plt\n",
    "plt.plot(smod_history.history['loss'])\n",
    "plt.plot(smod_history.history['val_loss'])\n",
    "plt.title('model loss')\n",
    "plt.xlabel('epoch')\n",
    "plt.legend(['train', 'val'], loc='upper left')\n",
    "plt.show()\n"
   ]
  },
  {
   "cell_type": "markdown",
   "id": "divided-renaissance",
   "metadata": {},
   "source": [
    "## Listing 17-8. A more complex network with three layers of SimpleRNN"
   ]
  },
  {
   "cell_type": "code",
   "execution_count": 22,
   "id": "regulated-admission",
   "metadata": {},
   "outputs": [
    {
     "name": "stderr",
     "output_type": "stream",
     "text": [
      "c:\\Users\\ALBER\\AppData\\Local\\Programs\\Python\\Python312\\Lib\\site-packages\\keras\\src\\layers\\rnn\\rnn.py:204: UserWarning: Do not pass an `input_shape`/`input_dim` argument to a layer. When using Sequential models, prefer using an `Input(shape)` object as the first layer in the model instead.\n",
      "  super().__init__(**kwargs)\n"
     ]
    },
    {
     "data": {
      "text/html": [
       "<pre style=\"white-space:pre;overflow-x:auto;line-height:normal;font-family:Menlo,'DejaVu Sans Mono',consolas,'Courier New',monospace\"><span style=\"font-weight: bold\">Model: \"sequential_3\"</span>\n",
       "</pre>\n"
      ],
      "text/plain": [
       "\u001b[1mModel: \"sequential_3\"\u001b[0m\n"
      ]
     },
     "metadata": {},
     "output_type": "display_data"
    },
    {
     "data": {
      "text/html": [
       "<pre style=\"white-space:pre;overflow-x:auto;line-height:normal;font-family:Menlo,'DejaVu Sans Mono',consolas,'Courier New',monospace\">┏━━━━━━━━━━━━━━━━━━━━━━━━━━━━━━━━━┳━━━━━━━━━━━━━━━━━━━━━━━━┳━━━━━━━━━━━━━━━┓\n",
       "┃<span style=\"font-weight: bold\"> Layer (type)                    </span>┃<span style=\"font-weight: bold\"> Output Shape           </span>┃<span style=\"font-weight: bold\">       Param # </span>┃\n",
       "┡━━━━━━━━━━━━━━━━━━━━━━━━━━━━━━━━━╇━━━━━━━━━━━━━━━━━━━━━━━━╇━━━━━━━━━━━━━━━┩\n",
       "│ simple_rnn_1 (<span style=\"color: #0087ff; text-decoration-color: #0087ff\">SimpleRNN</span>)        │ (<span style=\"color: #00d7ff; text-decoration-color: #00d7ff\">None</span>, <span style=\"color: #00af00; text-decoration-color: #00af00\">216</span>, <span style=\"color: #00af00; text-decoration-color: #00af00\">32</span>)        │         <span style=\"color: #00af00; text-decoration-color: #00af00\">1,088</span> │\n",
       "├─────────────────────────────────┼────────────────────────┼───────────────┤\n",
       "│ simple_rnn_2 (<span style=\"color: #0087ff; text-decoration-color: #0087ff\">SimpleRNN</span>)        │ (<span style=\"color: #00d7ff; text-decoration-color: #00d7ff\">None</span>, <span style=\"color: #00af00; text-decoration-color: #00af00\">216</span>, <span style=\"color: #00af00; text-decoration-color: #00af00\">32</span>)        │         <span style=\"color: #00af00; text-decoration-color: #00af00\">2,080</span> │\n",
       "├─────────────────────────────────┼────────────────────────┼───────────────┤\n",
       "│ simple_rnn_3 (<span style=\"color: #0087ff; text-decoration-color: #0087ff\">SimpleRNN</span>)        │ (<span style=\"color: #00d7ff; text-decoration-color: #00d7ff\">None</span>, <span style=\"color: #00af00; text-decoration-color: #00af00\">32</span>)             │         <span style=\"color: #00af00; text-decoration-color: #00af00\">2,080</span> │\n",
       "├─────────────────────────────────┼────────────────────────┼───────────────┤\n",
       "│ dense_25 (<span style=\"color: #0087ff; text-decoration-color: #0087ff\">Dense</span>)                │ (<span style=\"color: #00d7ff; text-decoration-color: #00d7ff\">None</span>, <span style=\"color: #00af00; text-decoration-color: #00af00\">72</span>)             │         <span style=\"color: #00af00; text-decoration-color: #00af00\">2,376</span> │\n",
       "└─────────────────────────────────┴────────────────────────┴───────────────┘\n",
       "</pre>\n"
      ],
      "text/plain": [
       "┏━━━━━━━━━━━━━━━━━━━━━━━━━━━━━━━━━┳━━━━━━━━━━━━━━━━━━━━━━━━┳━━━━━━━━━━━━━━━┓\n",
       "┃\u001b[1m \u001b[0m\u001b[1mLayer (type)                   \u001b[0m\u001b[1m \u001b[0m┃\u001b[1m \u001b[0m\u001b[1mOutput Shape          \u001b[0m\u001b[1m \u001b[0m┃\u001b[1m \u001b[0m\u001b[1m      Param #\u001b[0m\u001b[1m \u001b[0m┃\n",
       "┡━━━━━━━━━━━━━━━━━━━━━━━━━━━━━━━━━╇━━━━━━━━━━━━━━━━━━━━━━━━╇━━━━━━━━━━━━━━━┩\n",
       "│ simple_rnn_1 (\u001b[38;5;33mSimpleRNN\u001b[0m)        │ (\u001b[38;5;45mNone\u001b[0m, \u001b[38;5;34m216\u001b[0m, \u001b[38;5;34m32\u001b[0m)        │         \u001b[38;5;34m1,088\u001b[0m │\n",
       "├─────────────────────────────────┼────────────────────────┼───────────────┤\n",
       "│ simple_rnn_2 (\u001b[38;5;33mSimpleRNN\u001b[0m)        │ (\u001b[38;5;45mNone\u001b[0m, \u001b[38;5;34m216\u001b[0m, \u001b[38;5;34m32\u001b[0m)        │         \u001b[38;5;34m2,080\u001b[0m │\n",
       "├─────────────────────────────────┼────────────────────────┼───────────────┤\n",
       "│ simple_rnn_3 (\u001b[38;5;33mSimpleRNN\u001b[0m)        │ (\u001b[38;5;45mNone\u001b[0m, \u001b[38;5;34m32\u001b[0m)             │         \u001b[38;5;34m2,080\u001b[0m │\n",
       "├─────────────────────────────────┼────────────────────────┼───────────────┤\n",
       "│ dense_25 (\u001b[38;5;33mDense\u001b[0m)                │ (\u001b[38;5;45mNone\u001b[0m, \u001b[38;5;34m72\u001b[0m)             │         \u001b[38;5;34m2,376\u001b[0m │\n",
       "└─────────────────────────────────┴────────────────────────┴───────────────┘\n"
      ]
     },
     "metadata": {},
     "output_type": "display_data"
    },
    {
     "data": {
      "text/html": [
       "<pre style=\"white-space:pre;overflow-x:auto;line-height:normal;font-family:Menlo,'DejaVu Sans Mono',consolas,'Courier New',monospace\"><span style=\"font-weight: bold\"> Total params: </span><span style=\"color: #00af00; text-decoration-color: #00af00\">7,624</span> (29.78 KB)\n",
       "</pre>\n"
      ],
      "text/plain": [
       "\u001b[1m Total params: \u001b[0m\u001b[38;5;34m7,624\u001b[0m (29.78 KB)\n"
      ]
     },
     "metadata": {},
     "output_type": "display_data"
    },
    {
     "data": {
      "text/html": [
       "<pre style=\"white-space:pre;overflow-x:auto;line-height:normal;font-family:Menlo,'DejaVu Sans Mono',consolas,'Courier New',monospace\"><span style=\"font-weight: bold\"> Trainable params: </span><span style=\"color: #00af00; text-decoration-color: #00af00\">7,624</span> (29.78 KB)\n",
       "</pre>\n"
      ],
      "text/plain": [
       "\u001b[1m Trainable params: \u001b[0m\u001b[38;5;34m7,624\u001b[0m (29.78 KB)\n"
      ]
     },
     "metadata": {},
     "output_type": "display_data"
    },
    {
     "data": {
      "text/html": [
       "<pre style=\"white-space:pre;overflow-x:auto;line-height:normal;font-family:Menlo,'DejaVu Sans Mono',consolas,'Courier New',monospace\"><span style=\"font-weight: bold\"> Non-trainable params: </span><span style=\"color: #00af00; text-decoration-color: #00af00\">0</span> (0.00 B)\n",
       "</pre>\n"
      ],
      "text/plain": [
       "\u001b[1m Non-trainable params: \u001b[0m\u001b[38;5;34m0\u001b[0m (0.00 B)\n"
      ]
     },
     "metadata": {},
     "output_type": "display_data"
    },
    {
     "name": "stdout",
     "output_type": "stream",
     "text": [
      "Epoch 1/5\n",
      "\u001b[1m7040/7040\u001b[0m \u001b[32m━━━━━━━━━━━━━━━━━━━━\u001b[0m\u001b[37m\u001b[0m \u001b[1m422s\u001b[0m 59ms/step - loss: 0.0518 - mean_absolute_error: 0.0518 - val_loss: 0.0342 - val_mean_absolute_error: 0.0342\n",
      "Epoch 2/5\n",
      "\u001b[1m7040/7040\u001b[0m \u001b[32m━━━━━━━━━━━━━━━━━━━━\u001b[0m\u001b[37m\u001b[0m \u001b[1m421s\u001b[0m 60ms/step - loss: 0.0327 - mean_absolute_error: 0.0327 - val_loss: 0.0305 - val_mean_absolute_error: 0.0305\n",
      "Epoch 3/5\n",
      "\u001b[1m7040/7040\u001b[0m \u001b[32m━━━━━━━━━━━━━━━━━━━━\u001b[0m\u001b[37m\u001b[0m \u001b[1m404s\u001b[0m 57ms/step - loss: 0.0323 - mean_absolute_error: 0.0323 - val_loss: 0.0341 - val_mean_absolute_error: 0.0341\n",
      "Epoch 4/5\n",
      "\u001b[1m7040/7040\u001b[0m \u001b[32m━━━━━━━━━━━━━━━━━━━━\u001b[0m\u001b[37m\u001b[0m \u001b[1m408s\u001b[0m 58ms/step - loss: 0.0316 - mean_absolute_error: 0.0316 - val_loss: 0.0370 - val_mean_absolute_error: 0.0370\n",
      "Epoch 5/5\n",
      "\u001b[1m7040/7040\u001b[0m \u001b[32m━━━━━━━━━━━━━━━━━━━━\u001b[0m\u001b[37m\u001b[0m \u001b[1m401s\u001b[0m 57ms/step - loss: 0.0315 - mean_absolute_error: 0.0315 - val_loss: 0.0293 - val_mean_absolute_error: 0.0293\n",
      "\u001b[1m4334/4334\u001b[0m \u001b[32m━━━━━━━━━━━━━━━━━━━━\u001b[0m\u001b[37m\u001b[0m \u001b[1m64s\u001b[0m 15ms/step\n",
      "0.8972662058502296\n"
     ]
    },
    {
     "data": {
      "image/png": "[encoded data removed]",
      "text/plain": [
       "<Figure size 640x480 with 1 Axes>"
      ]
     },
     "metadata": {},
     "output_type": "display_data"
    }
   ],
   "source": [
    "random.seed(42)\n",
    "\n",
    "simple_model = Sequential([\n",
    "  SimpleRNN(32, activation='tanh',input_shape=(n_timesteps, n_features), return_sequences=True),\n",
    "  SimpleRNN(32, activation='tanh', return_sequences = True),\n",
    "  SimpleRNN(32, activation='tanh'),\n",
    "  Dense(y_train.shape[1]),\n",
    "])\n",
    "\n",
    "simple_model.summary()\n",
    "\n",
    "simple_model.compile(\n",
    "  optimizer=keras.optimizers.Adam(learning_rate=0.001),\n",
    "  loss='mean_absolute_error',\n",
    "  metrics=['mean_absolute_error'],\n",
    ")\n",
    "\n",
    "smod_history = simple_model.fit(X_train_rs, y_train,\n",
    "          validation_split=0.2,\n",
    "          epochs=5,\n",
    "          batch_size=batch_size,\n",
    "          shuffle = True\n",
    ")\n",
    "\n",
    "preds = simple_model.predict(X_test_rs)\n",
    "\n",
    "print(r2_score(preds, y_test))\n",
    "\n",
    "plt.plot(smod_history.history['loss'])\n",
    "plt.plot(smod_history.history['val_loss'])\n",
    "plt.title('model loss')\n",
    "plt.xlabel('epoch')\n",
    "plt.legend(['train', 'val'], loc='upper left')\n",
    "plt.show()\n"
   ]
  },
  {
   "cell_type": "markdown",
   "id": "auburn-compatibility",
   "metadata": {},
   "source": [
    "## Listing 17-9. A simple architecture with 1 GRU layer"
   ]
  },
  {
   "cell_type": "code",
   "execution_count": 23,
   "id": "described-namibia",
   "metadata": {},
   "outputs": [
    {
     "name": "stderr",
     "output_type": "stream",
     "text": [
      "c:\\Users\\ALBER\\AppData\\Local\\Programs\\Python\\Python312\\Lib\\site-packages\\keras\\src\\layers\\rnn\\rnn.py:204: UserWarning: Do not pass an `input_shape`/`input_dim` argument to a layer. When using Sequential models, prefer using an `Input(shape)` object as the first layer in the model instead.\n",
      "  super().__init__(**kwargs)\n"
     ]
    },
    {
     "data": {
      "text/html": [
       "<pre style=\"white-space:pre;overflow-x:auto;line-height:normal;font-family:Menlo,'DejaVu Sans Mono',consolas,'Courier New',monospace\"><span style=\"font-weight: bold\">Model: \"sequential_4\"</span>\n",
       "</pre>\n"
      ],
      "text/plain": [
       "\u001b[1mModel: \"sequential_4\"\u001b[0m\n"
      ]
     },
     "metadata": {},
     "output_type": "display_data"
    },
    {
     "data": {
      "text/html": [
       "<pre style=\"white-space:pre;overflow-x:auto;line-height:normal;font-family:Menlo,'DejaVu Sans Mono',consolas,'Courier New',monospace\">┏━━━━━━━━━━━━━━━━━━━━━━━━━━━━━━━━━┳━━━━━━━━━━━━━━━━━━━━━━━━┳━━━━━━━━━━━━━━━┓\n",
       "┃<span style=\"font-weight: bold\"> Layer (type)                    </span>┃<span style=\"font-weight: bold\"> Output Shape           </span>┃<span style=\"font-weight: bold\">       Param # </span>┃\n",
       "┡━━━━━━━━━━━━━━━━━━━━━━━━━━━━━━━━━╇━━━━━━━━━━━━━━━━━━━━━━━━╇━━━━━━━━━━━━━━━┩\n",
       "│ gru (<span style=\"color: #0087ff; text-decoration-color: #0087ff\">GRU</span>)                       │ (<span style=\"color: #00d7ff; text-decoration-color: #00d7ff\">None</span>, <span style=\"color: #00af00; text-decoration-color: #00af00\">8</span>)              │           <span style=\"color: #00af00; text-decoration-color: #00af00\">264</span> │\n",
       "├─────────────────────────────────┼────────────────────────┼───────────────┤\n",
       "│ dense_26 (<span style=\"color: #0087ff; text-decoration-color: #0087ff\">Dense</span>)                │ (<span style=\"color: #00d7ff; text-decoration-color: #00d7ff\">None</span>, <span style=\"color: #00af00; text-decoration-color: #00af00\">72</span>)             │           <span style=\"color: #00af00; text-decoration-color: #00af00\">648</span> │\n",
       "└─────────────────────────────────┴────────────────────────┴───────────────┘\n",
       "</pre>\n"
      ],
      "text/plain": [
       "┏━━━━━━━━━━━━━━━━━━━━━━━━━━━━━━━━━┳━━━━━━━━━━━━━━━━━━━━━━━━┳━━━━━━━━━━━━━━━┓\n",
       "┃\u001b[1m \u001b[0m\u001b[1mLayer (type)                   \u001b[0m\u001b[1m \u001b[0m┃\u001b[1m \u001b[0m\u001b[1mOutput Shape          \u001b[0m\u001b[1m \u001b[0m┃\u001b[1m \u001b[0m\u001b[1m      Param #\u001b[0m\u001b[1m \u001b[0m┃\n",
       "┡━━━━━━━━━━━━━━━━━━━━━━━━━━━━━━━━━╇━━━━━━━━━━━━━━━━━━━━━━━━╇━━━━━━━━━━━━━━━┩\n",
       "│ gru (\u001b[38;5;33mGRU\u001b[0m)                       │ (\u001b[38;5;45mNone\u001b[0m, \u001b[38;5;34m8\u001b[0m)              │           \u001b[38;5;34m264\u001b[0m │\n",
       "├─────────────────────────────────┼────────────────────────┼───────────────┤\n",
       "│ dense_26 (\u001b[38;5;33mDense\u001b[0m)                │ (\u001b[38;5;45mNone\u001b[0m, \u001b[38;5;34m72\u001b[0m)             │           \u001b[38;5;34m648\u001b[0m │\n",
       "└─────────────────────────────────┴────────────────────────┴───────────────┘\n"
      ]
     },
     "metadata": {},
     "output_type": "display_data"
    },
    {
     "data": {
      "text/html": [
       "<pre style=\"white-space:pre;overflow-x:auto;line-height:normal;font-family:Menlo,'DejaVu Sans Mono',consolas,'Courier New',monospace\"><span style=\"font-weight: bold\"> Total params: </span><span style=\"color: #00af00; text-decoration-color: #00af00\">912</span> (3.56 KB)\n",
       "</pre>\n"
      ],
      "text/plain": [
       "\u001b[1m Total params: \u001b[0m\u001b[38;5;34m912\u001b[0m (3.56 KB)\n"
      ]
     },
     "metadata": {},
     "output_type": "display_data"
    },
    {
     "data": {
      "text/html": [
       "<pre style=\"white-space:pre;overflow-x:auto;line-height:normal;font-family:Menlo,'DejaVu Sans Mono',consolas,'Courier New',monospace\"><span style=\"font-weight: bold\"> Trainable params: </span><span style=\"color: #00af00; text-decoration-color: #00af00\">912</span> (3.56 KB)\n",
       "</pre>\n"
      ],
      "text/plain": [
       "\u001b[1m Trainable params: \u001b[0m\u001b[38;5;34m912\u001b[0m (3.56 KB)\n"
      ]
     },
     "metadata": {},
     "output_type": "display_data"
    },
    {
     "data": {
      "text/html": [
       "<pre style=\"white-space:pre;overflow-x:auto;line-height:normal;font-family:Menlo,'DejaVu Sans Mono',consolas,'Courier New',monospace\"><span style=\"font-weight: bold\"> Non-trainable params: </span><span style=\"color: #00af00; text-decoration-color: #00af00\">0</span> (0.00 B)\n",
       "</pre>\n"
      ],
      "text/plain": [
       "\u001b[1m Non-trainable params: \u001b[0m\u001b[38;5;34m0\u001b[0m (0.00 B)\n"
      ]
     },
     "metadata": {},
     "output_type": "display_data"
    },
    {
     "name": "stdout",
     "output_type": "stream",
     "text": [
      "Epoch 1/10\n",
      "\u001b[1m7040/7040\u001b[0m \u001b[32m━━━━━━━━━━━━━━━━━━━━\u001b[0m\u001b[37m\u001b[0m \u001b[1m282s\u001b[0m 40ms/step - loss: 0.0521 - mean_absolute_error: 0.0521 - val_loss: 0.0422 - val_mean_absolute_error: 0.0422\n",
      "Epoch 2/10\n",
      "\u001b[1m7040/7040\u001b[0m \u001b[32m━━━━━━━━━━━━━━━━━━━━\u001b[0m\u001b[37m\u001b[0m \u001b[1m280s\u001b[0m 40ms/step - loss: 0.0371 - mean_absolute_error: 0.0371 - val_loss: 0.0287 - val_mean_absolute_error: 0.0287\n",
      "Epoch 3/10\n",
      "\u001b[1m7040/7040\u001b[0m \u001b[32m━━━━━━━━━━━━━━━━━━━━\u001b[0m\u001b[37m\u001b[0m \u001b[1m275s\u001b[0m 39ms/step - loss: 0.0280 - mean_absolute_error: 0.0280 - val_loss: 0.0287 - val_mean_absolute_error: 0.0287\n",
      "Epoch 4/10\n",
      "\u001b[1m7040/7040\u001b[0m \u001b[32m━━━━━━━━━━━━━━━━━━━━\u001b[0m\u001b[37m\u001b[0m \u001b[1m279s\u001b[0m 40ms/step - loss: 0.0276 - mean_absolute_error: 0.0276 - val_loss: 0.0274 - val_mean_absolute_error: 0.0274\n",
      "Epoch 5/10\n",
      "\u001b[1m7040/7040\u001b[0m \u001b[32m━━━━━━━━━━━━━━━━━━━━\u001b[0m\u001b[37m\u001b[0m \u001b[1m288s\u001b[0m 41ms/step - loss: 0.0370 - mean_absolute_error: 0.0370 - val_loss: 0.0477 - val_mean_absolute_error: 0.0477\n",
      "Epoch 6/10\n",
      "\u001b[1m7040/7040\u001b[0m \u001b[32m━━━━━━━━━━━━━━━━━━━━\u001b[0m\u001b[37m\u001b[0m \u001b[1m309s\u001b[0m 44ms/step - loss: 0.0461 - mean_absolute_error: 0.0461 - val_loss: 0.0450 - val_mean_absolute_error: 0.0450\n",
      "Epoch 7/10\n",
      "\u001b[1m7040/7040\u001b[0m \u001b[32m━━━━━━━━━━━━━━━━━━━━\u001b[0m\u001b[37m\u001b[0m \u001b[1m312s\u001b[0m 44ms/step - loss: 0.0459 - mean_absolute_error: 0.0459 - val_loss: 0.0451 - val_mean_absolute_error: 0.0451\n",
      "Epoch 8/10\n",
      "\u001b[1m7040/7040\u001b[0m \u001b[32m━━━━━━━━━━━━━━━━━━━━\u001b[0m\u001b[37m\u001b[0m \u001b[1m293s\u001b[0m 42ms/step - loss: 0.0460 - mean_absolute_error: 0.0460 - val_loss: 0.0452 - val_mean_absolute_error: 0.0452\n",
      "Epoch 9/10\n",
      "\u001b[1m7040/7040\u001b[0m \u001b[32m━━━━━━━━━━━━━━━━━━━━\u001b[0m\u001b[37m\u001b[0m \u001b[1m282s\u001b[0m 40ms/step - loss: 0.0458 - mean_absolute_error: 0.0458 - val_loss: 0.0457 - val_mean_absolute_error: 0.0457\n",
      "Epoch 10/10\n",
      "\u001b[1m7040/7040\u001b[0m \u001b[32m━━━━━━━━━━━━━━━━━━━━\u001b[0m\u001b[37m\u001b[0m \u001b[1m278s\u001b[0m 39ms/step - loss: 0.0454 - mean_absolute_error: 0.0454 - val_loss: 0.0436 - val_mean_absolute_error: 0.0436\n",
      "\u001b[1m4334/4334\u001b[0m \u001b[32m━━━━━━━━━━━━━━━━━━━━\u001b[0m\u001b[37m\u001b[0m \u001b[1m41s\u001b[0m 10ms/step\n",
      "0.7449994058618411\n"
     ]
    },
    {
     "data": {
      "image/png": "[encoded data removed]",
      "text/plain": [
       "<Figure size 640x480 with 1 Axes>"
      ]
     },
     "metadata": {},
     "output_type": "display_data"
    }
   ],
   "source": [
    "random.seed(42)\n",
    "from tensorflow.keras.layers import GRU\n",
    "\n",
    "simple_model = Sequential([\n",
    "   GRU(8, activation='tanh',input_shape=(n_timesteps, n_features)),\n",
    "  Dense(y_train.shape[1]),\n",
    "])\n",
    "\n",
    "simple_model.summary()\n",
    "\n",
    "simple_model.compile(\n",
    "  optimizer=keras.optimizers.Adam(learning_rate=0.01),\n",
    "  loss='mean_absolute_error',\n",
    "  metrics=['mean_absolute_error'],\n",
    ")\n",
    "\n",
    "smod_history = simple_model.fit(X_train_rs, y_train,\n",
    "          validation_split=0.2,\n",
    "          epochs=10,\n",
    "          batch_size=batch_size,\n",
    "          shuffle = True\n",
    ")\n",
    "\n",
    "preds = simple_model.predict(X_test_rs)\n",
    "\n",
    "print(r2_score(preds, y_test))\n",
    "\n",
    "plt.plot(smod_history.history['loss'])\n",
    "plt.plot(smod_history.history['val_loss'])\n",
    "plt.title('model loss')\n",
    "plt.xlabel('epoch')\n",
    "plt.legend(['train', 'val'], loc='upper left')\n",
    "plt.show()\n"
   ]
  },
  {
   "cell_type": "markdown",
   "id": "ultimate-tumor",
   "metadata": {},
   "source": [
    "## Listing 17-10. A more complex network with three layers of GRU"
   ]
  },
  {
   "cell_type": "code",
   "execution_count": null,
   "id": "equivalent-extraction",
   "metadata": {},
   "outputs": [],
   "source": [
    "random.seed(42)\n",
    "\n",
    "simple_model = Sequential([\n",
    "   GRU(64, activation='tanh',input_shape=(n_timesteps, n_features), return_sequences=True),\n",
    "    GRU(64, activation='tanh', return_sequences=True),\n",
    "    GRU(64, activation='tanh'),\n",
    "  Dense(y_train.shape[1]),\n",
    "])\n",
    "\n",
    "simple_model.summary()\n",
    "\n",
    "simple_model.compile(\n",
    "  optimizer=keras.optimizers.Adam(learning_rate=0.001),\n",
    "  loss='mean_absolute_error',\n",
    "  metrics=['mean_absolute_error'],\n",
    ")\n",
    "\n",
    "smod_history = simple_model.fit(X_train_rs, y_train,\n",
    "          validation_split=0.2,\n",
    "          epochs=10,\n",
    "          batch_size=batch_size,\n",
    "          shuffle = True\n",
    ")\n",
    "\n",
    "preds = simple_model.predict(X_test_rs)\n",
    "\n",
    "print(r2_score(preds, y_test))\n",
    "\n",
    "plt.plot(smod_history.history['loss'])\n",
    "plt.plot(smod_history.history['val_loss'])\n",
    "plt.title('model loss')\n",
    "plt.xlabel('epoch')\n",
    "plt.legend(['train', 'val'], loc='upper left')\n",
    "plt.show()\n"
   ]
  },
  {
   "cell_type": "markdown",
   "id": "organic-bikini",
   "metadata": {},
   "source": [
    "# Chapter 18 - LSTMs"
   ]
  },
  {
   "cell_type": "markdown",
   "id": "democratic-immigration",
   "metadata": {},
   "source": [
    "## Listing 18-1.Importing the weather data"
   ]
  },
  {
   "cell_type": "code",
   "execution_count": 25,
   "id": "seasonal-myanmar",
   "metadata": {},
   "outputs": [],
   "source": [
    "import keras\n",
    "import pandas as pd\n",
    "\n",
    "from zipfile import ZipFile\n",
    "import os\n",
    "\n",
    "uri = \"https://storage.googleapis.com/tensorflow/tf-keras-datasets/jena_climate_2009_2016.csv.zip\"\n",
    "zip_path = keras.utils.get_file(origin=uri, fname=\"jena_climate_2009_2016.csv.zip\")\n",
    "zip_file = ZipFile(zip_path)\n",
    "zip_file.extractall()\n",
    "csv_path = \"jena_climate_2009_2016.csv\"\n",
    "\n",
    "df = pd.read_csv(csv_path)\n",
    "del zip_file\n",
    "\n",
    "\n",
    "# retain only temperature\n",
    "df = df[['T (degC)']]\n",
    "\n",
    "# apply a min max scaler\n",
    "from sklearn.preprocessing import MinMaxScaler\n",
    "scaler = MinMaxScaler()\n",
    "df = pd.DataFrame(scaler.fit_transform(df), columns = ['T'])\n",
    "\n",
    "# convert to windowed data sets\n",
    "ylist = list(df['T'])\n",
    "\n",
    "n_future = 72\n",
    "n_past = 3*72\n",
    "total_period = 4*72\n",
    "\n",
    "idx_end = len(ylist)\n",
    "idx_start = idx_end - total_period\n",
    "\n",
    "X_new = []\n",
    "y_new = []\n",
    "while idx_start > 0:\n",
    "  x_line = ylist[idx_start:idx_start+n_past]\n",
    "  y_line = ylist[idx_start+n_past:idx_start+total_period]\n",
    "\n",
    "  X_new.append(x_line)\n",
    "  y_new.append(y_line)\n",
    "\n",
    "  idx_start = idx_start - 1\n",
    "\n",
    "import numpy as np\n",
    "X_new = np.array(X_new)\n",
    "y_new = np.array(y_new)\n",
    "\n",
    "# train test split\n",
    "from sklearn.model_selection import train_test_split\n",
    "X_train, X_test, y_train, y_test = train_test_split(X_new, y_new, test_size=0.33, random_state=42)\n",
    "\n",
    "# reshape data into the right format for RNNs\n",
    "n_samples = X_train.shape[0]\n",
    "n_timesteps = X_train.shape[1]\n",
    "n_steps = y_train.shape[1]\n",
    "n_features = 1\n",
    "\n",
    "X_train_rs = X_train.reshape(n_samples, n_timesteps, n_features )\n",
    "X_test_rs = X_test.reshape(X_test.shape[0], n_timesteps, n_features )\n",
    "\n"
   ]
  },
  {
   "cell_type": "markdown",
   "id": "seven-monroe",
   "metadata": {},
   "source": [
    "## Listing 18-2.One-layer LSTM"
   ]
  },
  {
   "cell_type": "code",
   "execution_count": 26,
   "id": "other-slope",
   "metadata": {},
   "outputs": [
    {
     "name": "stderr",
     "output_type": "stream",
     "text": [
      "c:\\Users\\ALBER\\AppData\\Local\\Programs\\Python\\Python312\\Lib\\site-packages\\keras\\src\\layers\\rnn\\rnn.py:204: UserWarning: Do not pass an `input_shape`/`input_dim` argument to a layer. When using Sequential models, prefer using an `Input(shape)` object as the first layer in the model instead.\n",
      "  super().__init__(**kwargs)\n"
     ]
    },
    {
     "data": {
      "text/html": [
       "<pre style=\"white-space:pre;overflow-x:auto;line-height:normal;font-family:Menlo,'DejaVu Sans Mono',consolas,'Courier New',monospace\"><span style=\"font-weight: bold\">Model: \"sequential_6\"</span>\n",
       "</pre>\n"
      ],
      "text/plain": [
       "\u001b[1mModel: \"sequential_6\"\u001b[0m\n"
      ]
     },
     "metadata": {},
     "output_type": "display_data"
    },
    {
     "data": {
      "text/html": [
       "<pre style=\"white-space:pre;overflow-x:auto;line-height:normal;font-family:Menlo,'DejaVu Sans Mono',consolas,'Courier New',monospace\">┏━━━━━━━━━━━━━━━━━━━━━━━━━━━━━━━━━┳━━━━━━━━━━━━━━━━━━━━━━━━┳━━━━━━━━━━━━━━━┓\n",
       "┃<span style=\"font-weight: bold\"> Layer (type)                    </span>┃<span style=\"font-weight: bold\"> Output Shape           </span>┃<span style=\"font-weight: bold\">       Param # </span>┃\n",
       "┡━━━━━━━━━━━━━━━━━━━━━━━━━━━━━━━━━╇━━━━━━━━━━━━━━━━━━━━━━━━╇━━━━━━━━━━━━━━━┩\n",
       "│ lstm (<span style=\"color: #0087ff; text-decoration-color: #0087ff\">LSTM</span>)                     │ (<span style=\"color: #00d7ff; text-decoration-color: #00d7ff\">None</span>, <span style=\"color: #00af00; text-decoration-color: #00af00\">8</span>)              │           <span style=\"color: #00af00; text-decoration-color: #00af00\">320</span> │\n",
       "├─────────────────────────────────┼────────────────────────┼───────────────┤\n",
       "│ dense_28 (<span style=\"color: #0087ff; text-decoration-color: #0087ff\">Dense</span>)                │ (<span style=\"color: #00d7ff; text-decoration-color: #00d7ff\">None</span>, <span style=\"color: #00af00; text-decoration-color: #00af00\">72</span>)             │           <span style=\"color: #00af00; text-decoration-color: #00af00\">648</span> │\n",
       "└─────────────────────────────────┴────────────────────────┴───────────────┘\n",
       "</pre>\n"
      ],
      "text/plain": [
       "┏━━━━━━━━━━━━━━━━━━━━━━━━━━━━━━━━━┳━━━━━━━━━━━━━━━━━━━━━━━━┳━━━━━━━━━━━━━━━┓\n",
       "┃\u001b[1m \u001b[0m\u001b[1mLayer (type)                   \u001b[0m\u001b[1m \u001b[0m┃\u001b[1m \u001b[0m\u001b[1mOutput Shape          \u001b[0m\u001b[1m \u001b[0m┃\u001b[1m \u001b[0m\u001b[1m      Param #\u001b[0m\u001b[1m \u001b[0m┃\n",
       "┡━━━━━━━━━━━━━━━━━━━━━━━━━━━━━━━━━╇━━━━━━━━━━━━━━━━━━━━━━━━╇━━━━━━━━━━━━━━━┩\n",
       "│ lstm (\u001b[38;5;33mLSTM\u001b[0m)                     │ (\u001b[38;5;45mNone\u001b[0m, \u001b[38;5;34m8\u001b[0m)              │           \u001b[38;5;34m320\u001b[0m │\n",
       "├─────────────────────────────────┼────────────────────────┼───────────────┤\n",
       "│ dense_28 (\u001b[38;5;33mDense\u001b[0m)                │ (\u001b[38;5;45mNone\u001b[0m, \u001b[38;5;34m72\u001b[0m)             │           \u001b[38;5;34m648\u001b[0m │\n",
       "└─────────────────────────────────┴────────────────────────┴───────────────┘\n"
      ]
     },
     "metadata": {},
     "output_type": "display_data"
    },
    {
     "data": {
      "text/html": [
       "<pre style=\"white-space:pre;overflow-x:auto;line-height:normal;font-family:Menlo,'DejaVu Sans Mono',consolas,'Courier New',monospace\"><span style=\"font-weight: bold\"> Total params: </span><span style=\"color: #00af00; text-decoration-color: #00af00\">968</span> (3.78 KB)\n",
       "</pre>\n"
      ],
      "text/plain": [
       "\u001b[1m Total params: \u001b[0m\u001b[38;5;34m968\u001b[0m (3.78 KB)\n"
      ]
     },
     "metadata": {},
     "output_type": "display_data"
    },
    {
     "data": {
      "text/html": [
       "<pre style=\"white-space:pre;overflow-x:auto;line-height:normal;font-family:Menlo,'DejaVu Sans Mono',consolas,'Courier New',monospace\"><span style=\"font-weight: bold\"> Trainable params: </span><span style=\"color: #00af00; text-decoration-color: #00af00\">968</span> (3.78 KB)\n",
       "</pre>\n"
      ],
      "text/plain": [
       "\u001b[1m Trainable params: \u001b[0m\u001b[38;5;34m968\u001b[0m (3.78 KB)\n"
      ]
     },
     "metadata": {},
     "output_type": "display_data"
    },
    {
     "data": {
      "text/html": [
       "<pre style=\"white-space:pre;overflow-x:auto;line-height:normal;font-family:Menlo,'DejaVu Sans Mono',consolas,'Courier New',monospace\"><span style=\"font-weight: bold\"> Non-trainable params: </span><span style=\"color: #00af00; text-decoration-color: #00af00\">0</span> (0.00 B)\n",
       "</pre>\n"
      ],
      "text/plain": [
       "\u001b[1m Non-trainable params: \u001b[0m\u001b[38;5;34m0\u001b[0m (0.00 B)\n"
      ]
     },
     "metadata": {},
     "output_type": "display_data"
    },
    {
     "name": "stdout",
     "output_type": "stream",
     "text": [
      "Epoch 1/5\n",
      "\u001b[1m7040/7040\u001b[0m \u001b[32m━━━━━━━━━━━━━━━━━━━━\u001b[0m\u001b[37m\u001b[0m \u001b[1m251s\u001b[0m 35ms/step - loss: 0.0459 - mean_absolute_error: 0.0459 - val_loss: 0.0297 - val_mean_absolute_error: 0.0297\n",
      "Epoch 2/5\n",
      "\u001b[1m7040/7040\u001b[0m \u001b[32m━━━━━━━━━━━━━━━━━━━━\u001b[0m\u001b[37m\u001b[0m \u001b[1m292s\u001b[0m 42ms/step - loss: 0.0283 - mean_absolute_error: 0.0283 - val_loss: 0.0275 - val_mean_absolute_error: 0.0275\n",
      "Epoch 3/5\n",
      "\u001b[1m7039/7040\u001b[0m \u001b[32m━━━━━━━━━━━━━━━━━━━\u001b[0m\u001b[37m━\u001b[0m \u001b[1m0s\u001b[0m 42ms/step - loss: 0.0276 - mean_absolute_error: 0.0276"
     ]
    }
   ],
   "source": [
    "import random\n",
    "from tensorflow.keras.models import Sequential\n",
    "from tensorflow.keras.layers import Dense, LSTM\n",
    "random.seed(42)\n",
    "\n",
    "batch_size = 32\n",
    "simple_model = Sequential([\n",
    "   LSTM(8, activation='tanh',input_shape=(n_timesteps, n_features)),\n",
    "  Dense(y_train.shape[1]),\n",
    "])\n",
    "\n",
    "simple_model.summary()\n",
    "\n",
    "simple_model.compile(\n",
    "  optimizer=keras.optimizers.Adam(learning_rate=0.01),\n",
    "  loss='mean_absolute_error',\n",
    "  metrics=['mean_absolute_error'],\n",
    ")\n",
    "\n",
    "smod_history = simple_model.fit(X_train_rs, y_train,\n",
    "          validation_split=0.2,\n",
    "          epochs=5,\n",
    "          batch_size=batch_size,\n",
    "          shuffle = True\n",
    ")\n",
    "\n",
    "preds = simple_model.predict(X_test_rs)\n",
    "\n",
    "print(r2_score(preds, y_test))\n",
    "\n",
    "plt.plot(smod_history.history['loss'])\n",
    "plt.plot(smod_history.history['val_loss'])\n",
    "plt.title('model loss')\n",
    "plt.xlabel('epoch')\n",
    "plt.legend(['train', 'val'], loc='upper left')\n",
    "plt.show()\n"
   ]
  },
  {
   "cell_type": "markdown",
   "id": "assured-finger",
   "metadata": {},
   "source": [
    "## Listing 18-3.Three-layer LSTM"
   ]
  },
  {
   "cell_type": "code",
   "execution_count": null,
   "id": "proud-patrick",
   "metadata": {},
   "outputs": [],
   "source": [
    "random.seed(42)\n",
    "\n",
    "simple_model = Sequential([\n",
    "   LSTM(64, activation='tanh',input_shape=(n_timesteps, n_features), return_sequences=True),\n",
    "    LSTM(64, activation='tanh', return_sequences=True),\n",
    "    LSTM(64, activation='tanh'),\n",
    "  Dense(y_train.shape[1]),\n",
    "])\n",
    "\n",
    "simple_model.summary()\n",
    "\n",
    "simple_model.compile(\n",
    "  optimizer=keras.optimizers.Adam(learning_rate=0.001),\n",
    "  loss='mean_absolute_error',\n",
    "  metrics=['mean_absolute_error'],\n",
    ")\n",
    "\n",
    "smod_history = simple_model.fit(X_train_rs, y_train,\n",
    "          validation_split=0.2,\n",
    "          epochs=10,\n",
    "          batch_size=batch_size,\n",
    "          shuffle = True\n",
    ")\n",
    "\n",
    "preds = simple_model.predict(X_test_rs)\n",
    "\n",
    "print(r2_score(preds, y_test))\n",
    "\n",
    "plt.plot(smod_history.history['loss'])\n",
    "plt.plot(smod_history.history['val_loss'])\n",
    "plt.title('model loss')\n",
    "plt.ylabel('accuracy')\n",
    "plt.xlabel('epoch')\n",
    "plt.legend(['train', 'val'], loc='upper left')\n",
    "plt.show()\n"
   ]
  },
  {
   "cell_type": "markdown",
   "id": "developed-insider",
   "metadata": {},
   "source": [
    "# Chapter 19 - Facebook's Prophet"
   ]
  },
  {
   "cell_type": "markdown",
   "id": "loose-helen",
   "metadata": {},
   "source": [
    "## Listing 19-1. Preparing the dependent variable"
   ]
  },
  {
   "cell_type": "code",
   "execution_count": null,
   "id": "unlimited-michael",
   "metadata": {},
   "outputs": [],
   "source": [
    "import pandas as pd\n",
    "y = pd.read_csv('air_visit_data.csv.zip')\n",
    "y = y.pivot(index='visit_date', columns='air_store_id')['visitors']\n",
    "y = y.fillna(0)\n",
    "y = pd.DataFrame(y.sum(axis=1))\n"
   ]
  },
  {
   "cell_type": "markdown",
   "id": "sudden-overview",
   "metadata": {},
   "source": [
    "## Listing 19-2. Preparing the modeling data frame"
   ]
  },
  {
   "cell_type": "code",
   "execution_count": null,
   "id": "recorded-industry",
   "metadata": {},
   "outputs": [],
   "source": [
    "y = y.reset_index(drop=False)\n",
    "y.columns = ['ds', 'y']\n"
   ]
  },
  {
   "cell_type": "markdown",
   "id": "basic-hybrid",
   "metadata": {},
   "source": [
    "## Listing 19-3. Creating a train-test split"
   ]
  },
  {
   "cell_type": "code",
   "execution_count": null,
   "id": "heard-toyota",
   "metadata": {},
   "outputs": [],
   "source": [
    "train = y.iloc[:450,:]\n",
    "test = y.iloc[450:,:]\n"
   ]
  },
  {
   "cell_type": "markdown",
   "id": "recorded-evolution",
   "metadata": {},
   "source": [
    "## Listing 19-4. Creating a basic Prophet model"
   ]
  },
  {
   "cell_type": "code",
   "execution_count": null,
   "id": "preliminary-latter",
   "metadata": {},
   "outputs": [],
   "source": [
    "from fbprophet import Prophet\n",
    "m = Prophet()\n",
    "m.fit(train)\n"
   ]
  },
  {
   "cell_type": "markdown",
   "id": "tested-protocol",
   "metadata": {},
   "source": [
    "## Listing 19-5. Creating a basic Prophet model"
   ]
  },
  {
   "cell_type": "code",
   "execution_count": null,
   "id": "general-labor",
   "metadata": {},
   "outputs": [],
   "source": [
    "future = m.make_future_dataframe(periods=len(test))\n",
    "forecast = m.predict(future)\n"
   ]
  },
  {
   "cell_type": "markdown",
   "id": "increasing-affair",
   "metadata": {},
   "source": [
    "## Listing 19-6. Creating a basic Prophet model"
   ]
  },
  {
   "cell_type": "code",
   "execution_count": null,
   "id": "loved-dealer",
   "metadata": {},
   "outputs": [],
   "source": [
    "from sklearn.metrics import r2_score\n",
    "print(r2_score(list(test['y']), list(forecast.loc[450:,'yhat'] )))\n"
   ]
  },
  {
   "cell_type": "markdown",
   "id": "positive-amendment",
   "metadata": {},
   "source": [
    "## Listing 19-7. Plotting the fit of the model"
   ]
  },
  {
   "cell_type": "code",
   "execution_count": null,
   "id": "offensive-channels",
   "metadata": {},
   "outputs": [],
   "source": [
    "import matplotlib.pyplot as plt\n",
    "plt.plot(list(test['y']))\n",
    "plt.plot(list(forecast.loc[450:,'yhat'] ))\n",
    "plt.show()\n"
   ]
  },
  {
   "cell_type": "markdown",
   "id": "communist-rugby",
   "metadata": {},
   "source": [
    "## Listing 19-8. Creating a Prophet forecast plot"
   ]
  },
  {
   "cell_type": "code",
   "execution_count": null,
   "id": "stunning-norwegian",
   "metadata": {},
   "outputs": [],
   "source": [
    "fig1 = m.plot(forecast)\n",
    "plt.show()\n"
   ]
  },
  {
   "cell_type": "markdown",
   "id": "duplicate-psychology",
   "metadata": {},
   "source": [
    "## Listing 19-9. Creating a Prophet decomposition plot"
   ]
  },
  {
   "cell_type": "code",
   "execution_count": null,
   "id": "arranged-south",
   "metadata": {},
   "outputs": [],
   "source": [
    "fig2 = m.plot_components(forecast)\n",
    "plt.show()\n"
   ]
  },
  {
   "cell_type": "markdown",
   "id": "therapeutic-demand",
   "metadata": {},
   "source": [
    "## Listing 19-10. Add montly seasonality to the plot"
   ]
  },
  {
   "cell_type": "code",
   "execution_count": null,
   "id": "rising-gallery",
   "metadata": {},
   "outputs": [],
   "source": [
    "m2 = Prophet()\n",
    "m2.add_seasonality(name='monthly', period=30.5, fourier_order=5)\n",
    "\n",
    "m2.fit(train)\n",
    "\n",
    "future2 = m2.make_future_dataframe(periods=len(test))\n",
    "forecast2 = m2.predict(future)\n",
    "print(r2_score(list(test['y']), list(forecast2.loc[450:,'yhat'] )))\n",
    "\n",
    "fig2 = m2.plot_components(forecast2)\n",
    "plt.show()\n"
   ]
  },
  {
   "cell_type": "markdown",
   "id": "magnetic-steel",
   "metadata": {},
   "source": [
    "## Listing 19-11. Prepare holidays data"
   ]
  },
  {
   "cell_type": "code",
   "execution_count": null,
   "id": "appropriate-freedom",
   "metadata": {},
   "outputs": [],
   "source": [
    "holidays = pd.read_csv('date_info.csv.zip')\n",
    "holidays = holidays[holidays['holiday_flg'] == 1]\n",
    "holidays = holidays[['calendar_date', 'holiday_flg']]\n",
    "holidays = holidays.drop(['holiday_flg'], axis=1)\n",
    "holidays['holiday'] = 'holiday'\n",
    "holidays.columns = ['ds', 'holiday']\n"
   ]
  },
  {
   "cell_type": "markdown",
   "id": "prostate-japan",
   "metadata": {},
   "source": [
    "## Listing 19-12. Add holidays to the model"
   ]
  },
  {
   "cell_type": "code",
   "execution_count": null,
   "id": "three-missile",
   "metadata": {},
   "outputs": [],
   "source": [
    "m3 = Prophet(holidays=holidays)\n",
    "m3.fit(train)\n",
    "future3 = m3.make_future_dataframe(periods=len(test))\n",
    "forecast3 = m3.predict(future)\n",
    "\n",
    "print(r2_score(list(test['y']), list(forecast3.loc[450:,'yhat'] )))\n",
    "\n",
    "fig2 = m3.plot_components(forecast3)\n",
    "plt.show()\n"
   ]
  },
  {
   "cell_type": "markdown",
   "id": "three-boutique",
   "metadata": {},
   "source": [
    "## Listing 19-13. Add reservations to the model"
   ]
  },
  {
   "cell_type": "code",
   "execution_count": null,
   "id": "catholic-liberty",
   "metadata": {},
   "outputs": [],
   "source": [
    "X_reservations = pd.read_csv('air_reserve.csv.zip')\n",
    "X_reservations['visit_date'] = pd.to_datetime(X_reservations['visit_datetime']).dt.date\n",
    "X_reservations = pd.DataFrame(X_reservations.groupby('visit_date')['reserve_visitors'].sum())\n",
    "X_reservations = X_reservations.reset_index(drop = False)\n",
    "train4 = train.copy()\n",
    "train4['ds'] = pd.to_datetime(train4['ds']).dt.date\n",
    "train4 = train4.merge(X_reservations, left_on = 'ds', right_on = 'visit_date', how = 'left')[['ds', 'y', 'reserve_visitors']].fillna(0)\n"
   ]
  },
  {
   "cell_type": "markdown",
   "id": "solid-leeds",
   "metadata": {},
   "source": [
    "## Listing 19-14. Add reservations to the model"
   ]
  },
  {
   "cell_type": "code",
   "execution_count": null,
   "id": "burning-andrews",
   "metadata": {},
   "outputs": [],
   "source": [
    "m4 = Prophet()\n",
    "m4.add_regressor('reserve_visitors')\n",
    "m4.fit(train4)\n",
    "future4 = m4.make_future_dataframe(periods=len(test))\n",
    "future4['ds'] = pd.to_datetime(future4['ds']).dt.date\n",
    "\n",
    "future4 = future4.merge(X_reservations, left_on = 'ds', right_on = 'visit_date', how = 'left')[['ds', 'reserve_visitors']].fillna(0)\n",
    "\n",
    "forecast4 = m4.predict(future4)\n",
    "\n",
    "print(r2_score(list(test['y']), list(forecast4.loc[450:,'yhat'] )))\n",
    "\n",
    "plt.plot(list(test['y']))\n",
    "plt.plot(list(forecast4.loc[450:,'yhat'] ))\n",
    "\n",
    "fig2 = m4.plot_components(forecast4)\n",
    "plt.show()\n"
   ]
  },
  {
   "cell_type": "markdown",
   "id": "comparative-wrist",
   "metadata": {},
   "source": [
    "## Listing 19-15. Grid Searching the Prophet"
   ]
  },
  {
   "cell_type": "code",
   "execution_count": null,
   "id": "continuous-messenger",
   "metadata": {},
   "outputs": [],
   "source": [
    "def model_test(holidays, weekly_seasonality,\n",
    "yearly_seasonality, add_monthly, add_reserve, changepoint_prior_scale, holidays_prior_scale, month_fourier):\n",
    "    \n",
    "    m4 = Prophet(\n",
    "yearly_seasonality=yearly_seasonality, \n",
    "weekly_seasonality=weekly_seasonality, \n",
    "holidays=holidays, \n",
    "changepoint_prior_scale=changepoint_prior_scale, \n",
    "holidays_prior_scale=holidays_prior_scale)\n",
    "    \n",
    "    if add_monthly:    \n",
    "        m4.add_seasonality(\n",
    "name='monthly', \n",
    "period=30.5, \n",
    "fourier_order=month_fourier)\n",
    "    \n",
    "    if add_reserve:\n",
    "        m4.add_regressor('reserve_visitors')\n",
    "\n",
    "    m4.fit(train4)\n",
    "\n",
    "    future4 = m4.make_future_dataframe(periods=len(test))\n",
    "\n",
    "    future4['ds'] = pd.to_datetime(future4['ds']).dt.date\n",
    "    \n",
    "    if add_reserve:\n",
    "        future4 = future4.merge(\n",
    "X_reservations, \n",
    "left_on = 'ds', \n",
    "right_on = 'visit_date', \n",
    "how = 'left')\n",
    "   future4 = future4[['ds', 'reserve_visitors']]\n",
    "   future4 = future4.fillna(0)\n",
    "\n",
    "    forecast4 = m4.predict(future4)\n",
    "\n",
    "    return r2_score(\n",
    "list(test['y']),\n",
    "list(forecast4.loc[450:,'yhat'] )) \n",
    "# Setting the grid\n",
    "holidays_opt = [holidays, None]\n",
    "weekly_seas = [ 5, 10, 30, 50]\n",
    "yearly_seas = [ 5, 10, 30, 50]\n",
    "add_monthly = [True, False]\n",
    "add_reserve = [True, False]\n",
    "changepoint_prior_scale = [0.1, 0.3, 0.5]\n",
    "holidays_prior_scale = [0.1, 0.3, 0.5]\n",
    "month_fourier = [5, 10, 30, 50]\n",
    "\n",
    "# Looping through the grid\n",
    "grid_results = []\n",
    "for h in holidays_opt:\n",
    "  for w in weekly_seas:\n",
    "    for ys in yearly_seas:\n",
    "      for m in add_monthly:\n",
    "        for r in add_reserve:\n",
    "           for c in changepoint_prior_scale:\n",
    "             for hp in holidays_prior_scale:\n",
    "               for mf in month_fourier:\n",
    "                  r2=model_test(h,w,ys,m,r,c,hp,mf)\n",
    "                  print([w,ys,m,r,c,hp,mf,r2])\n",
    "                  grid_results.append([h,w,ys,m,r,c,hp,mf,r2])\n",
    "\n",
    "# adding it all to a dataframe and extract the best model\n",
    "benchmark = pd.DataFrame(grid_results)\n",
    "benchmark = benchmark.sort_values(8, ascending=False)\n",
    "\n",
    "h, w,ys, m, r, c,hp,mf,r2 = list(benchmark.iloc[0,:])\n",
    "\n",
    "# Fit the Prophet with those best hyperparameters\n",
    "m4 = Prophet(\n",
    "yearly_seasonality=ys, \n",
    "weekly_seasonality=w, \n",
    "holidays=h, \n",
    "changepoint_prior_scale=c, \n",
    "holidays_prior_scale=hp)\n",
    "    \n",
    "if m:    \n",
    "    m4.add_seasonality(\n",
    "name='monthly', \n",
    "period=30.5, \n",
    "fourier_order=mf)\n",
    "\n",
    "if r:\n",
    "    m4.add_regressor('reserve_visitors')\n",
    "\n",
    "m4.fit(train4)\n",
    "\n",
    "future4 = m4.make_future_dataframe(periods=len(test))\n",
    "\n",
    "future4['ds'] = pd.to_datetime(future4['ds']).dt.date\n",
    "\n",
    "if r:\n",
    "    future4 = future4.merge(\n",
    "X_reservations, \n",
    "left_on = 'ds', \n",
    "right_on = 'visit_date', \n",
    "how = 'left')\n",
    "    future4 = future4[['ds', 'reserve_visitors']]\n",
    "    future4 = future4.fillna(0)\n",
    "\n",
    "forecast4 = m4.predict(future4)\n"
   ]
  },
  {
   "cell_type": "markdown",
   "id": "optimum-click",
   "metadata": {},
   "source": [
    "# Chapter 20 - Amazon's DeepAR"
   ]
  },
  {
   "cell_type": "markdown",
   "id": "industrial-focus",
   "metadata": {},
   "source": [
    "## Listing 20-1. Importing the data"
   ]
  },
  {
   "cell_type": "code",
   "execution_count": null,
   "id": "handy-restoration",
   "metadata": {},
   "outputs": [],
   "source": [
    "import pandas as pd\n",
    "y = pd.read_csv('air_visit_data.csv.zip')\n",
    "y = y.pivot(index='visit_date', columns='air_store_id')['visitors']\n",
    "y = y.fillna(0)\n",
    "y = pd.DataFrame(y.sum(axis=1))\n",
    "\n",
    "y = y.reset_index(drop=False)\n",
    "y.columns = ['date', 'y']\n"
   ]
  },
  {
   "cell_type": "markdown",
   "id": "considerable-zambia",
   "metadata": {},
   "source": [
    "## Listing 20-2. Preparing the data format requered by the gluonts library"
   ]
  },
  {
   "cell_type": "code",
   "execution_count": null,
   "id": "sublime-correspondence",
   "metadata": {},
   "outputs": [],
   "source": [
    "from gluonts.dataset.common import ListDataset\n",
    "start = pd.Timestamp(\"01-01-2016\", freq=\"H\")\n",
    "# train dataset: cut the last window of length \"prediction_length\", add \"target\" and \"start\" fields\n",
    "train_ds = ListDataset([{'target': y.loc[:450,'y'], 'start': start}], freq='H')\n",
    "# test dataset: use the whole dataset, add \"target\" and \"start\" fields\n",
    "test_ds = ListDataset([{'target': y['y'], 'start': start}],freq='H')\n"
   ]
  },
  {
   "cell_type": "markdown",
   "id": "clinical-camcorder",
   "metadata": {},
   "source": [
    "## Listing 20-3. Fitting the default DeepAR model"
   ]
  },
  {
   "cell_type": "code",
   "execution_count": null,
   "id": "applicable-seventh",
   "metadata": {},
   "outputs": [],
   "source": [
    "from gluonts.model.deepar import DeepAREstimator\n",
    "from gluonts.trainer import Trainer\n",
    "import mxnet as mx\n",
    "import numpy as np\n",
    "\n",
    "np.random.seed(7)\n",
    "mx.random.seed(7)\n",
    "\n",
    "estimator = DeepAREstimator(\n",
    "    prediction_length=28,\n",
    "    context_length=100,\n",
    "    freq=’H’,\n",
    "    trainer=Trainer(ctx=\"gpu\", # remove if running on windows\n",
    "                    epochs=5,\n",
    "                    learning_rate=1e-3,\n",
    "                    num_batches_per_epoch=100\n",
    "                   )\n",
    ")\n",
    "\n",
    "predictor = estimator.train(train_ds)\n"
   ]
  },
  {
   "cell_type": "markdown",
   "id": "later-conspiracy",
   "metadata": {},
   "source": [
    "## Listing 20-4. Prediction"
   ]
  },
  {
   "cell_type": "code",
   "execution_count": null,
   "id": "joined-swiss",
   "metadata": {},
   "outputs": [],
   "source": [
    "predictions = predictor.predict(test_ds)\n",
    "predictions = list(predictions)[0]\n",
    "predictions = predictions.quantile(0.5)\n"
   ]
  },
  {
   "cell_type": "markdown",
   "id": "dental-donor",
   "metadata": {},
   "source": [
    "## Listing 20-5. R2 score and prediction graph"
   ]
  },
  {
   "cell_type": "code",
   "execution_count": null,
   "id": "absent-inspiration",
   "metadata": {},
   "outputs": [],
   "source": [
    "from sklearn.metrics import r2_score\n",
    "print(r2_score( list(test_ds)[0]['target'][-28:], predictions))\n",
    "\n",
    "import matplotlib.pyplot as plt\n",
    "plt.plot(predictions)\n",
    "plt.plot(list(test_ds)[0]['target'][-28:])\n",
    "plt.legend(['predictions', 'actuals'])\n",
    "plt.show()\n"
   ]
  },
  {
   "cell_type": "markdown",
   "id": "round-underground",
   "metadata": {},
   "source": [
    "## Listing 20-6. Probability forecast graph"
   ]
  },
  {
   "cell_type": "code",
   "execution_count": null,
   "id": "elegant-transportation",
   "metadata": {},
   "outputs": [],
   "source": [
    "from gluonts.evaluation.backtest import make_evaluation_predictions\n",
    "\n",
    "forecast_it, ts_it = make_evaluation_predictions(\n",
    "    dataset=test_ds,  # test dataset\n",
    "    predictor=predictor,  # predictor\n",
    "    num_samples=100,  # number of sample paths we want for evaluation\n",
    ")\n",
    "\n",
    "forecasts = list(forecast_it)\n",
    "tss = list(ts_it)\n",
    "\n",
    "ts_entry = tss[0]\n",
    "forecast_entry = forecasts[0]\n",
    "\n",
    "def plot_prob_forecasts(ts_entry, forecast_entry):\n",
    "    plot_length = 150\n",
    "    prediction_intervals = (50.0, 90.0)\n",
    "    legend = [\"observations\", \"median prediction\"] + [f\"{k}% prediction interval\" for k in prediction_intervals][::-1]\n",
    "\n",
    "    fig, ax = plt.subplots(1, 1, figsize=(10, 7))\n",
    "    ts_entry[-plot_length:].plot(ax=ax)  # plot the time series\n",
    "    forecast_entry.plot(prediction_intervals=prediction_intervals, color='g')\n",
    "    plt.grid(which=\"both\")\n",
    "    plt.legend(legend, loc=\"upper left\")\n",
    "    plt.show()\n",
    "\n",
    "plot_prob_forecasts(ts_entry, forecast_entry)\n",
    "plt.show()\n"
   ]
  },
  {
   "cell_type": "markdown",
   "id": "fabulous-material",
   "metadata": {},
   "source": [
    "## Listing 20-7. Preparing holidays and reservations data and adding them into the ListDataset"
   ]
  },
  {
   "cell_type": "code",
   "execution_count": null,
   "id": "authentic-lesson",
   "metadata": {},
   "outputs": [],
   "source": [
    "X_reservations = pd.read_csv('air_reserve.csv.zip')\n",
    "X_reservations['visit_date'] = pd.to_datetime(X_reservations['visit_datetime']).dt.date\n",
    "X_reservations = pd.DataFrame(X_reservations.groupby('visit_date')['reserve_visitors'].sum())\n",
    "X_reservations = X_reservations.reset_index(drop = False)\n",
    "\n",
    "# Convert to datatime for merging correctly\n",
    "y.date = pd.to_datetime(y.date)\n",
    "X_reservations.visit_date = pd.to_datetime(X_reservations.visit_date)\n",
    "\n",
    "# Merging and filling missing dates with 0\n",
    "y = y.merge(X_reservations, left_on = 'date', right_on =  'visit_date', how = 'left').fillna(0)\n",
    "\n",
    "# Preparing and merging holidays data\n",
    "holidays = pd.read_csv('date_info.csv.zip')\n",
    "holidays.calendar_date = pd.to_datetime(holidays.calendar_date)\n",
    "y = y.merge(holidays, left_on = 'date', right_on = 'calendar_date', how = 'left').fillna(0)\n",
    "\n",
    "# Preparing the ListDatasets\n",
    "\n",
    "train_ds = ListDataset([{\n",
    "    'target': y.loc[:450,'y'],\n",
    "    'start': start,\n",
    "    'feat_dynamic_real': y.loc[:450,['reserve_visitors', 'holiday_flg']].values\n",
    "    }], freq='H')\n",
    "\n",
    "test_ds = ListDataset([{\n",
    "    'target': y['y'], \n",
    "    'start': start, \n",
    "    'feat_dynamic_real': y.loc[:,['reserve_visitors', 'holiday_flg']].values\n",
    "    }],freq='H')\n"
   ]
  },
  {
   "cell_type": "markdown",
   "id": "adequate-screen",
   "metadata": {},
   "source": [
    "## Listing 20-8. Same code for fitting a different model: this model contains the two additional regressors"
   ]
  },
  {
   "cell_type": "code",
   "execution_count": null,
   "id": "adult-milton",
   "metadata": {},
   "outputs": [],
   "source": [
    "np.random.seed(7)\n",
    "mx.random.seed(7)\n",
    "\n",
    "# Build and fit model\n",
    "estimator = DeepAREstimator(\n",
    "    prediction_length=28,\n",
    "    context_length=100,\n",
    "    freq='H',\n",
    "    trainer=Trainer(ctx=\"gpu\", # remove if running on windows\n",
    "                    epochs=5,\n",
    "                    learning_rate=1e-3,\n",
    "                    num_batches_per_epoch=100\n",
    "                   )\n",
    ")\n",
    "\n",
    "predictor = estimator.train(train_ds)\n",
    "\n",
    "# Make Predictions\n",
    "predictions = predictor.predict(test_ds)\n",
    "predictions = list(predictions)[0]\n",
    "predictions = predictions.quantile(0.5)\n",
    "\n",
    "# Compute and print R2 score\n",
    "print(r2_score( list(test_ds)[0]['target'][-28:], predictions))\n"
   ]
  },
  {
   "cell_type": "markdown",
   "id": "reported-hurricane",
   "metadata": {},
   "source": [
    "## Listing 20-9. Tuning the hyperparameters"
   ]
  },
  {
   "cell_type": "code",
   "execution_count": null,
   "id": "formal-reading",
   "metadata": {},
   "outputs": [],
   "source": [
    "np.random.seed(7)\n",
    "mx.random.seed(7)\n",
    "\n",
    "results = []\n",
    "\n",
    "for learning_rate in [1e-4, 1e-2]:\n",
    "  for num_layers in [2, 5]:\n",
    "    for num_cells in [30, 100]:\n",
    "\n",
    "      estimator = DeepAREstimator(\n",
    "          prediction_length=28,\n",
    "          freq=’H’,\n",
    "          trainer=Trainer(ctx=\"gpu\", # remove if on Windows\n",
    "                          epochs=10,\n",
    "                          learning_rate=learning_rate,\n",
    "                          num_batches_per_epoch=100\n",
    "                        ),\n",
    "          num_layers = num_layers,\n",
    "          num_cells = num_cells,\n",
    "      )\n",
    "\n",
    "      predictor = estimator.train(train_ds)\n",
    "\n",
    "      predictions = predictor.predict(test_ds)\n",
    "\n",
    "      r2 = r2_score(list(predictions)[0].quantile(0.5), list(test_ds)[0]['target'][-28:])\n",
    "      result = [learning_rate, num_layers, num_cells, r2]\n",
    "      print(result)\n",
    "      results.append(result)\n"
   ]
  }
 ],
 "metadata": {
  "kernelspec": {
   "display_name": "Python 3",
   "language": "python",
   "name": "python3"
  },
  "language_info": {
   "codemirror_mode": {
    "name": "ipython",
    "version": 3
   },
   "file_extension": ".py",
   "mimetype": "text/x-python",
   "name": "python",
   "nbconvert_exporter": "python",
   "pygments_lexer": "ipython3",
   "version": "3.12.0"
  }
 },
 "nbformat": 4,
 "nbformat_minor": 5
}
