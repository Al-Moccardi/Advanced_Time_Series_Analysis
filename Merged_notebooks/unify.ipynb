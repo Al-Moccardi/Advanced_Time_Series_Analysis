{
 "cells": [
  {
   "cell_type": "code",
   "execution_count": 1,
   "metadata": {},
   "outputs": [
    {
     "name": "stderr",
     "output_type": "stream",
     "text": [
      "c:\\Users\\ALBER\\AppData\\Local\\Programs\\Python\\Python312\\Lib\\site-packages\\nbformat\\__init__.py:132: MissingIDFieldWarning: Cell is missing an id field, this will become a hard error in future nbformat versions. You may want to use `normalize()` on your notebooks before validations (available since nbformat 5.1.4). Previous versions of nbformat are fixing this issue transparently, and will stop doing so in the future.\n",
      "  validate(nb)\n"
     ]
    }
   ],
   "source": [
    "import nbformat\n",
    "from nbformat import v4 as nbf\n",
    "from glob import glob\n",
    "\n",
    "def merge_notebooks(output_path, input_paths):\n",
    "    # Create a new notebook\n",
    "    merged_notebook = nbf.new_notebook()\n",
    "    merged_cells = []\n",
    "\n",
    "    for ipynb in input_paths:\n",
    "        # Load the notebook\n",
    "        with open(ipynb, 'r', encoding='utf-8') as f:\n",
    "            notebook = nbformat.read(f, as_version=4)\n",
    "            # Append all cells of this notebook to the merged_cells list\n",
    "            merged_cells.extend(notebook.cells)\n",
    "\n",
    "    # Add all merged cells to the new notebook\n",
    "    merged_notebook.cells = merged_cells\n",
    "\n",
    "    # Write the new notebook to the specified output path\n",
    "    with open(output_path, 'w', encoding='utf-8') as f:\n",
    "        nbformat.write(merged_notebook, f)\n",
    "\n",
    "# Example usage:\n",
    "# Assuming you want to merge all notebooks in the current directory\n",
    "notebooks_to_merge = glob('*.ipynb')  # Adjust the path or pattern as necessary\n",
    "output_file = 'merged_notebook.ipynb'\n",
    "merge_notebooks(output_file, notebooks_to_merge)\n"
   ]
  },
  {
   "cell_type": "code",
   "execution_count": 2,
   "metadata": {},
   "outputs": [
    {
     "name": "stdout",
     "output_type": "stream",
     "text": [
      "Collecting pandoc\n",
      "  Downloading pandoc-2.3.tar.gz (33 kB)\n",
      "  Preparing metadata (setup.py): started\n",
      "  Preparing metadata (setup.py): finished with status 'done'\n",
      "Collecting plumbum (from pandoc)\n",
      "  Downloading plumbum-1.8.3-py3-none-any.whl.metadata (10 kB)\n",
      "Collecting ply (from pandoc)\n",
      "  Downloading ply-3.11-py2.py3-none-any.whl.metadata (844 bytes)\n",
      "Requirement already satisfied: pywin32 in c:\\users\\alber\\appdata\\roaming\\python\\python312\\site-packages (from plumbum->pandoc) (306)\n",
      "Downloading plumbum-1.8.3-py3-none-any.whl (127 kB)\n",
      "   ---------------------------------------- 0.0/127.6 kB ? eta -:--:--\n",
      "   ----------------------------------- ---- 112.6/127.6 kB 3.3 MB/s eta 0:00:01\n",
      "   ---------------------------------------- 127.6/127.6 kB 3.8 MB/s eta 0:00:00\n",
      "Downloading ply-3.11-py2.py3-none-any.whl (49 kB)\n",
      "   ---------------------------------------- 0.0/49.6 kB ? eta -:--:--\n",
      "   ---------------------------------------- 49.6/49.6 kB ? eta 0:00:00\n",
      "Building wheels for collected packages: pandoc\n",
      "  Building wheel for pandoc (setup.py): started\n",
      "  Building wheel for pandoc (setup.py): finished with status 'done'\n",
      "  Created wheel for pandoc: filename=pandoc-2.3-py3-none-any.whl size=33292 sha256=a82c63c467c38f90826d0915ffc8f40ba9be036afcb318cc718b26326210c25f\n",
      "  Stored in directory: c:\\users\\alber\\appdata\\local\\pip\\cache\\wheels\\9c\\55\\53\\12fa87f25207e4c1e358388add76ff41f5313a12ca20db830a\n",
      "Successfully built pandoc\n",
      "Installing collected packages: ply, plumbum, pandoc\n",
      "Successfully installed pandoc-2.3 plumbum-1.8.3 ply-3.11\n",
      "Note: you may need to restart the kernel to use updated packages.\n"
     ]
    }
   ],
   "source": [
    "pip install pandoc"
   ]
  },
  {
   "cell_type": "code",
   "execution_count": 6,
   "metadata": {},
   "outputs": [
    {
     "ename": "LatexFailed",
     "evalue": "PDF creating failed, captured latex output:\nFailed to run \"xelatex notebook.tex -quiet\" command:\nThis is XeTeX, Version 3.141592653-2.6-0.999994 (TeX Live 2022) (preloaded format=xelatex)\r\n restricted \\write18 enabled.\r\nentering extended mode\r\n(./notebook.tex\r\nLaTeX2e <2022-06-01> patch level 5\r\nL3 programming layer <2022-08-05> (c:/Users/ALBER/AppData/Roaming/TinyTeX/texmf-dist/tex/latex/base/article.cls\r\nDocument Class: article 2021/10/04 v1.4n Standard LaTeX document class\r\n(c:/Users/ALBER/AppData/Roaming/TinyTeX/texmf-dist/tex/latex/base/size11.clo))\r\n\r\n! LaTeX Error: File `tcolorbox.sty' not found.\r\n\r\nType X to quit or <RETURN> to proceed,\r\nor enter new name. (Default extension: sty)\r\n\r\nEnter file name: \r\n! Emergency stop.\r\n<read *> \r\n         \r\nl.4     \\usepackage\r\n                   {parskip} % Stop auto-indenting (to mimic markdown behavi...\r\nNo pages of output.\r\nTranscript written on notebook.log.\r\n",
     "output_type": "error",
     "traceback": [
      "\u001b[1;31m---------------------------------------------------------------------------\u001b[0m",
      "\u001b[1;31mLatexFailed\u001b[0m                               Traceback (most recent call last)",
      "Cell \u001b[1;32mIn[6], line 21\u001b[0m\n\u001b[0;32m     18\u001b[0m         f\u001b[38;5;241m.\u001b[39mwrite(body)\n\u001b[0;32m     20\u001b[0m \u001b[38;5;66;03m# Usage\u001b[39;00m\n\u001b[1;32m---> 21\u001b[0m \u001b[43mconvert_notebook_to_pdf\u001b[49m\u001b[43m(\u001b[49m\u001b[38;5;124;43m'\u001b[39;49m\u001b[38;5;124;43mComplete_file.ipynb\u001b[39;49m\u001b[38;5;124;43m'\u001b[39;49m\u001b[43m,\u001b[49m\u001b[43m \u001b[49m\u001b[38;5;124;43m'\u001b[39;49m\u001b[38;5;124;43mCode.pdf\u001b[39;49m\u001b[38;5;124;43m'\u001b[39;49m\u001b[43m)\u001b[49m\n",
      "Cell \u001b[1;32mIn[6], line 14\u001b[0m, in \u001b[0;36mconvert_notebook_to_pdf\u001b[1;34m(input_path, output_path)\u001b[0m\n\u001b[0;32m     12\u001b[0m \u001b[38;5;66;03m# Create a PDF exporter\u001b[39;00m\n\u001b[0;32m     13\u001b[0m exporter \u001b[38;5;241m=\u001b[39m PDFExporter()\n\u001b[1;32m---> 14\u001b[0m body, resources \u001b[38;5;241m=\u001b[39m \u001b[43mexporter\u001b[49m\u001b[38;5;241;43m.\u001b[39;49m\u001b[43mfrom_notebook_node\u001b[49m\u001b[43m(\u001b[49m\u001b[43mnotebook\u001b[49m\u001b[43m)\u001b[49m\n\u001b[0;32m     16\u001b[0m \u001b[38;5;66;03m# Write the PDF to a file\u001b[39;00m\n\u001b[0;32m     17\u001b[0m \u001b[38;5;28;01mwith\u001b[39;00m \u001b[38;5;28mopen\u001b[39m(output_path, \u001b[38;5;124m'\u001b[39m\u001b[38;5;124mwb\u001b[39m\u001b[38;5;124m'\u001b[39m) \u001b[38;5;28;01mas\u001b[39;00m f:\n",
      "File \u001b[1;32mc:\\Users\\ALBER\\AppData\\Local\\Programs\\Python\\Python312\\Lib\\site-packages\\nbconvert\\exporters\\pdf.py:197\u001b[0m, in \u001b[0;36mPDFExporter.from_notebook_node\u001b[1;34m(self, nb, resources, **kw)\u001b[0m\n\u001b[0;32m    195\u001b[0m tex_file \u001b[38;5;241m=\u001b[39m \u001b[38;5;28mself\u001b[39m\u001b[38;5;241m.\u001b[39mwriter\u001b[38;5;241m.\u001b[39mwrite(latex, resources, notebook_name\u001b[38;5;241m=\u001b[39mnotebook_name)\n\u001b[0;32m    196\u001b[0m \u001b[38;5;28mself\u001b[39m\u001b[38;5;241m.\u001b[39mlog\u001b[38;5;241m.\u001b[39minfo(\u001b[38;5;124m\"\u001b[39m\u001b[38;5;124mBuilding PDF\u001b[39m\u001b[38;5;124m\"\u001b[39m)\n\u001b[1;32m--> 197\u001b[0m \u001b[38;5;28;43mself\u001b[39;49m\u001b[38;5;241;43m.\u001b[39;49m\u001b[43mrun_latex\u001b[49m\u001b[43m(\u001b[49m\u001b[43mtex_file\u001b[49m\u001b[43m)\u001b[49m\n\u001b[0;32m    198\u001b[0m \u001b[38;5;28;01mif\u001b[39;00m \u001b[38;5;28mself\u001b[39m\u001b[38;5;241m.\u001b[39mrun_bib(tex_file):\n\u001b[0;32m    199\u001b[0m     \u001b[38;5;28mself\u001b[39m\u001b[38;5;241m.\u001b[39mrun_latex(tex_file)\n",
      "File \u001b[1;32mc:\\Users\\ALBER\\AppData\\Local\\Programs\\Python\\Python312\\Lib\\site-packages\\nbconvert\\exporters\\pdf.py:166\u001b[0m, in \u001b[0;36mPDFExporter.run_latex\u001b[1;34m(self, filename, raise_on_failure)\u001b[0m\n\u001b[0;32m    163\u001b[0m \u001b[38;5;28;01mdef\u001b[39;00m \u001b[38;5;21mlog_error\u001b[39m(command, out):\n\u001b[0;32m    164\u001b[0m     \u001b[38;5;28mself\u001b[39m\u001b[38;5;241m.\u001b[39mlog\u001b[38;5;241m.\u001b[39mcritical(\u001b[38;5;124m\"\u001b[39m\u001b[38;5;132;01m%s\u001b[39;00m\u001b[38;5;124m failed: \u001b[39m\u001b[38;5;132;01m%s\u001b[39;00m\u001b[38;5;130;01m\\n\u001b[39;00m\u001b[38;5;132;01m%s\u001b[39;00m\u001b[38;5;124m\"\u001b[39m, command[\u001b[38;5;241m0\u001b[39m], command, out)\n\u001b[1;32m--> 166\u001b[0m \u001b[38;5;28;01mreturn\u001b[39;00m \u001b[38;5;28;43mself\u001b[39;49m\u001b[38;5;241;43m.\u001b[39;49m\u001b[43mrun_command\u001b[49m\u001b[43m(\u001b[49m\n\u001b[0;32m    167\u001b[0m \u001b[43m    \u001b[49m\u001b[38;5;28;43mself\u001b[39;49m\u001b[38;5;241;43m.\u001b[39;49m\u001b[43mlatex_command\u001b[49m\u001b[43m,\u001b[49m\u001b[43m \u001b[49m\u001b[43mfilename\u001b[49m\u001b[43m,\u001b[49m\u001b[43m \u001b[49m\u001b[38;5;28;43mself\u001b[39;49m\u001b[38;5;241;43m.\u001b[39;49m\u001b[43mlatex_count\u001b[49m\u001b[43m,\u001b[49m\u001b[43m \u001b[49m\u001b[43mlog_error\u001b[49m\u001b[43m,\u001b[49m\u001b[43m \u001b[49m\u001b[43mraise_on_failure\u001b[49m\n\u001b[0;32m    168\u001b[0m \u001b[43m\u001b[49m\u001b[43m)\u001b[49m\n",
      "File \u001b[1;32mc:\\Users\\ALBER\\AppData\\Local\\Programs\\Python\\Python312\\Lib\\site-packages\\nbconvert\\exporters\\pdf.py:156\u001b[0m, in \u001b[0;36mPDFExporter.run_command\u001b[1;34m(self, command_list, filename, count, log_function, raise_on_failure)\u001b[0m\n\u001b[0;32m    154\u001b[0m             \u001b[38;5;28;01mif\u001b[39;00m raise_on_failure:\n\u001b[0;32m    155\u001b[0m                 msg \u001b[38;5;241m=\u001b[39m \u001b[38;5;124mf\u001b[39m\u001b[38;5;124m'\u001b[39m\u001b[38;5;124mFailed to run \u001b[39m\u001b[38;5;124m\"\u001b[39m\u001b[38;5;132;01m{\u001b[39;00mcommand\u001b[38;5;132;01m}\u001b[39;00m\u001b[38;5;124m\"\u001b[39m\u001b[38;5;124m command:\u001b[39m\u001b[38;5;130;01m\\n\u001b[39;00m\u001b[38;5;132;01m{\u001b[39;00mout_str\u001b[38;5;132;01m}\u001b[39;00m\u001b[38;5;124m'\u001b[39m\n\u001b[1;32m--> 156\u001b[0m                 \u001b[38;5;28;01mraise\u001b[39;00m raise_on_failure(msg)\n\u001b[0;32m    157\u001b[0m             \u001b[38;5;28;01mreturn\u001b[39;00m \u001b[38;5;28;01mFalse\u001b[39;00m  \u001b[38;5;66;03m# failure\u001b[39;00m\n\u001b[0;32m    158\u001b[0m \u001b[38;5;28;01mreturn\u001b[39;00m \u001b[38;5;28;01mTrue\u001b[39;00m\n",
      "\u001b[1;31mLatexFailed\u001b[0m: PDF creating failed, captured latex output:\nFailed to run \"xelatex notebook.tex -quiet\" command:\nThis is XeTeX, Version 3.141592653-2.6-0.999994 (TeX Live 2022) (preloaded format=xelatex)\r\n restricted \\write18 enabled.\r\nentering extended mode\r\n(./notebook.tex\r\nLaTeX2e <2022-06-01> patch level 5\r\nL3 programming layer <2022-08-05> (c:/Users/ALBER/AppData/Roaming/TinyTeX/texmf-dist/tex/latex/base/article.cls\r\nDocument Class: article 2021/10/04 v1.4n Standard LaTeX document class\r\n(c:/Users/ALBER/AppData/Roaming/TinyTeX/texmf-dist/tex/latex/base/size11.clo))\r\n\r\n! LaTeX Error: File `tcolorbox.sty' not found.\r\n\r\nType X to quit or <RETURN> to proceed,\r\nor enter new name. (Default extension: sty)\r\n\r\nEnter file name: \r\n! Emergency stop.\r\n<read *> \r\n         \r\nl.4     \\usepackage\r\n                   {parskip} % Stop auto-indenting (to mimic markdown behavi...\r\nNo pages of output.\r\nTranscript written on notebook.log.\r\n"
     ]
    }
   ],
   "source": [
    "import nbformat\n",
    "from nbconvert import MarkdownExporter\n",
    "\n",
    "import nbformat\n",
    "from nbconvert import PDFExporter\n",
    "\n",
    "def convert_notebook_to_pdf(input_path, output_path):\n",
    "    # Load your notebook\n",
    "    with open(input_path, 'r', encoding='utf-8') as f:\n",
    "        notebook = nbformat.read(f, as_version=4)\n",
    "    \n",
    "    # Create a PDF exporter\n",
    "    exporter = PDFExporter()\n",
    "    body, resources = exporter.from_notebook_node(notebook)\n",
    "    \n",
    "    # Write the PDF to a file\n",
    "    with open(output_path, 'wb') as f:\n",
    "        f.write(body)\n",
    "\n",
    "# Usage\n",
    "convert_notebook_to_pdf('Complete_file.ipynb', 'Code.pdf')\n"
   ]
  },
  {
   "cell_type": "code",
   "execution_count": 8,
   "metadata": {},
   "outputs": [
    {
     "name": "stdout",
     "output_type": "stream",
     "text": [
      "Collecting install\n",
      "  Using cached install-1.3.5-py3-none-any.whl.metadata (925 bytes)\n",
      "Note: you may need to restart the kernel to use updated packages.\n"
     ]
    },
    {
     "name": "stderr",
     "output_type": "stream",
     "text": [
      "ERROR: Could not find a version that satisfies the requirement texlive (from versions: none)\n",
      "ERROR: No matching distribution found for texlive\n"
     ]
    }
   ],
   "source": [
    "pip install install texlive"
   ]
  }
 ],
 "metadata": {
  "kernelspec": {
   "display_name": "Python 3",
   "language": "python",
   "name": "python3"
  },
  "language_info": {
   "codemirror_mode": {
    "name": "ipython",
    "version": 3
   },
   "file_extension": ".py",
   "mimetype": "text/x-python",
   "name": "python",
   "nbconvert_exporter": "python",
   "pygments_lexer": "ipython3",
   "version": "3.12.0"
  }
 },
 "nbformat": 4,
 "nbformat_minor": 2
}
