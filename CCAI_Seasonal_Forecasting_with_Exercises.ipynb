{
  "nbformat": 4,
  "nbformat_minor": 0,
  "metadata": {
    "colab": {
      "provenance": [],
      "collapsed_sections": [
        "Mpe86HfcAfpJ",
        "hrpVcbmB4BUz",
        "UIrKNkiORXMY"
      ],
      "toc_visible": true
    },
    "kernelspec": {
      "name": "python3",
      "display_name": "Python 3"
    },
    "accelerator": "GPU"
  },
  "cells": [
    {
      "cell_type": "markdown",
      "metadata": {
        "id": "12Pzw4pM1Fhs"
      },
      "source": [
        "# **Climate Change AI Summer School: Day 3 Climate Science**\n",
        "# **Tutorial: Seasonal Forecasting**\n",
        "\n",
        "Ankur Mahesh (UC Berkeley)"
      ]
    },
    {
      "cell_type": "markdown",
      "source": [
        "#Setup/ Logistics\n",
        "\n",
        "\n",
        "*   **Sharing**: Based on sharing permissions, you should not be allowed to make edits to the shared Colab notebook directly.  In order to make edits to this notebook, you should press File > \"Save a Copy in Drive\".\n",
        "*   **Scaffold code** : this notebook is also meant to serve as an example of the data loading and preprocessing necessary to work with climate data and machine learning.  Please read the \"docstring\" to familiarize yourself with important methods, such as `assemble_predictors_predictands`, and what they do.  You are also strongly encouraged to read through the code in the methods themselves, to understand the data preprocessing steps in detail.\n",
        "*   **Terminology** : in the intro to AI lecture given by Dr. Zico Kolter, the terms *input* and *label* were used.  Here, we refer to the input to the ML model as the *predictor*, and we refer to the label as the *predictand*.  In this notebook, the inputs are sea surface temperatures, and the labels are an index measuring the future state of El Nino. (more on this below!)\n",
        "\n"
      ],
      "metadata": {
        "id": "FgamhBQrftIk"
      }
    },
    {
      "cell_type": "markdown",
      "metadata": {
        "id": "zWy-9LXY1PLF"
      },
      "source": [
        "## Introduction\n",
        "\n",
        "See [here](https://docs.google.com/presentation/d/1GeqTg06fBcDXI9ffrvqiMxlnxO12lsHLe_m03N18Kog/edit) for some introductory slides.\n",
        "\n",
        "El Niño/ Southern Oscillation (ENSO) is the dominant mode of variability that affects the climate on seasonal time scales.  It is measured by the Nino3.4 index, a rolling 3-month average of equatorial Pacific temperatures.  ENSO is an oscillation and is marked by two phases: El Niño, with anomalously warm equatorial Pacific temperatures, and La Niña, with anomlously cold temperatures.  Because El Niño is tied to many weather patterns around the world, such as the Indian monsoon, hurricanes in the Atlantic, and North American temperature, accurate ENSO forecasts are valuable for climate-sensitive sectors (such as agriculture, water, and energy).\n",
        "\n",
        "Existing El Niño forecasts utilize dynamical models, from the European Center for Medium-range Weather Forecasts and the National Center for Environmental Prediction. These dynamical models issue forecasts by modeling the physics of the atmosphere and ocean.  In this notebook, we will issue ENSO forecasts using machine learning, which uses statistical optimization to issue forecasts.\n",
        "\n",
        "\n",
        "\n",
        "\n"
      ]
    },
    {
      "cell_type": "markdown",
      "metadata": {
        "id": "5QTs82Nx8ig5"
      },
      "source": [
        "## Software Requirements\n",
        "\n",
        "This notebook requires the following libraries: numpy, xarray, netCDF4, pandas, matplotlib, sklearn, tqdm, pytorch, scipy.  Furthermore, it is *strongly* recommended that you use this notebook on Google Colab for ease of use and for access to GPU resources."
      ]
    },
    {
      "cell_type": "code",
      "metadata": {
        "id": "_jEljkaC7NC9"
      },
      "source": [
        "%matplotlib inline\n",
        "import xarray as xr\n",
        "import pandas as pd\n",
        "import numpy as np\n",
        "from matplotlib import pyplot as plt\n",
        "import sklearn\n",
        "import sklearn.ensemble\n",
        "import scipy.stats\n",
        "from sklearn.model_selection import train_test_split\n",
        "from tqdm import tqdm\n",
        "import xarray as xr\n",
        "import pandas as pd\n",
        "import numpy as np\n",
        "from matplotlib import pyplot as plt\n",
        "import sklearn\n",
        "import sklearn.ensemble\n",
        "import scipy.stats\n",
        "from sklearn.model_selection import train_test_split\n",
        "import torch\n",
        "import torchvision\n",
        "import torch.nn as nn\n",
        "import torch.nn.functional as F\n",
        "import torch.optim as optim\n",
        "from torch.utils.data import Dataset, DataLoader\n",
        "from scipy.stats import pearsonr\n",
        "from sklearn.metrics import mean_squared_error"
      ],
      "execution_count": 1,
      "outputs": []
    },
    {
      "cell_type": "markdown",
      "metadata": {
        "id": "CnkSbT0b9i-_"
      },
      "source": [
        "## Data\n",
        "\n",
        "\n",
        "\n",
        "*   [Cobe Sea-Surface Temperature Dataset:](https://psl.noaa.gov/data/gridded/data.cobe.html): this is a dataset of historical sea surface temperatures form 1880 to 2018\n",
        "*   [Nino3.4 Indices](https://www.ncdc.noaa.gov/teleconnections/enso/indicators/sst/): The Nino3.4 index measures the 3-month rolling average of equatorial Pacific Ocean temperature anomalies.\n",
        "\n",
        "\n"
      ]
    },
    {
      "cell_type": "markdown",
      "metadata": {
        "id": "tAdbMktZClf_"
      },
      "source": [
        "### Input Variables\n",
        "\n",
        "Sea surface temperature (K)\n",
        "\n",
        "### Output Variables\n",
        "\n",
        "Nino3.4 index (K): this metric indicates the state of ENSO.\n",
        "\n"
      ]
    },
    {
      "cell_type": "markdown",
      "metadata": {
        "id": "hqi6B2I9Conp"
      },
      "source": [
        "### Training Set\n",
        "\n",
        "Baseline training set: Training on **1980-1995 sea Surface temperatures** and their corresponding Nino3.4 Index at lead times (1 month to 5 months)\n",
        "\n",
        "### Val Set\n",
        "**1997-2006 sea surface temperatures** and their corresponding Nino3.4 Index at lead times.\n",
        "\n",
        "### Test Set:\n",
        "\n",
        "Test on **2007-2017 sea surface temperatures** and their corresponding Nino3.4 Index at lead times (1 month to 5 month).\n",
        "\n",
        "\n",
        "### Machine Learning Fundamentals\n",
        "\n",
        "In this section, we will cover the fundamentals of machine learning!  We will refer to chapters from Professor Jonathan Shewchuk's excellent lecture notes from CS189 (UC Berkeley's Machine Learning class) as well as course notes developed by TAs including Garrett Thomas and Soroush Nasiriany. These notes provide a rigorous mathematical basis of the foundations of machine learning, and they are very helpful for developing the intuition behind tackling machine learning problems.  If you are interested in going deeper into machine learning, I strongly recommend reading these two resources.\n",
        "\n",
        "*   Professor Shewchuk's lecture notes can be found at this [link ](https://people.eecs.berkeley.edu/~jrs/papers/machlearn.pdf)\n",
        "*   Nasiriany and Thomas's course notes can be found at this [link ](http://snasiriany.me/files/ml-book.pdf)"
      ]
    },
    {
      "cell_type": "code",
      "metadata": {
        "id": "LJXWRYaAU_OM",
        "outputId": "ae9bb9ab-7840-4404-ac24-fa047e75b2d9",
        "colab": {
          "base_uri": "https://localhost:8080/"
        }
      },
      "source": [
        "#Download the required packages and the data that we will use\n",
        "#for this tutorial\n",
        "\n",
        "!pip install netCDF4\n",
        "# !wget http://portal.nersc.gov/project/dasrepo/AGU_ML_Tutorial/sst.mon.mean.trefadj.anom.1880to2018.nc\n",
        "# !wget http://portal.nersc.gov/project/dasrepo/AGU_ML_Tutorial/nino34.long.anom.data.txt"
      ],
      "execution_count": 2,
      "outputs": [
        {
          "output_type": "stream",
          "name": "stdout",
          "text": [
            "Collecting netCDF4\n",
            "  Downloading netcdf4-1.7.3-cp311-abi3-manylinux_2_27_x86_64.manylinux_2_28_x86_64.whl.metadata (1.9 kB)\n",
            "Collecting cftime (from netCDF4)\n",
            "  Downloading cftime-1.6.5-cp312-cp312-manylinux2014_x86_64.manylinux_2_17_x86_64.whl.metadata (8.7 kB)\n",
            "Requirement already satisfied: certifi in /usr/local/lib/python3.12/dist-packages (from netCDF4) (2025.10.5)\n",
            "Requirement already satisfied: numpy in /usr/local/lib/python3.12/dist-packages (from netCDF4) (2.0.2)\n",
            "Downloading netcdf4-1.7.3-cp311-abi3-manylinux_2_27_x86_64.manylinux_2_28_x86_64.whl (9.5 MB)\n",
            "\u001b[2K   \u001b[90m━━━━━━━━━━━━━━━━━━━━━━━━━━━━━━━━━━━━━━━━\u001b[0m \u001b[32m9.5/9.5 MB\u001b[0m \u001b[31m95.3 MB/s\u001b[0m eta \u001b[36m0:00:00\u001b[0m\n",
            "\u001b[?25hDownloading cftime-1.6.5-cp312-cp312-manylinux2014_x86_64.manylinux_2_17_x86_64.whl (1.6 MB)\n",
            "\u001b[2K   \u001b[90m━━━━━━━━━━━━━━━━━━━━━━━━━━━━━━━━━━━━━━━━\u001b[0m \u001b[32m1.6/1.6 MB\u001b[0m \u001b[31m98.7 MB/s\u001b[0m eta \u001b[36m0:00:00\u001b[0m\n",
            "\u001b[?25hInstalling collected packages: cftime, netCDF4\n",
            "Successfully installed cftime-1.6.5 netCDF4-1.7.3\n"
          ]
        }
      ]
    },
    {
      "cell_type": "code",
      "source": [
        "#Download Nino3.4 index (this index measures the state of ENSO by encoding the average\n",
        "#temperature anomaly in the equatorial Pacific)\n",
        "!gdown --id 1aGvitA8rYrHRDxNd2XD4AAFsahCQsv0t"
      ],
      "metadata": {
        "colab": {
          "base_uri": "https://localhost:8080/"
        },
        "id": "Nb0rTAAeR2x-",
        "outputId": "48bdaa66-d566-4119-a501-de2d3484fa6a"
      },
      "execution_count": null,
      "outputs": [
        {
          "output_type": "stream",
          "name": "stdout",
          "text": [
            "/usr/local/lib/python3.10/dist-packages/gdown/__main__.py:132: FutureWarning: Option `--id` was deprecated in version 4.3.1 and will be removed in 5.0. You don't need to pass it anymore to use a file ID.\n",
            "  warnings.warn(\n",
            "Downloading...\n",
            "From: https://drive.google.com/uc?id=1aGvitA8rYrHRDxNd2XD4AAFsahCQsv0t\n",
            "To: /content/nino34.long.anom.data.txt\n",
            "100% 15.4k/15.4k [00:00<00:00, 41.8MB/s]\n"
          ]
        }
      ]
    },
    {
      "cell_type": "code",
      "source": [
        "#Download sst observations from 1880 to 2018\n",
        "!gdown 1-xefk3imP4Q-8GevIV2YIo82iP5rTdSc"
      ],
      "metadata": {
        "colab": {
          "base_uri": "https://localhost:8080/"
        },
        "id": "Qs27zno2S4pR",
        "outputId": "769f5880-d131-4aaa-b054-0812a4c9f861"
      },
      "execution_count": 4,
      "outputs": [
        {
          "output_type": "stream",
          "name": "stdout",
          "text": [
            "Downloading...\n",
            "From (original): https://drive.google.com/uc?id=1-xefk3imP4Q-8GevIV2YIo82iP5rTdSc\n",
            "From (redirected): https://drive.google.com/uc?id=1-xefk3imP4Q-8GevIV2YIo82iP5rTdSc&confirm=t&uuid=92a39c44-8c8b-4c00-b6e0-0e5894cc4972\n",
            "To: /content/sst.mon.mean.trefadj.anom.1880to2018.nc\n",
            "100% 432M/432M [00:05<00:00, 77.9MB/s]\n"
          ]
        }
      ]
    },
    {
      "cell_type": "code",
      "metadata": {
        "id": "_EE02i6wD_9L"
      },
      "source": [
        "#Scaffold code to load in data.  This code cell is mostly data wrangling\n",
        "\n",
        "def load_enso_indices():\n",
        "  \"\"\"\n",
        "  Reads in the txt data file to output a pandas Series of ENSO vals\n",
        "\n",
        "  outputs\n",
        "  -------\n",
        "\n",
        "    pd.Series : monthly ENSO values starting from 1870-01-01\n",
        "  \"\"\"\n",
        "  with open('nino34.long.anom.data.txt') as f:\n",
        "    line = f.readline()\n",
        "    enso_vals = []\n",
        "    while line:\n",
        "        yearly_enso_vals = map(float, line.split()[1:])\n",
        "        enso_vals.extend(yearly_enso_vals)\n",
        "        line = f.readline()\n",
        "\n",
        "  enso_vals = pd.Series(enso_vals)\n",
        "  enso_vals.index = pd.date_range('1870-01-01',freq='MS',\n",
        "                                  periods=len(enso_vals))\n",
        "  enso_vals.index = pd.to_datetime(enso_vals.index)\n",
        "  return enso_vals\n",
        "\n",
        "def assemble_basic_predictors_predictands(start_date, end_date, lead_time,\n",
        "                                    use_pca=False, n_components=32):\n",
        "  \"\"\"\n",
        "  inputs\n",
        "  ------\n",
        "\n",
        "      start_date        str : the start date from which to extract sst\n",
        "      end_date          str : the end date\n",
        "      lead_time         str : the number of months between each sst\n",
        "                              value and the target Nino3.4 Index\n",
        "      use_pca          bool : whether or not to apply principal components\n",
        "                              analysis to the sst field\n",
        "      n_components      int : the number of components to use for PCA\n",
        "\n",
        "  outputs\n",
        "  -------\n",
        "      Returns a tuple of the predictors (np array of sst temperature anomalies)\n",
        "      and the predictands (np array the ENSO index at the specified lead time).\n",
        "\n",
        "  \"\"\"\n",
        "  ds = xr.open_dataset('sst.mon.mean.trefadj.anom.1880to2018.nc')\n",
        "  sst = ds['sst'].sel(time=slice(start_date, end_date))\n",
        "  num_time_steps = sst.shape[0]\n",
        "\n",
        "  #sst is a 3D array: (time_steps, lat, lon)\n",
        "  #in this tutorial, we will not be using ML models that take\n",
        "  #advantage of the spatial nature of global temperature\n",
        "  #therefore, we reshape sst into a 2D array: (time_steps, lat*lon)\n",
        "  #(At each time step, there are lat*lon predictors)\n",
        "  sst = sst.values.reshape(num_time_steps, -1)\n",
        "  sst[np.isnan(sst)] = 0\n",
        "\n",
        "  #Use Principal Components Analysis, also called\n",
        "  #Empirical Orthogonal Functions, to reduce the\n",
        "  #dimensionality of the array\n",
        "  if use_pca:\n",
        "    #TODO: create an option to apply the PCA operation learned\n",
        "    #on the train set to the test set.  Currently, PCA is performed\n",
        "    #independently on the train set and test set.\n",
        "    pca = sklearn.decomposition.PCA(n_components=n_components)\n",
        "    pca.fit(sst)\n",
        "    X = pca.transform(sst)\n",
        "  else:\n",
        "    X = sst\n",
        "\n",
        "  start_date_plus_lead = pd.to_datetime(start_date) + \\\n",
        "                        pd.DateOffset(months=lead_time)\n",
        "  end_date_plus_lead = pd.to_datetime(end_date) + \\\n",
        "                      pd.DateOffset(months=lead_time)\n",
        "  y = load_enso_indices()[slice(start_date_plus_lead,\n",
        "                                end_date_plus_lead)]\n",
        "\n",
        "\n",
        "  ds.close()\n",
        "  return X, y\n",
        "\n",
        "def plot_nino_time_series(y, predictions, title):\n",
        "  \"\"\"\n",
        "  inputs\n",
        "  ------\n",
        "    y           pd.Series : time series of the true Nino index\n",
        "    predictions np.array  : time series of the predicted Nino index (same\n",
        "                            length and time as y)\n",
        "    titile                : the title of the plot\n",
        "\n",
        "  outputs\n",
        "  -------\n",
        "    None.  Displays the plot\n",
        "  \"\"\"\n",
        "  predictions = pd.Series(predictions, index=y.index)\n",
        "  predictions = predictions.sort_index()\n",
        "  y = y.sort_index()\n",
        "\n",
        "  plt.plot(y, label='Ground Truth')\n",
        "  plt.plot(predictions, '--', label='ML Predictions')\n",
        "  plt.legend(loc='best')\n",
        "  plt.title(title)\n",
        "  plt.ylabel('Nino3.4 Index')\n",
        "  plt.xlabel('Date')\n",
        "  plt.show()\n",
        "  plt.close()\n"
      ],
      "execution_count": null,
      "outputs": []
    },
    {
      "cell_type": "code",
      "metadata": {
        "id": "BJdcAO_8EDmu"
      },
      "source": [
        "# Sample loading of train, val, and test sets\n",
        "X_train, y_train = assemble_basic_predictors_predictands('1980-01-01','1995-12-31', lead_time=1)\n",
        "X_val, y_val = assemble_basic_predictors_predictands('1997-01-01','2006-12-31', lead_time=1)\n",
        "X_test, y_test = assemble_basic_predictors_predictands('2007-01-01','2017-12-31', lead_time=1)\n"
      ],
      "execution_count": null,
      "outputs": []
    },
    {
      "cell_type": "markdown",
      "metadata": {
        "id": "9HHA64DNC3Qp"
      },
      "source": [
        "# Baseline Machine Learning Model\n",
        "\n",
        "\n",
        "The baseline ML model will be linear regression.\n",
        "\n"
      ]
    },
    {
      "cell_type": "code",
      "metadata": {
        "id": "DvVwrtmqF9UG",
        "outputId": "fe392eab-394b-4ca7-c02a-46bf0b9f3399",
        "colab": {
          "base_uri": "https://localhost:8080/",
          "height": 511
        }
      },
      "source": [
        "#Let's use a linear regression model\n",
        "regr = sklearn.linear_model.LinearRegression()\n",
        "regr.fit(X_train,y_train)\n",
        "\n",
        "predictions = regr.predict(X_val)\n",
        "corr, _ = scipy.stats.pearsonr(predictions, y_val)\n",
        "rmse = mean_squared_error(y_val, predictions)\n",
        "print(\"RMSE: {:.2f}\".format(rmse))\n",
        "\n",
        "plot_nino_time_series(y_val, predictions,\n",
        "    'Predicted and True Nino3.4 Indices on Training Set at 1 Month Lead Time. \\n Corr: {:.2f}'.format(corr))"
      ],
      "execution_count": 7,
      "outputs": [
        {
          "output_type": "stream",
          "name": "stdout",
          "text": [
            "RMSE: 0.28\n"
          ]
        },
        {
          "output_type": "display_data",
          "data": {
            "text/plain": [
              "<Figure size 640x480 with 1 Axes>"
            ],
            "image/png": "[encoded data removed]"
          },
          "metadata": {}
        }
      ]
    },
    {
      "cell_type": "markdown",
      "metadata": {
        "id": "cmOPsch2GJf_"
      },
      "source": [
        "## Metrics\n",
        "\n",
        "The metrics for evaluating this ML model are\n",
        "\n",
        "*  Pearson correlation\n",
        "*   RMSE\n",
        "\n",
        "The above code snippet includes examples of calculating them."
      ]
    },
    {
      "cell_type": "markdown",
      "metadata": {
        "id": "yV30s27Z7vgT"
      },
      "source": [
        "## Key Terms\n",
        "\n",
        "\n",
        "\n",
        "Some terms:\n",
        "*   predictor     : the input to a machine learning model: a certain number of months (that you define) of gridded temperature)\n",
        "*   predictand    : the true value the model is trying to predict (i.e. the true Niño3.4 index)\n",
        "*   prediction    : the output of the machine learning model\n",
        "\n"
      ]
    },
    {
      "cell_type": "markdown",
      "metadata": {
        "id": "JLWrzcQY7tq-"
      },
      "source": [
        "\n",
        "##Train/Val/Test Set and Overfitting\n",
        "\n",
        "A machine learning model uses statistical optimization to learn the relationship between predictors (the input) and predictands (the label).  \n",
        "*   At this workshop, our predictors have been anomalized global temperature, and our predictand has been the El Nino/ Southern Oscillation (ENSO) 3.4 Index at a lead time.  \n",
        "\n",
        "Let's call our predictors $X$, and let's call our predictand $y$.  There is some unknown relationship between $X$ and $y$.  For example, there is some unknown function governing the relationship between global temperature and the future ENSO index.  The goal of an ML model is to *approximate* this unknown function.\n",
        "\n",
        "How do we test if the ML model has correctly approximated this function?  We divide the data into a train set and a test set.\n",
        "\n",
        "\n",
        "*   During training, the ML model is shown the predictors and their associated predictands.  The ML model uses optimization to learn a function: given the training predictors, the function outputs the predictands as closely as possible.\n",
        "*   During testing, the ML model is evaluated on unseen data (i.e. the test set). When a model performs well on the training set and poorly on the test, the model has **overfit** to the train set.\n",
        "*   If a model performs poorly on the training set, this behavior is called **underfitting**.  During underfitting, the model has not learned the correct relationship between the predictors and the predictand."
      ]
    },
    {
      "cell_type": "markdown",
      "metadata": {
        "id": "M6DITnxsXtTC"
      },
      "source": [
        "\n",
        "\n",
        "***Question***: In the image below, which image corresponds to overfitting? Which corresponds to underfitting? And which corresponds to neither?\n",
        "\n",
        "\n",
        "![alt text](https://scikit-learn.org/stable/_images/sphx_glr_plot_underfitting_overfitting_001.png)\n",
        "\n",
        "\n"
      ]
    },
    {
      "cell_type": "markdown",
      "metadata": {
        "id": "AdLvLcYUYnL2"
      },
      "source": [
        "In the next code cell, let's study overfitting in the following task: training a machine learning model to forecast El Niño.  El Niño is a cycle of warm and cold temperatures in the equatorial Pacific Ocean that has broad implications for seasonal weather."
      ]
    },
    {
      "cell_type": "markdown",
      "metadata": {
        "id": "401qDVfZNdcX"
      },
      "source": [
        "The code cell below demonstrates overfitting: getting great performance on the train set.\n",
        "For an absurd lead time (36 months!!), it is possible to get a perfect correlation on the train set.  Such accurate forecasting at such large lead times is almost certainly impossible.\n"
      ]
    },
    {
      "cell_type": "code",
      "metadata": {
        "id": "hWWSHu7B7YUr",
        "outputId": "bb86456f-bb0b-4509-be26-21f496cacba9",
        "colab": {
          "base_uri": "https://localhost:8080/",
          "height": 493
        }
      },
      "source": [
        "#Load in the predictors\n",
        "X, y = assemble_basic_predictors_predictands('1990-01-01','1995-12-31', 36)\n",
        "\n",
        "#Let's use a linear regression model\n",
        "regr = sklearn.linear_model.LinearRegression()\n",
        "regr.fit(X,y)\n",
        "\n",
        "predictions = regr.predict(X)\n",
        "corr, _ = scipy.stats.pearsonr(predictions, y)\n",
        "\n",
        "plot_nino_time_series(y, predictions,\n",
        "    'Predicted and True Nino3.4 Indices on Training Set at 36 Month Lead Time. \\n Corr: {:.2f}'.format(corr))"
      ],
      "execution_count": null,
      "outputs": [
        {
          "output_type": "display_data",
          "data": {
            "text/plain": [
              "<Figure size 640x480 with 1 Axes>"
            ],
            "image/png": "[encoded data removed]"
          },
          "metadata": {}
        }
      ]
    },
    {
      "cell_type": "markdown",
      "metadata": {
        "id": "e_Hxf1YIQJLD"
      },
      "source": [
        "The cell above shows that getting great train-set performance is possible, even for a very tough task (36 month ahead Nino forecast).\n",
        "We need to evaluate the model on unseen data to see if it can **generalize** well: this is why a test set is so crucial!\n"
      ]
    },
    {
      "cell_type": "code",
      "metadata": {
        "id": "UgfazR0hSJ6K",
        "outputId": "215abfb0-daac-4430-be03-9959ec83b038",
        "colab": {
          "base_uri": "https://localhost:8080/",
          "height": 493
        }
      },
      "source": [
        "\"\"\"Evaluate the model on a randomly selected test set\"\"\"\n",
        "#X has shape (num_time_steps, lat*lon)\n",
        "#y has shape (num_time_steps)\n",
        "np.random.seed(0)\n",
        "\n",
        "#Randomly shuffle X and y to split them in a train and test set\n",
        "num_time_steps = X.shape[0]\n",
        "permuted_indices = np.random.permutation(np.arange(num_time_steps))\n",
        "\n",
        "#Keep 70% of the data for the test set\n",
        "train_set_proportion = int(0.7 * num_time_steps)\n",
        "X, y = X[permuted_indices], y[permuted_indices]\n",
        "X_train, y_train = X[:train_set_proportion], y[:train_set_proportion]\n",
        "X_test, y_test = X[train_set_proportion:], y[train_set_proportion:]\n",
        "\n",
        "#Instead of writing the above logic yourself, sklearn also provides\n",
        "#a built-in method in the line below.\n",
        "#X_train, X_test, y_train, y_test = train_test_split(X, y, test_size=0.3)\n",
        "regr = sklearn.linear_model.LinearRegression()\n",
        "regr.fit(X_train,y_train)\n",
        "\n",
        "predictions_test = regr.predict(X_test)\n",
        "corr, _ = scipy.stats.pearsonr(predictions_test, y_test)\n",
        "\n",
        "plot_nino_time_series(y_test, predictions_test,\n",
        "            'Predicted and True Nino3.4 Indices \\n \\\n",
        "            on Test Set at 36 Month Lead Time. Corr: {:.2f}'.format(corr))"
      ],
      "execution_count": null,
      "outputs": [
        {
          "output_type": "display_data",
          "data": {
            "text/plain": [
              "<Figure size 640x480 with 1 Axes>"
            ],
            "image/png": "[encoded data removed]"
          },
          "metadata": {}
        }
      ]
    },
    {
      "cell_type": "markdown",
      "metadata": {
        "id": "XrbMcDoscZM0"
      },
      "source": [
        "What happened above? Did we just develop a 36-month ahead forecast that has 0.92 correlation on unseen data??\n",
        "\n",
        "Randomly splitting time series data into a train set and a test set is very risky. In many climate datasets, time series have a non-neglible auto-correlation.  Think of it like this: the atmosphere usually has a \"memory\" of about 14 days, and the ocean roughly has a \"memory\" of about 2 years.  \n",
        "\n",
        "If we randomly split the dataset into train set and test set, some of the examples in the test set will be correlated with examples in the train set.  **This corrupts our test set.** If the test set is correlated with the train set, then it no longer measures how generalizable our ML model is."
      ]
    },
    {
      "cell_type": "markdown",
      "source": [
        "## Exercise 1\n",
        "\n",
        "⭐ **Your turn!:** Will performance on a true, uncorrelated test set be better or worse than performance on the biased dataset? Split the data so that the test set represents an unbiased holdout set. Ensure that you're using a 36-month lead time."
      ],
      "metadata": {
        "id": "Mpe86HfcAfpJ"
      }
    },
    {
      "cell_type": "code",
      "source": [
        "X_train, y_train = ### YOUR CODE HERE ###\n",
        "X_test, y_test = ### YOUR CODE HERE ###\n",
        "\n",
        "regr = sklearn.linear_model.LinearRegression()\n",
        "regr.fit(X_train, y_train)\n",
        "\n",
        "predictions_test = regr.predict(X_test)\n",
        "corr, _ = scipy.stats.pearsonr(predictions_test, y_test)\n",
        "\n",
        "plot_nino_time_series(y_test, predictions_test,\n",
        "            'Predicted and True Nino3.4 Indices \\n \\\n",
        "            on Test Set at 36 Month Lead Time. Corr: {:.2f}'.format(corr))"
      ],
      "metadata": {
        "id": "D4joH8t3Tmpl"
      },
      "execution_count": null,
      "outputs": []
    },
    {
      "cell_type": "markdown",
      "source": [
        "### Solution"
      ],
      "metadata": {
        "id": "IAUgALeUTzon"
      }
    },
    {
      "cell_type": "code",
      "metadata": {
        "id": "o2pfQ23Po9zC"
      },
      "source": [
        "X_train, y_train = assemble_basic_predictors_predictands('1980-01-01','1995-12-31', lead_time=36)\n",
        "X_test, y_test = assemble_basic_predictors_predictands('1997-01-01','2006-12-31', lead_time=36)\n",
        "\n",
        "regr = sklearn.linear_model.LinearRegression()\n",
        "regr.fit(X_train, y_train)\n",
        "\n",
        "predictions_test = regr.predict(X_test)\n",
        "corr, _ = scipy.stats.pearsonr(predictions_test, y_test)\n",
        "\n",
        "plot_nino_time_series(y_test, predictions_test,\n",
        "            'Predicted and True Nino3.4 Indices \\n \\\n",
        "            on Test Set at 36 Month Lead Time. Corr: {:.2f}'.format(corr))"
      ],
      "execution_count": null,
      "outputs": []
    },
    {
      "cell_type": "markdown",
      "metadata": {
        "id": "8vqvx3v1efPC"
      },
      "source": [
        "On a true test set, a model making *36 month ahead* predictions does not generalize well.\n"
      ]
    },
    {
      "cell_type": "markdown",
      "metadata": {
        "id": "ZU1W6353-Mm6"
      },
      "source": [
        "# The Bias-Variance Tradeoff"
      ]
    },
    {
      "cell_type": "markdown",
      "metadata": {
        "id": "NhV-yKvwAj6D"
      },
      "source": [
        "### Introduction and Theory\n",
        "\n",
        "The behavior of machine learning models can be decomposed into two quantities:\n",
        "\n",
        "*   **Bias**: On the training set, how well does the machine learning model predict the truth?\n",
        "*   **Variance**: As the input data varies, how does the machine learning prediction vary?  For a small change in the input predictors, how much would the ML prediction change?\n",
        "\n",
        "Let's look at the earlier figure once again:\n",
        "![alt text](https://scikit-learn.org/stable/_images/sphx_glr_plot_underfitting_overfitting_001.png)\n",
        "\n",
        "\n",
        "The left image uses a linear model to approximate a nonlinear \"true function\".  Therefore, the linear model does not understand the function well, and it has high bias.  Similarly, it has low variance, because small changes to sample points along the curve will not change the linear model must.\n",
        "\n",
        "\n",
        "***Question***\n",
        "1. Does the right image have high or low bias?\n",
        "2. Does the right image have high or low variance?\n",
        "\n",
        "\n",
        "Based on the figures above, we conclude that bias and variance are often a tradeoff: models with high bias often have low variance, and vice versa.  See page 23 of Nasiriany's notes for a mathematical derivation of this tradeoff.\n",
        "\n",
        "\n",
        "Here's another example to help develop our visual understanding of bias vs. variance.\n",
        "\n",
        "Here is how a k-Nearest-Neighbor model works:\n",
        "1. The model is shown a sample data point from the test set, $x_\\text{test}$\n",
        "2. It searches its training set for the $k$ most similar data points\n",
        "3. Of the $k$ points it founds, it calculates the most common predictand, and it assigns $x_\\text{test}$ the most common\n",
        "\n",
        "Crucially, this method supports classification of data that is not linearly separable (see below image for an example)\n",
        "\n",
        "***Polling question:*** For a large value of $k$, would you expect a high bias/low variance classifier? Or a high variance/low bias classifier?\n",
        "\n",
        "![alt text](http://web.cse.ohio-state.edu/~stiff.4/cse3521/images/effect-of-k.png)\n"
      ]
    },
    {
      "cell_type": "markdown",
      "metadata": {
        "id": "ZlkrSMQyk3v1"
      },
      "source": [
        "\n",
        "\n",
        "Let's connect the bias/variance tradeoff to the discussion we had on overfitting in the first section. Implications of the bias-variance tradeoff (from Wikipedia)\n",
        "\n",
        "*   \"The bias error is an error from erroneous assumptions in the learning algorithm. High bias can cause an algorithm to miss the relevant relations between features and target outputs (**underfitting**).\"\n",
        "\n",
        "*   \"The variance is an error from sensitivity to small fluctuations in the training set. High variance can cause an algorithm to model the random noise in the training data, rather than the intended outputs (**overfitting**).\""
      ]
    },
    {
      "cell_type": "markdown",
      "metadata": {
        "id": "93FXVQa8DMKH"
      },
      "source": [
        "### Regularization\n",
        "\n",
        "Our goal in machine learning is to avoid underfitting and overfitting: we want to develop models that perform well in both the train set and the test set.\n",
        "\n",
        "One method to avoid overfitting is **regularization.** In the next section, we will discuss how regularization avoids overfitting.  \n",
        "\n",
        "Let $X$ be a 2D matrix of shape $(n,d)$ where $n$ is the number of time steps and $d$ is the number of predictors.  Let $y$ be a vector of shape $(n,1)$ that has the target ENSO values.  Let $w$ be a vector of shape $(d,1)$\n",
        "\n",
        "In ordinary least squares linear regression, we are **finding the value of $w$** that minimizes the following term:\n",
        "\n",
        "$$\\text{min}||Xw-y||^2 $$\n",
        "\n",
        "\n",
        "Here's an intuitive description of the math above:\n",
        "*   the goal of linear regression is to minimize the squared difference between the linear models' predictions ($Xw$) and the truth ($y$).\n",
        "\n",
        "The forecast of a linear regression model is $Xw$.  Here's an intuitive description of what $Xw$:\n",
        "*   a linear regression model makes a forecast by multiplying each predictor by its associated weight and returning the sum of these products. With  large weights, a small change in one of the predictors will lead to a large change in the forecast.  Therefore, we amend linear regression to penalize the model from learning large weights:\n",
        "\n",
        "\n",
        "$$\\text{min}||Xw-y||^2 + \\alpha ||w||^2 $$\n",
        "\n",
        "\n",
        "$\\alpha ||w||^2$ is called a regularization term. This regularized form of linear regression is often called **Ridge Regression**.\n",
        "\n",
        "Please see pg. 6 of Nasiriany for mathematical derivations to the solutions of the above two minimization problems.\n"
      ]
    },
    {
      "cell_type": "markdown",
      "metadata": {
        "id": "Qn38YJIKC6jU"
      },
      "source": [
        "### *Coding Exercise*: Regularization\n",
        "\n",
        "\n",
        "In this example, we will investigate the real-world effect of regularization on our ENSO dataset.\n",
        "\n",
        "Note: for visualization purposes, we do not train our models using all lat$*$lon predictors.  Instead, we use Principal Components Analysis (aka Empirical Orthogonal Functionals) to represent all lat$*$lon predictors with far fewer dimensions.  Due to time constraints, please refer to page 116 of Professor Shewchuk's notes for a deeper explanation of this method."
      ]
    },
    {
      "cell_type": "code",
      "metadata": {
        "id": "MEWhUa6awbDY",
        "outputId": "bad7fd11-afce-4183-a050-90453ef4de99",
        "colab": {
          "base_uri": "https://localhost:8080/",
          "height": 472
        }
      },
      "source": [
        "X_train, y_train = assemble_basic_predictors_predictands('1990-01-01','2005-12-31',\n",
        "                                                1,use_pca=True)\n",
        "X_test, y_test = assemble_basic_predictors_predictands('2008-01-01','2015-12-31', 1,\n",
        "                                                  use_pca=True)\n",
        "regr_1_month_lr = sklearn.linear_model.LinearRegression()\n",
        "regr_1_month_lr.fit(X_train,y_train)\n",
        "\n",
        "#First, let's plot the performance of the model\n",
        "predictions_test = regr_1_month_lr.predict(X_test)\n",
        "corr, _ = scipy.stats.pearsonr(predictions_test, y_test)\n",
        "plot_nino_time_series(y_test, predictions_test,\n",
        "    'Predicted and True Nino3.4 Indices on Test Set \\\n",
        "    at 1 Month Lead Time. Corr: {:.2f}'.format(corr))\n"
      ],
      "execution_count": null,
      "outputs": [
        {
          "output_type": "display_data",
          "data": {
            "text/plain": [
              "<Figure size 640x480 with 1 Axes>"
            ],
            "image/png": "[encoded data removed]"
          },
          "metadata": {}
        }
      ]
    },
    {
      "cell_type": "code",
      "metadata": {
        "id": "XaO27iu55yaH",
        "outputId": "10cef493-93d5-45e5-f144-be0d903bb3e6",
        "colab": {
          "base_uri": "https://localhost:8080/",
          "height": 472
        }
      },
      "source": [
        "X_train, y_train = assemble_basic_predictors_predictands('1990-01-01','2005-12-31',\n",
        "                                                1,use_pca=True)\n",
        "X_test, y_test = assemble_basic_predictors_predictands('2008-01-01','2015-12-31', 1,\n",
        "                                                  use_pca=True)\n",
        "regr_1_month_ridge = sklearn.linear_model.Ridge(alpha=80000.0)\n",
        "regr_1_month_ridge.fit(X_train,y_train)\n",
        "\n",
        "#First, let's plot the performance of the model\n",
        "predictions_test = regr_1_month_ridge.predict(X_test)\n",
        "corr, _ = scipy.stats.pearsonr(predictions_test, y_test)\n",
        "plot_nino_time_series(y_test, predictions_test,\n",
        "    'Predicted and True Nino3.4 Indices on Test Set \\\n",
        "    at 1 Month Lead Time. Corr: {:.2f}'.format(corr))\n"
      ],
      "execution_count": null,
      "outputs": [
        {
          "output_type": "display_data",
          "data": {
            "text/plain": [
              "<Figure size 640x480 with 1 Axes>"
            ],
            "image/png": "[encoded data removed]"
          },
          "metadata": {}
        }
      ]
    },
    {
      "cell_type": "markdown",
      "metadata": {
        "id": "qOhiLiPgAKbe"
      },
      "source": [
        "On the test set we see that the regularized model performs slightly better than the linear model! This is a good sign, as the goal of regularization is to develop models that can better **generalize** to unseen data.\n",
        "\n",
        "Next, let's visualize and compare the variance of the two models.  Recall that models that are highly variable are susceptable to small fluctuations in the predictors.  In the code cell below, we conduct the experiment:\n",
        "\n",
        "\n",
        "*   Perturb the test set predictors by multiplying them by a random number between -1.05 and 1.05\n",
        "*   Run the trained ridge regression and linear regression models on those perturbed predictors\n",
        "*   Record the spread in the predictions\n",
        "\n",
        "The spread of these predictions is the variance of the ML model."
      ]
    },
    {
      "cell_type": "code",
      "metadata": {
        "id": "eENm2dJD8rXk"
      },
      "source": [
        "\"\"\"In this cell, we will visualize the variance of linear regression and ridge regression\"\"\"\n",
        "for experiment_num in range(1000):\n",
        "  perturbed_X_test = X_test * np.random.uniform(-1.05,1.05)\n",
        "\n",
        "  perturbed_predictions_linear = regr_1_month_lr.predict(perturbed_X_test)\n",
        "  perturbed_predictions_linear = pd.Series(perturbed_predictions_linear,\n",
        "                                           index=y_test.index)\n",
        "  plt.plot(perturbed_predictions_linear, '--', label='Linear', color='blue',\n",
        "           alpha=0.6)\n",
        "\n",
        "  perturbed_predictions_ridge = regr_1_month_ridge.predict(perturbed_X_test)\n",
        "  perturbed_predictions_ridge = pd.Series(perturbed_predictions_ridge,\n",
        "                                           index=y_test.index)\n",
        "  plt.plot(perturbed_predictions_ridge, '--', label='Ridge', color='orange',\n",
        "           alpha=0.6)\n",
        "\n",
        "  if experiment_num == 0: plt.legend(loc='best')\n",
        "\n",
        "plt.title(\"Spread of ML Predictions With Perturbed Predictors\")\n",
        "plt.ylabel(\"Nino 3.4 Index\")\n",
        "plt.show()"
      ],
      "execution_count": null,
      "outputs": []
    },
    {
      "cell_type": "markdown",
      "metadata": {
        "id": "xqFBAPPNAQOf"
      },
      "source": [
        "The plot above illustrates the effect of regularization!  When randomly perturbing the input 1000 times, the predictions from linear regression (blue) have a larger spread than those from ridge regression (orange).  This means that linear regression has a higher variance than ridge regression.  \n",
        "\n",
        "In the cell below, let's investigate why ridge regression is less vulnerable to small fluctuations in the data."
      ]
    },
    {
      "cell_type": "code",
      "metadata": {
        "id": "ZSmmsE_Y7SjK"
      },
      "source": [
        "\"\"\"In this cell, we will visualize how the weights of the linear\n",
        "regression model are bigger than those of the ridge regression model\"\"\"\n",
        "\n",
        "#coef_ loads in the coefficients from the trained model\n",
        "regr_1_month_lr_weights = regr_1_month_lr.coef_\n",
        "regr_1_month_ridge_weights = regr_1_month_ridge.coef_\n",
        "\n",
        "plt.bar(range(regr_1_month_lr_weights.shape[0]), regr_1_month_lr_weights,\n",
        "        label='Linear Regression Weights')\n",
        "plt.bar(range(regr_1_month_ridge_weights.shape[0]), regr_1_month_ridge_weights,\n",
        "        label='Ridge Regression Weights')\n",
        "plt.legend(loc='best')\n",
        "plt.ylabel('Value of Learned Weight')\n",
        "plt.title('Comparison of the Size of Weights of Linear and Ridge Regression')\n",
        "plt.show()"
      ],
      "execution_count": null,
      "outputs": []
    },
    {
      "cell_type": "markdown",
      "metadata": {
        "id": "Re-D_DZyAZV9"
      },
      "source": [
        "As expected, the weights of the ridge regression model are smaller than those of the linear regression model.\n",
        "\n",
        "There we have it! On our real-world ENSO dataset, we have confirmed our theoretical speculations about the effect of regularization on the bias-variance tradeoff!  \n",
        "\n",
        "To recap:\n",
        "\n",
        "*   Because of the regularization term, the weights in a ridge regression model are smaller (large weights are penalized during the optimization) than those in linear regression\n",
        "*   With smaller weights, the ridge regression model is less vulnerable to small fluctuations in the data\n",
        "*   This means that ridge regression models have less variance and are less vulnerable to overfitting"
      ]
    },
    {
      "cell_type": "markdown",
      "metadata": {
        "id": "EPD2Pt7V-boR"
      },
      "source": [
        "## Machine Learning Models and Model Selection"
      ]
    },
    {
      "cell_type": "markdown",
      "source": [
        "### Physics-based Machine Learning\n",
        "\n",
        "An open problem in machine learning is how to incorporate physics into the model.  For example, some physical laws in the climate system are **conservation of mass** and **conservation of momentum.**  By including these physical laws into machine learning, we can get two possible benefits:  \n",
        "\n",
        "*   the output of our machine learning model is consistent with physical properties (e.g. we won't have ML models predicting negative precipitation values)\n",
        "*   Possibly, it may take less time to train the ML models, since we are including prior information\n",
        "\n",
        "Incorporating physics into machine learning models is a cutting-edge research area.  For more information on this area, we suggest reading the following article:[ Physics-informed machine learning: case studies for weather and climate modelling.](https://royalsocietypublishing.org/doi/10.1098/rsta.2020.0093)\n",
        "\n",
        "**Take home exercise:** Try incorporating physical laws into our ENSO forecasting model above!"
      ],
      "metadata": {
        "id": "LDok1rnoKpzD"
      }
    },
    {
      "cell_type": "markdown",
      "metadata": {
        "id": "69QG0MygB2X3"
      },
      "source": [
        "### Variance Scaling\n",
        "\n",
        "In the preprocessing presentation, we discussed ways that data is normalized before being fed into machine learning models.  Some models ML techniques require data to be centered (have mean 0); in other cases, normalization helps with numerical stability.  \n",
        "\n",
        "One type of normalization is called variance scaling.  Variance scaling is to scale the variance of each predictor such that each predictor has a variance of 1.  \n",
        "\n",
        "In our ENSO dataset, we have latxlon predictors; each predictor is temperature at a certain location on Earth.  We have ```num_time_steps``` samples of these predictors. Therefore, the shape of ```X``` is (num_time_steps, latxlon). *Variance scaling would mean that we scale our dataset such that the variance of temperature at each grid cell is 1.*\n",
        "\n",
        "Should we use variance scaling for our ENSO forecasting model?\n",
        "\n",
        "Acknowledgment: I'd like to  thank Professor [Patrick Brown](https://patricktbrown.org/about/) for helping me with this problem."
      ]
    },
    {
      "cell_type": "code",
      "metadata": {
        "id": "RRGJmawu0YPw"
      },
      "source": [
        "\"\"\"Write code to explore the above question\"\"\""
      ],
      "execution_count": null,
      "outputs": []
    },
    {
      "cell_type": "markdown",
      "metadata": {
        "id": "is90oM9WrSdA"
      },
      "source": [
        "## Deep Learning\n",
        "\n",
        "Now let's try training a neural network to forecast ENSO.  In this section, we will use PyTorch as our machine learning framework."
      ]
    },
    {
      "cell_type": "markdown",
      "metadata": {
        "id": "3Pf40ZwGtg1Q"
      },
      "source": [
        "\n",
        "\n",
        "Let's get started: first, let's load the data.  **PLEASE READ THE DOCSTRING FOR THE `assemble_predictors_predictands` function!** It is essential to understand the arguments to this function as we explore different scientific/ machine learning questions later on in this hackathon.\n",
        "\n",
        "In this section, the `assemble_predictors_predictands` method has been extended to load in data from observations AND from GCMs."
      ]
    },
    {
      "cell_type": "code",
      "metadata": {
        "id": "ADPW-RDXtkhb"
      },
      "source": [
        "#Scaffold code to load in data.  This code cell is mostly data wrangling\n",
        "\n",
        "\n",
        "def load_enso_indices():\n",
        "  \"\"\"\n",
        "  Reads in the txt data file to output a pandas Series of ENSO vals\n",
        "\n",
        "  outputs\n",
        "  -------\n",
        "\n",
        "    pd.Series : monthly ENSO values starting from 1870-01-01\n",
        "  \"\"\"\n",
        "  with open('nino34.long.anom.data.txt') as f:\n",
        "    line = f.readline()\n",
        "    enso_vals = []\n",
        "    while line:\n",
        "        yearly_enso_vals = map(float, line.split()[1:])\n",
        "        enso_vals.extend(yearly_enso_vals)\n",
        "        line = f.readline()\n",
        "\n",
        "  enso_vals = pd.Series(enso_vals)\n",
        "  enso_vals.index = pd.date_range('1870-01-01',freq='MS',\n",
        "                                  periods=len(enso_vals))\n",
        "  enso_vals.index = pd.to_datetime(enso_vals.index)\n",
        "  return enso_vals\n",
        "\n",
        "def assemble_predictors_predictands(start_date, end_date, lead_time,\n",
        "                                    dataset, data_format,\n",
        "                                    num_input_time_steps=1,\n",
        "                                    use_pca=False, n_components=32,\n",
        "                                    lat_slice=None, lon_slice=None):\n",
        "  \"\"\"\n",
        "  inputs\n",
        "  ------\n",
        "\n",
        "      start_date           str : the start date from which to extract sst\n",
        "      end_date             str : the end date\n",
        "      lead_time            str : the number of months between each sst\n",
        "                              value and the target Nino3.4 Index\n",
        "      dataset              str : 'observations' 'CNRM' or 'MPI'\n",
        "      data_format          str : 'spatial' or 'flatten'. 'spatial' preserves\n",
        "                                  the lat/lon dimensions and returns an\n",
        "                                  array of shape (num_samples, num_input_time_steps,\n",
        "                                  lat, lon).  'flatten' returns an array of shape\n",
        "                                  (num_samples, num_input_time_steps*lat*lon)\n",
        "      num_input_time_steps int : the number of time steps to use for each\n",
        "                                 predictor sample\n",
        "      use_pca             bool : whether or not to apply principal components\n",
        "                              analysis to the sst field\n",
        "      n_components         int : the number of components to use for PCA\n",
        "      lat_slice           slice: the slice of latitudes to use\n",
        "      lon_slice           slice: the slice of longitudes to use\n",
        "\n",
        "  outputs\n",
        "  -------\n",
        "      Returns a tuple of the predictors (np array of sst temperature anomalies)\n",
        "      and the predictands (np array the ENSO index at the specified lead time).\n",
        "\n",
        "  \"\"\"\n",
        "  file_name = {'observations' : 'sst.mon.mean.trefadj.anom.1880to2018.nc',\n",
        "               'CNRM'         : 'CNRM_tas_anomalies_regridded.nc',\n",
        "               'MPI'          : 'MPI_tas_anomalies_regridded.nc'}[dataset]\n",
        "  variable_name = {'observations' : 'sst',\n",
        "                   'CNRM'         : 'tas',\n",
        "                   'MPI'          : 'tas'}[dataset]\n",
        "  ds = xr.open_dataset(file_name)\n",
        "  sst = ds[variable_name].sel(time=slice(start_date, end_date))\n",
        "  if lat_slice is not None:\n",
        "    \"\"\"YOUR CODE HERE\"\"\"\n",
        "    raise NotImplementedError(\"If you desire, you must implement the slicing!\")\n",
        "  if lon_slice is not None:\n",
        "    \"\"\"YOUR CODE HERE\"\"\"\n",
        "    raise NotImplementedError(\"If you desire, you must implement the slicing!\")\n",
        "\n",
        "\n",
        "  num_samples = sst.shape[0]\n",
        "  #sst is a (num_samples, lat, lon) array\n",
        "  #the line below converts it to (num_samples, num_input_time_steps, lat, lon)\n",
        "  sst = np.stack([sst.values[n-num_input_time_steps:n] for n in range(num_input_time_steps,\n",
        "                                                              num_samples+1)])\n",
        "  #CHALLENGE: CAN YOU IMPLEMENT THE ABOVE LINE WITHOUT A FOR LOOP?\n",
        "  num_samples = sst.shape[0]\n",
        "\n",
        "  sst[np.isnan(sst)] = 0\n",
        "  if data_format=='flatten':\n",
        "    #sst is a 3D array: (time_steps, lat, lon)\n",
        "    #in this tutorial, we will not be using ML models that take\n",
        "    #advantage of the spatial nature of global temperature\n",
        "    #therefore, we reshape sst into a 2D array: (time_steps, lat*lon)\n",
        "    #(At each time step, there are lat*lon predictors)\n",
        "    sst = sst.reshape(num_samples, -1)\n",
        "\n",
        "\n",
        "    #Use Principal Components Analysis, also called\n",
        "    #Empirical Orthogonal Functions, to reduce the\n",
        "    #dimensionality of the array\n",
        "    if use_pca:\n",
        "      pca = sklearn.decomposition.PCA(n_components=n_components)\n",
        "      pca.fit(sst)\n",
        "      X = pca.transform(sst)\n",
        "    else:\n",
        "      X = sst\n",
        "  else: # data_format=='spatial'\n",
        "    X = sst\n",
        "\n",
        "  start_date_plus_lead = pd.to_datetime(start_date) + \\\n",
        "                        pd.DateOffset(months=lead_time+num_input_time_steps-1)\n",
        "  end_date_plus_lead = pd.to_datetime(end_date) + \\\n",
        "                      pd.DateOffset(months=lead_time)\n",
        "  if dataset == 'observations':\n",
        "    y = load_enso_indices()[slice(start_date_plus_lead,\n",
        "                                  end_date_plus_lead)]\n",
        "  else: #the data is from a GCM\n",
        "    X = X.astype(np.float32)\n",
        "    #The Nino3.4 Index is composed of three month rolling values\n",
        "    #Therefore, when calculating the Nino3.4 Index in a GCM\n",
        "    #we have to extract the two months prior to the first target start date\n",
        "    target_start_date_with_2_month = start_date_plus_lead - pd.DateOffset(months=2)\n",
        "    subsetted_ds = ds[variable_name].sel(time=slice(target_start_date_with_2_month,\n",
        "                                                   end_date_plus_lead))\n",
        "    #Calculate the Nino3.4 index\n",
        "    y = subsetted_ds.sel(lat=slice(5,-5), lon=slice(360-170,360-120)).mean(dim=('lat','lon'))\n",
        "\n",
        "    y = pd.Series(y.values).rolling(window=3).mean()[2:].values\n",
        "    y = y.astype(np.float32)\n",
        "  ds.close()\n",
        "  return X.astype(np.float32), y.astype(np.float32)\n",
        "\n",
        "\n",
        "class ENSODataset(Dataset):\n",
        "    def __init__(self, predictors, predictands):\n",
        "        self.predictors = predictors\n",
        "        self.predictands = predictands\n",
        "        assert self.predictors.shape[0] == self.predictands.shape[0], \\\n",
        "               \"The number of predictors must equal the number of predictands!\"\n",
        "\n",
        "    def __len__(self):\n",
        "        return self.predictors.shape[0]\n",
        "\n",
        "    def __getitem__(self, idx):\n",
        "        return self.predictors[idx], self.predictands[idx]"
      ],
      "execution_count": null,
      "outputs": []
    },
    {
      "cell_type": "markdown",
      "metadata": {
        "id": "henR7VMNtzKi"
      },
      "source": [
        "**IMPORTANT info about `num_input_time_steps`:** `num_input_time_steps` refers to the number of time steps for each predictor.  For example, if `num_input_time_steps` is set to 3, then the machine learning model will take 3 months as its input.  In other words, a sample predictor will be 3 months of average temperature: Jan average temperature, Feb average temperature, and March average temperature (i.e. an array of (3, lat, lon)).  The predictand will be the Niño3.4 index `lead_time` months after March.\n",
        "\n",
        "Let's define a simple convolutional neural network to start.  \n"
      ]
    },
    {
      "cell_type": "markdown",
      "metadata": {
        "id": "lMwzlKKEt22Q"
      },
      "source": [
        "## Train A Simple Convolutional Neural Network to Forecast ENSO\n",
        "\n",
        "Let's define a simple convolutional neural network architecture.  This architecture has 1 convolutional layer, followed by a pooling layer, followed by another convolutional layer, followed by three fully connected layers (called `nn.Linear` layers).  The output of the final fully connected layer is a 1-D array, since we are trying to forecast 1 value: the target ENSO index.\n",
        "\n"
      ]
    },
    {
      "cell_type": "code",
      "metadata": {
        "id": "S7g4htyetytL"
      },
      "source": [
        "class CNN(nn.Module):\n",
        "    def __init__(self, num_input_time_steps=1, print_feature_dimension=False):\n",
        "        \"\"\"\n",
        "        inputs\n",
        "        -------\n",
        "            num_input_time_steps        (int) : the number of input time\n",
        "                                                steps in the predictor\n",
        "            print_feature_dimension    (bool) : whether or not to print\n",
        "                                                out the dimension of the features\n",
        "                                                extracted from the conv layers\n",
        "        \"\"\"\n",
        "        super(CNN, self).__init__()\n",
        "        self.conv1 = nn.Conv2d(num_input_time_steps, 6, 3)\n",
        "        self.pool = nn.MaxPool2d(2, 2)\n",
        "        self.conv2 = nn.Conv2d(6, 16, 5)\n",
        "        self.print_layer = Print()\n",
        "\n",
        "        #TIP: print out the dimension of the extracted features from\n",
        "        #the conv layers for setting the dimension of the linear layer!\n",
        "        #Using the print_layer, we find that the dimensions are\n",
        "        #(batch_size, 16, 42, 87)\n",
        "        self.fc1 = nn.Linear(16 * 42 * 87, 120)\n",
        "        self.fc2 = nn.Linear(120, 84)\n",
        "        self.fc3 = nn.Linear(84, 1)\n",
        "        self.print_feature_dimension = print_feature_dimension\n",
        "\n",
        "    def forward(self, x):\n",
        "        x = self.pool(F.relu(self.conv1(x)))\n",
        "        x = self.pool(F.relu(self.conv2(x)))\n",
        "        if self.print_feature_dimension:\n",
        "          x = self.print_layer(x)\n",
        "        x = x.view(-1, 16 * 42 * 87)\n",
        "        x = F.relu(self.fc1(x))\n",
        "        x = F.relu(self.fc2(x))\n",
        "        x = self.fc3(x)\n",
        "        return x\n",
        "\n",
        "class Print(nn.Module):\n",
        "    \"\"\"\n",
        "    This class prints out the size of the features\n",
        "    \"\"\"\n",
        "    def forward(self, x):\n",
        "        print(x.size())\n",
        "        return x"
      ],
      "execution_count": null,
      "outputs": []
    },
    {
      "cell_type": "markdown",
      "metadata": {
        "id": "APws7Wcgt8TS"
      },
      "source": [
        "Next, let's define a method that trains our neural network.  \n",
        "\n",
        "**IMPORTANT** Reading through this method will help you understand each step in the process of training a neural network!\n",
        "\n",
        "**GROUP DISCUSSION QUESTION**: What would happen if you removed the lines that say `if mode == 'train'` in the code cell below?"
      ]
    },
    {
      "cell_type": "code",
      "metadata": {
        "id": "JIgp39lRsGoW"
      },
      "source": [
        "def train_network(net, criterion, optimizer, trainloader, testloader,\n",
        "                  experiment_name, num_epochs=40):\n",
        "  \"\"\"\n",
        "  inputs\n",
        "  ------\n",
        "\n",
        "      net               (nn.Module)   : the neural network architecture\n",
        "      criterion         (nn)          : the loss function (i.e. root mean squared error)\n",
        "      optimizer         (torch.optim) : the optimizer to use update the neural network\n",
        "                                        architecture to minimize the loss function\n",
        "      trainloader       (torch.utils.data.DataLoader): dataloader that loads the\n",
        "                                        predictors and predictands\n",
        "                                        for the train dataset\n",
        "      testloader        (torch.utils.data. DataLoader): dataloader that loads the\n",
        "                                        predictors and predictands\n",
        "                                        for the test dataset\n",
        "  outputs\n",
        "  -------\n",
        "      predictions (np.array), and saves the trained neural network as a .pt file\n",
        "  \"\"\"\n",
        "  device = \"cuda:0\" if torch.cuda.is_available() else \"cpu\"\n",
        "  net = net.to(device)\n",
        "  best_loss = np.infty\n",
        "  train_losses, test_losses = [], []\n",
        "\n",
        "  for epoch in range(num_epochs):\n",
        "    for mode, data_loader in [('train', trainloader), ('test', testloader)]:\n",
        "      #Set the model to train mode to allow its weights to be updated\n",
        "      #while training\n",
        "      if mode == 'train':\n",
        "        net.train()\n",
        "\n",
        "      #Set the model to eval model to prevent its weights from being updated\n",
        "      #while testing\n",
        "      elif mode == 'test':\n",
        "        net.eval()\n",
        "\n",
        "      running_loss = 0.0\n",
        "      for i, data in enumerate(data_loader):\n",
        "          # get a mini-batch of predictors and predictands\n",
        "          batch_predictors, batch_predictands = data\n",
        "          batch_predictands = batch_predictands.to(device)\n",
        "          batch_predictors = batch_predictors.to(device)\n",
        "\n",
        "          # zero the parameter gradients\n",
        "          optimizer.zero_grad()\n",
        "\n",
        "          #calculate the predictions of the current neural network\n",
        "          predictions = net(batch_predictors).squeeze()\n",
        "\n",
        "          #quantify the quality of the predictions using a\n",
        "          #loss function (aka criterion) that is differentiable\n",
        "          loss = criterion(predictions, batch_predictands)\n",
        "\n",
        "          if mode == 'train':\n",
        "            #the 'backward pass: calculates the gradients of each weight\n",
        "            #of the neural network with respect to the loss\n",
        "            loss.backward()\n",
        "\n",
        "            #the optimizer updates the weights of the neural network\n",
        "            #based on the gradients calculated above and the choice\n",
        "            #of optimization algorithm\n",
        "            optimizer.step()\n",
        "\n",
        "          #Save the model weights that have the best performance!\n",
        "\n",
        "\n",
        "          running_loss += loss.item()\n",
        "      if running_loss < best_loss and mode == 'test':\n",
        "          best_loss = running_loss\n",
        "          torch.save(net, '{}.pt'.format(experiment_name))\n",
        "      print('{} Set: Epoch {:02d}. loss: {:3f}'.format(mode, epoch+1, \\\n",
        "                                            running_loss/len(data_loader)))\n",
        "      if mode == 'train':\n",
        "          train_losses.append(running_loss/len(data_loader))\n",
        "      else:\n",
        "          test_losses.append(running_loss/len(data_loader))\n",
        "\n",
        "  net = torch.load('{}.pt'.format(experiment_name))\n",
        "  net.eval()\n",
        "  net.to(device)\n",
        "\n",
        "  #the remainder of this notebook calculates the predictions of the best\n",
        "  #saved model\n",
        "  predictions = np.asarray([])\n",
        "  for i, data in enumerate(testloader):\n",
        "    batch_predictors, batch_predictands = data\n",
        "    batch_predictands = batch_predictands.to(device)\n",
        "    batch_predictors = batch_predictors.to(device)\n",
        "\n",
        "    batch_predictions = net(batch_predictors).squeeze()\n",
        "    #Edge case: if there is 1 item in the batch, batch_predictions becomes a float\n",
        "    #not a Tensor. the if statement below converts it to a Tensor\n",
        "    #so that it is compatible with np.concatenate\n",
        "    if len(batch_predictions.size()) == 0:\n",
        "      batch_predictions = torch.Tensor([batch_predictions])\n",
        "    predictions = np.concatenate([predictions, batch_predictions.detach().cpu().numpy()])\n",
        "  return predictions, train_losses, test_losses\n"
      ],
      "execution_count": null,
      "outputs": []
    },
    {
      "cell_type": "code",
      "metadata": {
        "id": "USvje5kouCGb"
      },
      "source": [
        "#Assemble numpy arrays corresponding to predictors and predictands\n",
        "train_start_date = '1960-01-01'\n",
        "train_end_date = '2005-12-31'\n",
        "num_input_time_steps = 2\n",
        "lead_time = 2\n",
        "train_predictors, train_predictands = assemble_predictors_predictands(train_start_date,\n",
        "                      train_end_date, lead_time, 'observations', 'spatial', num_input_time_steps=num_input_time_steps)\n",
        "test_predictors, test_predictands = assemble_predictors_predictands('2007-01-01',\n",
        "                    '2017-12-31', lead_time, 'observations', 'spatial', num_input_time_steps=num_input_time_steps)\n",
        "\n",
        "#Convert the numpy ararys into ENSODataset, which is a subset of the\n",
        "#torch.utils.data.Dataset class.  This class is compatible with\n",
        "#the torch dataloader, which allows for data loading for a CNN\n",
        "train_dataset = ENSODataset(train_predictors, train_predictands)\n",
        "test_dataset = ENSODataset(test_predictors, test_predictands)\n",
        "\n",
        "#Create a torch.utils.data.DataLoader from the ENSODatasets() created earlier!\n",
        "#the similarity between the name DataLoader and Dataset in the pytorch API is unfortunate...\n",
        "trainloader = DataLoader(train_dataset, batch_size=10)\n",
        "testloader = DataLoader(test_dataset, batch_size=10)\n",
        "net = CNN(num_input_time_steps=num_input_time_steps)\n",
        "optimizer = optim.Adam(net.parameters(), lr=0.0001)\n",
        "\n",
        "experiment_name = \"twolayerCNN_{}_{}\".format(train_start_date, train_end_date)\n",
        "predictions, train_losses, test_losses = train_network(net, nn.MSELoss(),\n",
        "                  optimizer, trainloader, testloader, experiment_name)"
      ],
      "execution_count": null,
      "outputs": []
    },
    {
      "cell_type": "code",
      "metadata": {
        "id": "YFVHonbFuD4g"
      },
      "source": [
        "plt.plot(train_losses, label='Train Loss')\n",
        "plt.plot(test_losses, label='Test Loss')\n",
        "plt.xlabel('Epoch')\n",
        "plt.ylabel('Loss')\n",
        "plt.title('Performance of {} Neural Network During Training'.format(experiment_name))\n",
        "plt.legend(loc='best')\n",
        "plt.show()"
      ],
      "execution_count": null,
      "outputs": []
    },
    {
      "cell_type": "markdown",
      "metadata": {
        "id": "1usGKhJjuIR6"
      },
      "source": [
        "*Check your understanding:* From the previous section on fundamentals of machine learning, what is it called when the validation losses are very high and the train losses are very low?  What might we try to reduce this problem?"
      ]
    },
    {
      "cell_type": "code",
      "metadata": {
        "id": "SBci20J2uNRf"
      },
      "source": [
        "corr, _ = pearsonr(test_predictands, predictions)\n",
        "rmse = mean_squared_error(test_predictands, predictions) ** 0.5\n",
        "plot_nino_time_series(\n",
        "    test_predictands,\n",
        "    predictions,\n",
        "    '{} Predictions. Corr: {:3f}. RMSE: {:3f}.'.format(experiment_name, corr, rmse)\n",
        "    )"
      ],
      "execution_count": null,
      "outputs": []
    },
    {
      "cell_type": "markdown",
      "source": [
        "## Exercise 2\n",
        "\n",
        "⭐ **Your turn!:** Try reducing the number of parameters of the network. You could define your own network architecture, which uses a different number of parameters!"
      ],
      "metadata": {
        "id": "I1HEqEBjBSnL"
      }
    },
    {
      "cell_type": "code",
      "source": [
        "# first we'll install a helpful library to sum our parameters\n",
        "!pip install torchinfo"
      ],
      "metadata": {
        "id": "1UyAUTFxIP4K"
      },
      "execution_count": null,
      "outputs": []
    },
    {
      "cell_type": "code",
      "source": [
        "from torchinfo import summary\n",
        "\n",
        "# let's see how many parameters our original CNN has\n",
        "summary(net)"
      ],
      "metadata": {
        "id": "BTtbyjFQIjG2"
      },
      "execution_count": null,
      "outputs": []
    },
    {
      "cell_type": "code",
      "source": [
        "class CNNReduced(CNN):\n",
        "    def __init__(self, num_input_time_steps=1, print_feature_dimension=False):\n",
        "        \"\"\"\n",
        "        inputs\n",
        "        -------\n",
        "            num_input_time_steps        (int) : the number of input time\n",
        "                                                steps in the predictor\n",
        "            print_feature_dimension    (bool) : whether or not to print\n",
        "                                                out the dimension of the features\n",
        "                                                extracted from the conv layers\n",
        "        \"\"\"\n",
        "        super(CNNReduced, self).__init__()\n",
        "\n",
        "        ### YOUR CODE HERE ###\n",
        "\n",
        "        self.print_feature_dimension = print_feature_dimension\n",
        "\n",
        "    def forward(self, x):\n",
        "\n",
        "        ### YOUR CODE HERE ###\n",
        "\n",
        "        return x"
      ],
      "metadata": {
        "id": "f_gNht_5KnM7"
      },
      "execution_count": null,
      "outputs": []
    },
    {
      "cell_type": "code",
      "source": [
        "net_reduced = CNNReduced(num_input_time_steps=num_input_time_steps)\n",
        "summary(net_reduced)"
      ],
      "metadata": {
        "id": "J2_Wrc8LLfhL"
      },
      "execution_count": null,
      "outputs": []
    },
    {
      "cell_type": "code",
      "source": [
        "optimizer = optim.Adam(net_reduced.parameters(), lr=0.0001)\n",
        "\n",
        "experiment_name = \"reducedParametersCNN_{}_{}\".format(train_start_date, train_end_date)\n",
        "predictions, train_losses, test_losses = train_network(net_reduced, nn.MSELoss(),\n",
        "                  optimizer, trainloader, testloader, experiment_name)"
      ],
      "metadata": {
        "id": "YYMApmpqLgPe"
      },
      "execution_count": null,
      "outputs": []
    },
    {
      "cell_type": "code",
      "source": [
        "plt.plot(train_losses, label='Train Loss')\n",
        "plt.plot(test_losses, label='Test Loss')\n",
        "plt.xlabel('Epoch')\n",
        "plt.ylabel('Loss')\n",
        "plt.title('Performance of {} Neural Network During Training'.format(experiment_name))\n",
        "plt.legend(loc='best')\n",
        "plt.show()"
      ],
      "metadata": {
        "id": "XYkeDhdSLgH9"
      },
      "execution_count": null,
      "outputs": []
    },
    {
      "cell_type": "code",
      "source": [
        "corr, _ = pearsonr(test_predictands, predictions)\n",
        "rmse = mean_squared_error(test_predictands, predictions) ** 0.5\n",
        "plot_nino_time_series(\n",
        "    test_predictands,\n",
        "    predictions,\n",
        "    '{} Predictions. Corr: {:3f}. RMSE: {:3f}.'.format(experiment_name, corr, rmse)\n",
        "    )"
      ],
      "metadata": {
        "id": "m1WH-DkiLf7S"
      },
      "execution_count": null,
      "outputs": []
    },
    {
      "cell_type": "markdown",
      "source": [
        "### Solution\n",
        "\n"
      ],
      "metadata": {
        "id": "hrpVcbmB4BUz"
      }
    },
    {
      "cell_type": "markdown",
      "source": [
        "In this possible solution, we simply adjust the number of output layers from both the first and second linear layers."
      ],
      "metadata": {
        "id": "jVvVI7kd0gUM"
      }
    },
    {
      "cell_type": "code",
      "source": [
        "class CNNReduced(CNN):\n",
        "    def __init__(self, num_input_time_steps=1, print_feature_dimension=False):\n",
        "        \"\"\"\n",
        "        inputs\n",
        "        -------\n",
        "            num_input_time_steps        (int) : the number of input time\n",
        "                                                steps in the predictor\n",
        "            print_feature_dimension    (bool) : whether or not to print\n",
        "                                                out the dimension of the features\n",
        "                                                extracted from the conv layers\n",
        "        \"\"\"\n",
        "        super(CNNReduced, self).__init__()\n",
        "        self.conv1 = nn.Conv2d(num_input_time_steps, 6, 3)\n",
        "        self.pool = nn.MaxPool2d(2, 2)\n",
        "        self.conv2 = nn.Conv2d(6, 16, 5)\n",
        "        self.print_layer = Print()\n",
        "\n",
        "        #TIP: print out the dimension of the extracted features from\n",
        "        #the conv layers for setting the dimension of the linear layer!\n",
        "        #Using the print_layer, we find that the dimensions are\n",
        "        #(batch_size, 16, 42, 87)\n",
        "        self.fc1 = nn.Linear(16 * 42 * 87, 80)\n",
        "        self.fc2 = nn.Linear(80, 42)\n",
        "        self.fc3 = nn.Linear(42, 1)\n",
        "        self.print_feature_dimension = print_feature_dimension\n",
        "\n",
        "    def forward(self, x):\n",
        "        x = self.pool(F.relu(self.conv1(x)))\n",
        "        x = self.pool(F.relu(self.conv2(x)))\n",
        "        if self.print_feature_dimension:\n",
        "          x = self.print_layer(x)\n",
        "        x = x.view(-1, 16 * 42 * 87)\n",
        "        x = F.relu(self.fc1(x))\n",
        "        x = F.relu(self.fc2(x))\n",
        "        x = self.fc3(x)\n",
        "        return x"
      ],
      "metadata": {
        "id": "vikGMt153dev"
      },
      "execution_count": null,
      "outputs": []
    },
    {
      "cell_type": "code",
      "source": [
        "net_reduced = CNNReduced(num_input_time_steps=num_input_time_steps)\n",
        "summary(net_reduced)"
      ],
      "metadata": {
        "id": "s9mJLpbbI_N5"
      },
      "execution_count": null,
      "outputs": []
    },
    {
      "cell_type": "code",
      "source": [
        "optimizer = optim.Adam(net_reduced.parameters(), lr=0.0001)\n",
        "\n",
        "experiment_name = \"reducedParametersCNN_{}_{}\".format(train_start_date, train_end_date)\n",
        "predictions, train_losses, test_losses = train_network(net_reduced, nn.MSELoss(),\n",
        "                  optimizer, trainloader, testloader, experiment_name)"
      ],
      "metadata": {
        "id": "EeSDRu-m31KD"
      },
      "execution_count": null,
      "outputs": []
    },
    {
      "cell_type": "code",
      "source": [
        "plt.plot(train_losses, label='Train Loss')\n",
        "plt.plot(test_losses, label='Test Loss')\n",
        "plt.xlabel('Epoch')\n",
        "plt.ylabel('Loss')\n",
        "plt.title('Performance of {} Neural Network During Training'.format(experiment_name))\n",
        "plt.legend(loc='best')\n",
        "plt.show()"
      ],
      "metadata": {
        "id": "c9up4bF74AzD"
      },
      "execution_count": null,
      "outputs": []
    },
    {
      "cell_type": "code",
      "source": [
        "corr, _ = pearsonr(test_predictands, predictions)\n",
        "rmse = mean_squared_error(test_predictands, predictions) ** 0.5\n",
        "plot_nino_time_series(\n",
        "    test_predictands,\n",
        "    predictions,\n",
        "    '{} Predictions. Corr: {:3f}. RMSE: {:3f}.'.format(experiment_name, corr, rmse)\n",
        "    )"
      ],
      "metadata": {
        "id": "pCuthAqnJTch"
      },
      "execution_count": null,
      "outputs": []
    },
    {
      "cell_type": "markdown",
      "source": [
        "We see that this new architecture lowered the losses on the validation set and also lowered our RMSE by about 0.03."
      ],
      "metadata": {
        "id": "8GKHkEk5L2-d"
      }
    },
    {
      "cell_type": "markdown",
      "metadata": {
        "id": "JxSnjZrjuKti"
      },
      "source": [
        "## Exercise 3\n",
        "\n",
        "⭐ **Your turn!:** Try using traditional ML models from sklearn for this task.  Note that these algorithms do not take advantage of the spatial nature of gridded datasets.  Therefore, they require the `data_format` argument to be set to 'flatten': the predictors are in the shape `(num_samples,lat*lon*num_time_steps)`."
      ]
    },
    {
      "cell_type": "code",
      "source": [
        "train_start_date = '1990-01-01'\n",
        "train_end_date = '2005-12-31'\n",
        "num_input_time_steps = 1\n",
        "lead_time = 2 #change this and explore what happens!\n",
        "train_predictors, train_predictands = assemble_predictors_predictands(train_start_date,\n",
        "                      train_end_date, lead_time, 'observations', 'flatten',\n",
        "                      num_input_time_steps=num_input_time_steps)\n",
        "test_predictors, test_predictands = assemble_predictors_predictands('2007-01-01',\n",
        "                    '2017-12-31', lead_time, 'observations', 'flatten',\n",
        "                    num_input_time_steps=num_input_time_steps)"
      ],
      "metadata": {
        "id": "HrB8bYVJQxSx"
      },
      "execution_count": null,
      "outputs": []
    },
    {
      "cell_type": "code",
      "source": [
        "# use sklearn's linear regression algorithm\n",
        "regr_1_month_lr = ### YOUR CODE HERE ###\n",
        "regr_1_month_lr.fit(### YOUR CODE HERE ###)\n",
        "\n",
        "sklearn_predictions = regr_1_month_lr.predict(test_predictors)\n",
        "corr, _ = scipy.stats.pearsonr(sklearn_predictions, test_predictands)\n",
        "rmse = mean_squared_error(sklearn_predictions, test_predictands)\n",
        "plot_nino_time_series(test_predictands, sklearn_predictions,\n",
        "    'Linear Regression Predicted and True Nino3.4 Indices on Test Set \\\n",
        "    at {} Month Lead Time. Corr: {:.2f}. RMSE: {:.2f}'.format(lead_time, corr, rmse))"
      ],
      "metadata": {
        "id": "AfqGYsldRZiP"
      },
      "execution_count": null,
      "outputs": []
    },
    {
      "cell_type": "code",
      "source": [
        "# now try using sklearn's random forest regression algorithm\n",
        "# HINT: you may need to play around with the algorithm's hyperparameters\n",
        "regr_1_month_rf = ### YOUR CODE HERE ###\n",
        "regr_1_month_rf.fit(### YOUR CODE HERE ###)\n",
        "\n",
        "sklearn_predictions_rf = regr_1_month_rf.predict(test_predictors)\n",
        "corr, _ = scipy.stats.pearsonr(sklearn_predictions_rf, test_predictands)\n",
        "rmse = mean_squared_error(sklearn_predictions_rf, test_predictands)\n",
        "plot_nino_time_series(test_predictands, sklearn_predictions_rf,\n",
        "    'Random Forest Predicted and True Nino3.4 Indices on Test Set \\\n",
        "    at {} Month Lead Time. Corr: {:.2f}. RMSE: {:.2f}'.format(lead_time, corr, rmse))"
      ],
      "metadata": {
        "id": "1VNOeeQKRgRl"
      },
      "execution_count": null,
      "outputs": []
    },
    {
      "cell_type": "markdown",
      "source": [
        "### Solution"
      ],
      "metadata": {
        "id": "UIrKNkiORXMY"
      }
    },
    {
      "cell_type": "code",
      "metadata": {
        "id": "k7cM11FpuT6u"
      },
      "source": [
        "# use sklearn's linear regression algorithm\n",
        "regr_1_month_lr = sklearn.linear_model.LinearRegression()\n",
        "regr_1_month_lr.fit(train_predictors, train_predictands)\n",
        "\n",
        "sklearn_predictions = regr_1_month_lr.predict(test_predictors)\n",
        "corr, _ = scipy.stats.pearsonr(sklearn_predictions, test_predictands)\n",
        "rmse = mean_squared_error(sklearn_predictions, test_predictands)\n",
        "plot_nino_time_series(test_predictands, sklearn_predictions,\n",
        "    'Linear Regression Predicted and True Nino3.4 Indices on Test Set \\\n",
        "    at {} Month Lead Time. Corr: {:.2f}. RMSE: {:.2f}'.format(lead_time, corr, rmse))"
      ],
      "execution_count": null,
      "outputs": []
    },
    {
      "cell_type": "code",
      "source": [
        "# now try using sklearn's random forest regression algorithm\n",
        "regr_1_month_rf = sklearn.ensemble.RandomForestRegressor(max_depth=2, random_state=0)\n",
        "regr_1_month_rf.fit(train_predictors, train_predictands)\n",
        "\n",
        "sklearn_predictions_rf = regr_1_month_rf.predict(test_predictors)\n",
        "corr, _ = scipy.stats.pearsonr(sklearn_predictions_rf, test_predictands)\n",
        "rmse = mean_squared_error(sklearn_predictions_rf, test_predictands)\n",
        "plot_nino_time_series(test_predictands, sklearn_predictions_rf,\n",
        "    'Random Forest Predicted and True Nino3.4 Indices on Test Set \\\n",
        "    at {} Month Lead Time. Corr: {:.2f}. RMSE: {:.2f}'.format(lead_time, corr, rmse))"
      ],
      "metadata": {
        "id": "dZiIbq0INeED"
      },
      "execution_count": null,
      "outputs": []
    },
    {
      "cell_type": "markdown",
      "source": [
        "We see significantly better performance with the random forest model!"
      ],
      "metadata": {
        "id": "Jo5F7ORoRsNv"
      }
    },
    {
      "cell_type": "markdown",
      "metadata": {
        "id": "F2B_EaPZuW6F"
      },
      "source": [
        "## Challenge Exercise: What data sources improve the ML algorithm? What data sources do not improve the ML algorithm?\n",
        "\n",
        "Let's try training our ENSO forecasting model on old data (i.e. early 1900s) from the Cobe SST dataset.  There is significantly more uncertainty with this data than there is with newer data, since the advent of remote sensing and data sources has improved.\n",
        "\n",
        "**GOAL OF THIS EXERCISE**: generate two plots: one showing the time series of predicted and true Niño3.4 indices with an ML model trained on 1900-1930 data.  The other should show the same (time series of prediced and true Niño3.4 indices with a model trained on 1975-2005 data.  (Both trained algorithms should be tested on data from 2007-2018.)"
      ]
    },
    {
      "cell_type": "code",
      "metadata": {
        "id": "AS4vqAXbulCv"
      },
      "source": [
        "for train_start_date, train_end_date in [(\"1900-01-01\", \"1930-12-31\"), (\"1975-01-01\", \"2005-12-31\")]:\n",
        "  \"\"\"YOUR CODE HERE\"\"\"\n",
        "  #Replicate the logic in the Exercise 1 and Exercise 2 to explore\n",
        "  #how well a CNN or traditional ML model does with the start\n",
        "  #and end dates defined above!  Plot the performance of the models!"
      ],
      "execution_count": null,
      "outputs": []
    },
    {
      "cell_type": "markdown",
      "metadata": {
        "id": "a4dHUkCuuBR2"
      },
      "source": [
        "## Challenge Exercise: Data wrangling: Do machine learning algorithms perform better with a classification problem or regression problem?\n",
        "\n",
        "Convert the problem from regression (predicting a continuous value) to classification (predicting a discrete value).  In this case, the continuous value is the exact value of the Niño3.4 index.  \n",
        "\n",
        "Let's bin the Niño3.4 index to two values: 0 and 1.  Let's say negative values of the Niño3.4 index should be mapped to 0 and positive values of the index should be mapped to 1.\n",
        "\n",
        "### Goal of the exercise:\n",
        "\n",
        "Train a neural network and an sklearn logistic regression model to predict 0 or 1 corresponding to the mapping above!  Try changing the neural network's loss function from `nn.MSELoss` to `nn.BCEWithLogitsLoss`!"
      ]
    },
    {
      "cell_type": "code",
      "metadata": {
        "id": "JBSs8L36usR3"
      },
      "source": [
        "#1.Adjust the train_network method so that the target is always 0 or 1. Maybe add an\n",
        "# argument called \"classification\" that takes in a boolean value indicating\n",
        "# whether or not to map the target to 0 or 1.\n",
        "#2. Change the loss function of the neural network\n",
        "#3. Run the train_network method to get the neural network predictions\n",
        "#4. You will have to write your own code to calculate the accuracy of these predictions!"
      ],
      "execution_count": null,
      "outputs": []
    },
    {
      "cell_type": "markdown",
      "metadata": {
        "id": "e539brs4vPr3"
      },
      "source": [
        "# Challenge Exercise: Get the best ENSO forecasting algorithm!  (Tip: check out ensembling between algorithms and try hyperparameter tuning.)\n",
        "\n",
        "Do deeper neural networks with more convolutional layers help?\n",
        "Try changing the hyperparameters of the neural network\n",
        "\n",
        "*   learning rate\n",
        "*   the choice of optimizer\n",
        "*   the size of the convolution filters\n",
        "*   the number of convolution filters\n",
        "*   the number of weights in the fully connected layers\n",
        "\n",
        "There are other data preprocessing parameters that may improve the performance of your forecasting algorithm:\n",
        "\n",
        "*  training your ML model on a specific latitude or longitude \"slice\", as opposed to the whole globe\n",
        "*  Ensembling predictions from multiple different algorithms! For example, you could average the prediction from random forests, artificial neural networks,  convolutional neural networks, and/ or any other machine learning model .\n",
        "\n",
        "Recall from the previous notebook: models with many parameters (i.e. very deep neural networks or very deep decision trees) are more likely to have very low bias and very high variance: they will likely overfit!"
      ]
    },
    {
      "cell_type": "markdown",
      "metadata": {
        "id": "n6FEoPDSvUzu"
      },
      "source": [
        "\n",
        "*Develop a Nino3.4 Forecasting system for a lead_time of 5 months?* If you would like, submit your results to the kaggle link:\n",
        "\n",
        "Details of the kaggle competition: just like in the first code cell, we will test our code on data from 2007-01-01 to 2017-12-31.  The data loader is reproduced below!  There are 131 predictor/predictand pairs between these dates.  Therefore, your entry should be exactly 131 numbers!  "
      ]
    },
    {
      "cell_type": "markdown",
      "metadata": {
        "id": "0nT6jORcHlb_"
      },
      "source": [
        "## Ultimate Submission Code"
      ]
    },
    {
      "cell_type": "code",
      "metadata": {
        "id": "nF1mnncnvW-u"
      },
      "source": [
        "#Select the data parameters for your model(s)!\n",
        "lead_time = 5\n",
        "data_format = raise NotImplementedError(\"Select a data format for your kaggle entry! See docstring of `assemble_predictors_predictands` for description of data_format.\")\n",
        "lat_slice = raise NotImplementedError(\"Select a lat slice for your kaggle entry!\")\n",
        "lon_slice = raise NotImplementedError(\"Select a lon slice for your kaggle entry!\")\n",
        "num_input_time_steps = 3 #Do not change this!\n",
        "use_pca = raise NotImplementedError(\"You decide if you would like to use PCA on the input predictors!\")\n",
        "n_components = raise NotImplementedError(\"If use_pca=True, You decide how many principal components to use on the input predictors!\")\n",
        "train_predictors, train_predictands = \"\"\"YOUR CODE HERE: assemble predictors predictands how you see fit\"\"\"\n",
        "\n",
        "train_predictors, train_predictands = assemble_predictors_predictands('YOUR CHOICE OF START DATE',\n",
        "                    'YOUR CHOICE OF END DATE', lead_time=5, dataset='observations',\n",
        "                    data_format=data_format, num_input_time_steps=num_input_time_steps,\n",
        "                    use_pca=use_pca, n_components=n_components)\n",
        "#Do not change the line below for your kaggle submission\n",
        "test_predictors, test_predictands = assemble_predictors_predictands('2007-01-01',\n",
        "                    '2017-12-31', lead_time=5, dataset='observations',\n",
        "                    data_format=data_format, num_input_time_steps=num_input_time_steps,\n",
        "                    use_pca=use_pca, n_components=n_components)\n",
        "\n",
        "#If using deep learning:\n",
        "# create an ENSODataset and DataLoader\n",
        "#object (see code cell in Exercise 1) and use the `train_network` method to\n",
        "#extract predictions!\n",
        "train_dataset = ENSODataset(train_predictors, train_predictands)\n",
        "test_dataset = ENSODataset(test_predictors, test_predictands)\n",
        "trainloader = DataLoader(train_dataset, batch_size=10)\n",
        "testloader = DataLoader(test_dataset, batch_size=10)\n",
        "cnn_predictions, _, _ = train_network()\n",
        "\n",
        "\n",
        "#If using regular traditional ML with sklearn:\n",
        "sklearn_model = #choose sklearn model\n",
        "sklearn_model.fit(train_predictors,train_predictands)\n",
        "\n",
        "sklearn_predictions = sklearn_model.predict(test_predictors)\n",
        "\n",
        "\n",
        "#Ensemble predictions from multiple algorithms\n",
        "#(i.e. take the average of predictions from multiple algorithms!)\n",
        "predictions = (cnn_predictions +sklearn_predictions)/2.0\n",
        "\n"
      ],
      "execution_count": null,
      "outputs": []
    },
    {
      "cell_type": "code",
      "metadata": {
        "id": "Y0hwX39Kvb1S"
      },
      "source": [
        "#TO GENERATE A kaggle READY SUBMISSION:\n",
        "import pandas as pd\n",
        "submission_df = pd.DataFrame()\n",
        "submission_df['Id'] = np.arange(130)\n",
        "submission_df['Predicted'] = np.random.uniform(size=(130)) #replace with your predictions!\n",
        "submission_df.to_csv('submission.csv',index=False)\n",
        "from google.colab import files\n",
        "files.download('submission.csv')"
      ],
      "execution_count": null,
      "outputs": []
    },
    {
      "cell_type": "markdown",
      "source": [
        "#Challenge Exercise:  Do climate models serve as a source of training data?\n",
        "\n",
        "A paper by [Ham et. al.](https://www.nature.com/articles/s41586-019-1559-7) trains a convolutional neural network to forecast ENSO, and it trains the model on both observations and **simulations from the Climate Model Intercomparison Project** (CMIP).\n",
        "\n",
        "Note: this is meant to be an open-ended (and time-consuming) challenge to undergo after the tutorial ends! Try the following process:\n",
        "\n",
        "\n",
        "1.   Download a given model's simulations from CMIP5 or CMIP6: the desired variable is \"sst,\" because that is the observation variable that we use.\n",
        "2.   Regrid the model resolution to 180 x 360: xESMF is a great package for regridding\n",
        "3.   Include the regridded data into the training workflow.  See the `dataset` parameter of `assemble_predictors_predictands` for a possible way to include simulated data into the dataloading and training workflow.\n",
        "\n",
        "If you would like to use preprocessed model data (skipping steps 1 and 2), I have prepared some available through the lines below.  Please note that these models use `tas` (surface temperature), not `sst` (sea surface temperature). `tas` is a different input variable and includes temperatures over land as input.\n",
        "\n"
      ],
      "metadata": {
        "id": "dR5-6qKLRx9J"
      }
    },
    {
      "cell_type": "code",
      "source": [
        "#Download CNRM tas anomalies\n",
        "!gdown 1ecrHyViNi6GeuUpCUJVGQsxvdyxzlSnY\n"
      ],
      "metadata": {
        "id": "jZP4dJcE2Btl"
      },
      "execution_count": null,
      "outputs": []
    },
    {
      "cell_type": "code",
      "source": [
        "#Download MPI tas anomalies\n",
        "!gdown 1vhb3fnIMXa7jyt29fOpy3n0aifSOORtr"
      ],
      "metadata": {
        "id": "xJSq-UHn2qTa"
      },
      "execution_count": null,
      "outputs": []
    },
    {
      "cell_type": "markdown",
      "metadata": {
        "id": "vFElh2rYqR2_"
      },
      "source": [
        "# Additional Reading Material After This Tutorial\n",
        "\n",
        "To supplement this tutorial, I have included topics on traditional machine learning that I think are crucial for all ML practitioners in climate science to know.  \n",
        "\n",
        "1. What is boosting? Why is it necessary and how does it help? (Prof. Shewchuk pg. 147, Nasiriany pg. 169)\n",
        "\n",
        "2. How do traditional ML models work? Logistic regression (Nasiriany pg. 113), random forests (Nasiriany pg. 163), and support vector machines (Nasiriany pg. 127)\n",
        "\n",
        "3. What strategies help alleviate challenges of data being linearly inseparable? (Professor Shewchuk pg. 20) What is the kernel trick? How does it help with this challenge? (Prof. Shewchuk pg. 76)\n",
        "\n",
        "4. Gradient Descent and Newton's method (Nasiriany pg. 82 and 93)"
      ]
    },
    {
      "cell_type": "markdown",
      "source": [
        "# Challenge Exercise: Physical Interpretability\n",
        "\n",
        "One important aspect of machine learning in climate science is physical interpretability!  We want to understand what our model is doing under the hood as well as possible.  Why is the model making its predictions?  What information is it using to make them.  In linear regression, one way to interpret the model is to visualize the learned regression weights.\n",
        "\n",
        "In the code cells below, we train a linear regression model to predict ENSO, and then we visualize the learned regression weights."
      ],
      "metadata": {
        "id": "oWbwBYANJ24H"
      }
    },
    {
      "cell_type": "code",
      "source": [
        "X_train, y_train = assemble_basic_predictors_predictands('1990-01-01','2005-12-31',\n",
        "                                                4)\n",
        "X_test, y_test = assemble_basic_predictors_predictands('2008-01-01','2015-12-31', 4,\n",
        "                                                  )\n",
        "regr_1_month_lr = sklearn.linear_model.LinearRegression()\n",
        "regr_1_month_lr.fit(X_train,y_train)\n",
        "\n",
        "#First, let's plot the performance of the model\n",
        "predictions_test = regr_1_month_lr.predict(X_test)\n",
        "corr, _ = scipy.stats.pearsonr(predictions_test, y_test)\n",
        "plot_nino_time_series(y_test, predictions_test,\n",
        "    'Predicted and True Nino3.4 Indices on Test Set \\\n",
        "    at 4 Month Lead Time. Corr: {:.2f}'.format(corr))\n"
      ],
      "metadata": {
        "id": "NHdR1RR2CVSI"
      },
      "execution_count": null,
      "outputs": []
    },
    {
      "cell_type": "code",
      "source": [
        "#The weights have shape (64800,) because the 2D (lat x lon) field\n",
        "#has been flattened into a 1D vector in order to perform linear regression\n",
        "#To visualize the weights, we set them back into (lat x lon) field\n",
        "#to see the spatial distribution of the weights\n",
        "regr_1_month_lr_weights = regr_1_month_lr.coef_.reshape((180,360))\n",
        "\n",
        "plt.imshow(regr_1_month_lr_weights, cmap='bwr', vmin=-0.004, vmax=0.004)\n",
        "cb = plt.colorbar()\n",
        "cb.set_label(\"Learned Linear Regression Weights\")"
      ],
      "metadata": {
        "id": "tFlzQ5aKD9At"
      },
      "execution_count": null,
      "outputs": []
    },
    {
      "cell_type": "markdown",
      "source": [
        "**Try to use other physical interpretability methods for other ML models (e.g. neural networks or random forests)**.  For neural networks, one example of a method is Layerwise Relevance Propogation.  See  [Barnes et. al.](https://agupubs.onlinelibrary.wiley.com/doi/pdfdirect/10.1029/2019GL084944) and [Toms et. al](https://agupubs.onlinelibrary.wiley.com/doi/pdf/10.1029/2019MS002002) for a demonstration of this method in climate science, related to climate change and climate variability.\n",
        "\n",
        " See this paper from [Mamalakis et. al](https://arxiv.org/ftp/arxiv/papers/2103/2103.10005.pdf). for an overview and comparison of different physical interpretability methods that could be used in an ML for climate science problem.\n",
        "\n",
        "How do the physical interpretability methods compare to visualizing the linear regression weights?  Why might this be the case"
      ],
      "metadata": {
        "id": "MCz0LxkDvqq-"
      }
    },
    {
      "cell_type": "markdown",
      "metadata": {
        "id": "3rhiE9DtqVUU"
      },
      "source": [
        "# Additional Problems\n",
        "\n",
        "1. Classification vs. Regression!  In this notebook, we treated ENSO forecasting as a regression problem.  When the Nino3.4 Index is above 0.5 for 5 consecutive months, then there is an El Nino. When the Nino3.4 Index is below 0.5 for 5 consecutive months, then there is an La Nina. The lines of code below implement this labelling.\n",
        "```\n",
        "_, y = assemble_predictors_predictands('1990-01-01','2005-12-31',1)\n",
        "y_el_nino_binary = (y > 0.5).rolling(window=5).min()\n",
        "y_la_nina_binary = (y < 0.5).rolling(window=5).min()\n",
        "y_classification = pd.Series(np.zeros(y_el_nino_binary.shape),\n",
        "                        index=y.index)\n",
        "y_classification[y_el_nino_binary == 1.0] = 2\n",
        "y_classification[y_la_nina_binary == 1.0] = 1                   \n",
        "```\n",
        "```y_classification``` has three values (2,1,0), indicating if the event is El Nino, La Nina, or neither.  In this notebook, we have treated ```y``` has a continuous value.  If we treat it as a discrete value, can we use linear classifiers to forecast ENSO more accurately? If we treat it as a discrete value, can we use deep learning classifiers to forecast ENSO more accurately?\n",
        "\n",
        "2. Read about decision trees and random forests on page 163 of Nasiriany's notes and 81 of Professor Shewchuk's notes.  Compare the minimization problem of linear regression to that of random forests.  Implement a decision tree and a random forest from scratch.  Using the decision tree and the random forest that you implement, try to forecast ENSO! How do these models perform compare to the models we used in this tutorial?\n"
      ]
    },
    {
      "cell_type": "code",
      "metadata": {
        "id": "ktOqE6LQqSTB"
      },
      "source": [],
      "execution_count": null,
      "outputs": []
    }
  ]
}